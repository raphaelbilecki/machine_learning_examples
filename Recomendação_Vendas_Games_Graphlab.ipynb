{
  "nbformat": 4,
  "nbformat_minor": 0,
  "metadata": {
    "accelerator": "TPU",
    "colab": {
      "name": "Copy of Recomendação Varejo Graphlab_Mat.ipynb",
      "provenance": [],
      "collapsed_sections": [],
      "toc_visible": true,
      "include_colab_link": true
    },
    "kernelspec": {
      "display_name": "Python 3",
      "name": "python3"
    }
  },
  "cells": [
    {
      "cell_type": "markdown",
      "metadata": {
        "id": "view-in-github",
        "colab_type": "text"
      },
      "source": [
        "<a href=\"https://colab.research.google.com/github/raphaelbilecki/machine_learning_examples/blob/master/Recomenda%C3%A7%C3%A3o_Vendas_Games_Graphlab.ipynb\" target=\"_parent\"><img src=\"https://colab.research.google.com/assets/colab-badge.svg\" alt=\"Open In Colab\"/></a>"
      ]
    },
    {
      "cell_type": "code",
      "metadata": {
        "colab": {
          "base_uri": "https://localhost:8080/"
        },
        "id": "TDnD44PVhJCE",
        "outputId": "92de3455-2e23-4d7a-903f-b4c4761db82a"
      },
      "source": [
        "!pip install -U turicreate"
      ],
      "execution_count": null,
      "outputs": [
        {
          "output_type": "stream",
          "text": [
            "Collecting turicreate\n",
            "\u001b[?25l  Downloading https://files.pythonhosted.org/packages/25/9f/a76acc465d873d217f05eac4846bd73d640b9db6d6f4a3c29ad92650fbbe/turicreate-6.4.1-cp37-cp37m-manylinux1_x86_64.whl (92.0MB)\n",
            "\u001b[K     |████████████████████████████████| 92.0MB 43kB/s \n",
            "\u001b[?25hRequirement already satisfied, skipping upgrade: requests>=2.9.1 in /usr/local/lib/python3.7/dist-packages (from turicreate) (2.23.0)\n",
            "Collecting coremltools==3.3\n",
            "\u001b[?25l  Downloading https://files.pythonhosted.org/packages/1b/1d/b1a99beca7355b6a026ae61fd8d3d36136e5b36f13e92ec5f81aceffc7f1/coremltools-3.3-cp37-none-manylinux1_x86_64.whl (3.5MB)\n",
            "\u001b[K     |████████████████████████████████| 3.5MB 32.7MB/s \n",
            "\u001b[?25hRequirement already satisfied, skipping upgrade: decorator>=4.0.9 in /usr/local/lib/python3.7/dist-packages (from turicreate) (4.4.2)\n",
            "Requirement already satisfied, skipping upgrade: pandas>=0.23.2 in /usr/local/lib/python3.7/dist-packages (from turicreate) (1.1.5)\n",
            "Requirement already satisfied, skipping upgrade: pillow>=5.2.0 in /usr/local/lib/python3.7/dist-packages (from turicreate) (7.1.2)\n",
            "Requirement already satisfied, skipping upgrade: scipy>=1.1.0 in /usr/local/lib/python3.7/dist-packages (from turicreate) (1.4.1)\n",
            "Collecting prettytable==0.7.2\n",
            "  Downloading https://files.pythonhosted.org/packages/ef/30/4b0746848746ed5941f052479e7c23d2b56d174b82f4fd34a25e389831f5/prettytable-0.7.2.tar.bz2\n",
            "Collecting numba<0.51.0\n",
            "\u001b[?25l  Downloading https://files.pythonhosted.org/packages/04/be/8c88cee3366de2a3a23a9ff1a8be34e79ad1eb1ceb0d0e33aca83655ac3c/numba-0.50.1-cp37-cp37m-manylinux2014_x86_64.whl (3.6MB)\n",
            "\u001b[K     |████████████████████████████████| 3.6MB 22.3MB/s \n",
            "\u001b[?25hCollecting resampy==0.2.1\n",
            "\u001b[?25l  Downloading https://files.pythonhosted.org/packages/14/b6/66a06d85474190b50aee1a6c09cdc95bb405ac47338b27e9b21409da1760/resampy-0.2.1.tar.gz (322kB)\n",
            "\u001b[K     |████████████████████████████████| 327kB 44.2MB/s \n",
            "\u001b[?25hCollecting tensorflow<2.1.0,>=2.0.0\n",
            "\u001b[?25l  Downloading https://files.pythonhosted.org/packages/3c/b3/3eeae9bc44039ceadceac0c7ba1cc8b1482b172810b3d7624a1cad251437/tensorflow-2.0.4-cp37-cp37m-manylinux2010_x86_64.whl (86.4MB)\n",
            "\u001b[K     |████████████████████████████████| 86.4MB 50kB/s \n",
            "\u001b[?25hRequirement already satisfied, skipping upgrade: six>=1.10.0 in /usr/local/lib/python3.7/dist-packages (from turicreate) (1.15.0)\n",
            "Requirement already satisfied, skipping upgrade: numpy in /usr/local/lib/python3.7/dist-packages (from turicreate) (1.19.5)\n",
            "Requirement already satisfied, skipping upgrade: certifi>=2017.4.17 in /usr/local/lib/python3.7/dist-packages (from requests>=2.9.1->turicreate) (2020.12.5)\n",
            "Requirement already satisfied, skipping upgrade: chardet<4,>=3.0.2 in /usr/local/lib/python3.7/dist-packages (from requests>=2.9.1->turicreate) (3.0.4)\n",
            "Requirement already satisfied, skipping upgrade: urllib3!=1.25.0,!=1.25.1,<1.26,>=1.21.1 in /usr/local/lib/python3.7/dist-packages (from requests>=2.9.1->turicreate) (1.24.3)\n",
            "Requirement already satisfied, skipping upgrade: idna<3,>=2.5 in /usr/local/lib/python3.7/dist-packages (from requests>=2.9.1->turicreate) (2.10)\n",
            "Requirement already satisfied, skipping upgrade: protobuf>=3.1.0 in /usr/local/lib/python3.7/dist-packages (from coremltools==3.3->turicreate) (3.12.4)\n",
            "Requirement already satisfied, skipping upgrade: python-dateutil>=2.7.3 in /usr/local/lib/python3.7/dist-packages (from pandas>=0.23.2->turicreate) (2.8.1)\n",
            "Requirement already satisfied, skipping upgrade: pytz>=2017.2 in /usr/local/lib/python3.7/dist-packages (from pandas>=0.23.2->turicreate) (2018.9)\n",
            "Requirement already satisfied, skipping upgrade: setuptools in /usr/local/lib/python3.7/dist-packages (from numba<0.51.0->turicreate) (56.1.0)\n",
            "Collecting llvmlite<0.34,>=0.33.0.dev0\n",
            "\u001b[?25l  Downloading https://files.pythonhosted.org/packages/0a/28/0a35b3c2685bf2ea327cef5577bdf91f387f0f4594417a2a05a1d42fb7c2/llvmlite-0.33.0-cp37-cp37m-manylinux1_x86_64.whl (18.3MB)\n",
            "\u001b[K     |████████████████████████████████| 18.3MB 248kB/s \n",
            "\u001b[?25hRequirement already satisfied, skipping upgrade: keras-preprocessing>=1.0.5 in /usr/local/lib/python3.7/dist-packages (from tensorflow<2.1.0,>=2.0.0->turicreate) (1.1.2)\n",
            "Requirement already satisfied, skipping upgrade: grpcio>=1.8.6 in /usr/local/lib/python3.7/dist-packages (from tensorflow<2.1.0,>=2.0.0->turicreate) (1.32.0)\n",
            "Requirement already satisfied, skipping upgrade: h5py<=2.10.0 in /usr/local/lib/python3.7/dist-packages (from tensorflow<2.1.0,>=2.0.0->turicreate) (2.10.0)\n",
            "Requirement already satisfied, skipping upgrade: absl-py>=0.7.0 in /usr/local/lib/python3.7/dist-packages (from tensorflow<2.1.0,>=2.0.0->turicreate) (0.12.0)\n",
            "Requirement already satisfied, skipping upgrade: wrapt>=1.11.1 in /usr/local/lib/python3.7/dist-packages (from tensorflow<2.1.0,>=2.0.0->turicreate) (1.12.1)\n",
            "Collecting tensorboard<2.1.0,>=2.0.0\n",
            "\u001b[?25l  Downloading https://files.pythonhosted.org/packages/76/54/99b9d5d52d5cb732f099baaaf7740403e83fe6b0cedde940fabd2b13d75a/tensorboard-2.0.2-py3-none-any.whl (3.8MB)\n",
            "\u001b[K     |████████████████████████████████| 3.8MB 26.4MB/s \n",
            "\u001b[?25hCollecting gast==0.2.2\n",
            "  Downloading https://files.pythonhosted.org/packages/4e/35/11749bf99b2d4e3cceb4d55ca22590b0d7c2c62b9de38ac4a4a7f4687421/gast-0.2.2.tar.gz\n",
            "Requirement already satisfied, skipping upgrade: termcolor>=1.1.0 in /usr/local/lib/python3.7/dist-packages (from tensorflow<2.1.0,>=2.0.0->turicreate) (1.1.0)\n",
            "Collecting keras-applications>=1.0.8\n",
            "\u001b[?25l  Downloading https://files.pythonhosted.org/packages/71/e3/19762fdfc62877ae9102edf6342d71b28fbfd9dea3d2f96a882ce099b03f/Keras_Applications-1.0.8-py3-none-any.whl (50kB)\n",
            "\u001b[K     |████████████████████████████████| 51kB 6.4MB/s \n",
            "\u001b[?25hCollecting tensorflow-estimator<2.1.0,>=2.0.0\n",
            "\u001b[?25l  Downloading https://files.pythonhosted.org/packages/fc/08/8b927337b7019c374719145d1dceba21a8bb909b93b1ad6f8fb7d22c1ca1/tensorflow_estimator-2.0.1-py2.py3-none-any.whl (449kB)\n",
            "\u001b[K     |████████████████████████████████| 450kB 52.6MB/s \n",
            "\u001b[?25hRequirement already satisfied, skipping upgrade: astor>=0.6.0 in /usr/local/lib/python3.7/dist-packages (from tensorflow<2.1.0,>=2.0.0->turicreate) (0.8.1)\n",
            "Requirement already satisfied, skipping upgrade: google-pasta>=0.1.6 in /usr/local/lib/python3.7/dist-packages (from tensorflow<2.1.0,>=2.0.0->turicreate) (0.2.0)\n",
            "Requirement already satisfied, skipping upgrade: wheel>=0.26; python_version >= \"3\" in /usr/local/lib/python3.7/dist-packages (from tensorflow<2.1.0,>=2.0.0->turicreate) (0.36.2)\n",
            "Requirement already satisfied, skipping upgrade: opt-einsum>=2.3.2 in /usr/local/lib/python3.7/dist-packages (from tensorflow<2.1.0,>=2.0.0->turicreate) (3.3.0)\n",
            "Requirement already satisfied, skipping upgrade: google-auth<2,>=1.6.3 in /usr/local/lib/python3.7/dist-packages (from tensorboard<2.1.0,>=2.0.0->tensorflow<2.1.0,>=2.0.0->turicreate) (1.30.0)\n",
            "Requirement already satisfied, skipping upgrade: google-auth-oauthlib<0.5,>=0.4.1 in /usr/local/lib/python3.7/dist-packages (from tensorboard<2.1.0,>=2.0.0->tensorflow<2.1.0,>=2.0.0->turicreate) (0.4.4)\n",
            "Requirement already satisfied, skipping upgrade: werkzeug>=0.11.15 in /usr/local/lib/python3.7/dist-packages (from tensorboard<2.1.0,>=2.0.0->tensorflow<2.1.0,>=2.0.0->turicreate) (2.0.0)\n",
            "Requirement already satisfied, skipping upgrade: markdown>=2.6.8 in /usr/local/lib/python3.7/dist-packages (from tensorboard<2.1.0,>=2.0.0->tensorflow<2.1.0,>=2.0.0->turicreate) (3.3.4)\n",
            "Requirement already satisfied, skipping upgrade: pyasn1-modules>=0.2.1 in /usr/local/lib/python3.7/dist-packages (from google-auth<2,>=1.6.3->tensorboard<2.1.0,>=2.0.0->tensorflow<2.1.0,>=2.0.0->turicreate) (0.2.8)\n",
            "Requirement already satisfied, skipping upgrade: cachetools<5.0,>=2.0.0 in /usr/local/lib/python3.7/dist-packages (from google-auth<2,>=1.6.3->tensorboard<2.1.0,>=2.0.0->tensorflow<2.1.0,>=2.0.0->turicreate) (4.2.2)\n",
            "Requirement already satisfied, skipping upgrade: rsa<5,>=3.1.4; python_version >= \"3.6\" in /usr/local/lib/python3.7/dist-packages (from google-auth<2,>=1.6.3->tensorboard<2.1.0,>=2.0.0->tensorflow<2.1.0,>=2.0.0->turicreate) (4.7.2)\n",
            "Requirement already satisfied, skipping upgrade: requests-oauthlib>=0.7.0 in /usr/local/lib/python3.7/dist-packages (from google-auth-oauthlib<0.5,>=0.4.1->tensorboard<2.1.0,>=2.0.0->tensorflow<2.1.0,>=2.0.0->turicreate) (1.3.0)\n",
            "Requirement already satisfied, skipping upgrade: importlib-metadata; python_version < \"3.8\" in /usr/local/lib/python3.7/dist-packages (from markdown>=2.6.8->tensorboard<2.1.0,>=2.0.0->tensorflow<2.1.0,>=2.0.0->turicreate) (4.0.1)\n",
            "Requirement already satisfied, skipping upgrade: pyasn1<0.5.0,>=0.4.6 in /usr/local/lib/python3.7/dist-packages (from pyasn1-modules>=0.2.1->google-auth<2,>=1.6.3->tensorboard<2.1.0,>=2.0.0->tensorflow<2.1.0,>=2.0.0->turicreate) (0.4.8)\n",
            "Requirement already satisfied, skipping upgrade: oauthlib>=3.0.0 in /usr/local/lib/python3.7/dist-packages (from requests-oauthlib>=0.7.0->google-auth-oauthlib<0.5,>=0.4.1->tensorboard<2.1.0,>=2.0.0->tensorflow<2.1.0,>=2.0.0->turicreate) (3.1.0)\n",
            "Requirement already satisfied, skipping upgrade: zipp>=0.5 in /usr/local/lib/python3.7/dist-packages (from importlib-metadata; python_version < \"3.8\"->markdown>=2.6.8->tensorboard<2.1.0,>=2.0.0->tensorflow<2.1.0,>=2.0.0->turicreate) (3.4.1)\n",
            "Requirement already satisfied, skipping upgrade: typing-extensions>=3.6.4; python_version < \"3.8\" in /usr/local/lib/python3.7/dist-packages (from importlib-metadata; python_version < \"3.8\"->markdown>=2.6.8->tensorboard<2.1.0,>=2.0.0->tensorflow<2.1.0,>=2.0.0->turicreate) (3.7.4.3)\n",
            "Building wheels for collected packages: prettytable, resampy, gast\n",
            "  Building wheel for prettytable (setup.py) ... \u001b[?25l\u001b[?25hdone\n",
            "  Created wheel for prettytable: filename=prettytable-0.7.2-cp37-none-any.whl size=13700 sha256=69e0a7f128896e1437583cf3158cf1038057dba523516c4b933537241d0166a4\n",
            "  Stored in directory: /root/.cache/pip/wheels/80/34/1c/3967380d9676d162cb59513bd9dc862d0584e045a162095606\n",
            "  Building wheel for resampy (setup.py) ... \u001b[?25l\u001b[?25hdone\n",
            "  Created wheel for resampy: filename=resampy-0.2.1-cp37-none-any.whl size=320845 sha256=ef3fe91037589b603a31fcbfd3ed7ca3899c1dd111ed0c89c270152680846acd\n",
            "  Stored in directory: /root/.cache/pip/wheels/ff/4f/ed/2e6c676c23efe5394bb40ade50662e90eb46e29b48324c5f9b\n",
            "  Building wheel for gast (setup.py) ... \u001b[?25l\u001b[?25hdone\n",
            "  Created wheel for gast: filename=gast-0.2.2-cp37-none-any.whl size=7540 sha256=6bad900b3fbaf9e3b8cfc223e518de01929ad463adbe18434084605c510fbede\n",
            "  Stored in directory: /root/.cache/pip/wheels/5c/2e/7e/a1d4d4fcebe6c381f378ce7743a3ced3699feb89bcfbdadadd\n",
            "Successfully built prettytable resampy gast\n",
            "\u001b[31mERROR: tensorflow 2.0.4 has requirement numpy<1.19.0,>=1.16.0, but you'll have numpy 1.19.5 which is incompatible.\u001b[0m\n",
            "\u001b[31mERROR: tensorflow-probability 0.12.1 has requirement gast>=0.3.2, but you'll have gast 0.2.2 which is incompatible.\u001b[0m\n",
            "\u001b[31mERROR: librosa 0.8.0 has requirement resampy>=0.2.2, but you'll have resampy 0.2.1 which is incompatible.\u001b[0m\n",
            "Installing collected packages: coremltools, prettytable, llvmlite, numba, resampy, tensorboard, gast, keras-applications, tensorflow-estimator, tensorflow, turicreate\n",
            "  Found existing installation: prettytable 2.1.0\n",
            "    Uninstalling prettytable-2.1.0:\n",
            "      Successfully uninstalled prettytable-2.1.0\n",
            "  Found existing installation: llvmlite 0.34.0\n",
            "    Uninstalling llvmlite-0.34.0:\n",
            "      Successfully uninstalled llvmlite-0.34.0\n",
            "  Found existing installation: numba 0.51.2\n",
            "    Uninstalling numba-0.51.2:\n",
            "      Successfully uninstalled numba-0.51.2\n",
            "  Found existing installation: resampy 0.2.2\n",
            "    Uninstalling resampy-0.2.2:\n",
            "      Successfully uninstalled resampy-0.2.2\n",
            "  Found existing installation: tensorboard 2.4.1\n",
            "    Uninstalling tensorboard-2.4.1:\n",
            "      Successfully uninstalled tensorboard-2.4.1\n",
            "  Found existing installation: gast 0.3.3\n",
            "    Uninstalling gast-0.3.3:\n",
            "      Successfully uninstalled gast-0.3.3\n",
            "  Found existing installation: tensorflow-estimator 2.4.0\n",
            "    Uninstalling tensorflow-estimator-2.4.0:\n",
            "      Successfully uninstalled tensorflow-estimator-2.4.0\n",
            "  Found existing installation: tensorflow 2.4.1\n",
            "    Uninstalling tensorflow-2.4.1:\n",
            "      Successfully uninstalled tensorflow-2.4.1\n",
            "Successfully installed coremltools-3.3 gast-0.2.2 keras-applications-1.0.8 llvmlite-0.33.0 numba-0.50.1 prettytable-0.7.2 resampy-0.2.1 tensorboard-2.0.2 tensorflow-2.0.4 tensorflow-estimator-2.0.1 turicreate-6.4.1\n"
          ],
          "name": "stdout"
        }
      ]
    },
    {
      "cell_type": "code",
      "metadata": {
        "id": "8h4uIrZHhvRP"
      },
      "source": [
        "import turicreate as tc"
      ],
      "execution_count": null,
      "outputs": []
    },
    {
      "cell_type": "code",
      "metadata": {
        "id": "iAE0YYymml4_"
      },
      "source": [
        "import pandas as pd\n",
        "import numpy as np\n",
        "import matplotlib.pyplot as plt"
      ],
      "execution_count": null,
      "outputs": []
    },
    {
      "cell_type": "markdown",
      "metadata": {
        "id": "N3gYW52Bblel"
      },
      "source": [
        "**Dados de Clientes**"
      ]
    },
    {
      "cell_type": "code",
      "metadata": {
        "colab": {
          "base_uri": "https://localhost:8080/"
        },
        "id": "t2xqQMVwbxZ8",
        "outputId": "43d9ab2c-e530-45be-a0d5-2d86e03ce92d"
      },
      "source": [
        "piloto = pd.read_excel('/content/drive/MyDrive/Colab Notebooks/Data/Lista Pedido S&OP.xlsx',sheet_name='VAREJO T&C' )\n",
        "print('Tamanho total do dataset '+str(len(piloto)))"
      ],
      "execution_count": null,
      "outputs": [
        {
          "output_type": "stream",
          "text": [
            "Tamanho total do dataset 15835\n"
          ],
          "name": "stdout"
        }
      ]
    },
    {
      "cell_type": "code",
      "metadata": {
        "id": "AqluYGV5cnEh"
      },
      "source": [
        "piloto_cli = piloto[' Visão Grupo - Código'].unique()"
      ],
      "execution_count": null,
      "outputs": []
    },
    {
      "cell_type": "code",
      "metadata": {
        "id": "HwnVauWrcwol"
      },
      "source": [
        "piloto_cli = pd.DataFrame(piloto_cli, columns={'cliente'})"
      ],
      "execution_count": null,
      "outputs": []
    },
    {
      "cell_type": "code",
      "metadata": {
        "colab": {
          "base_uri": "https://localhost:8080/",
          "height": 204
        },
        "id": "v-8-lfL-fQDG",
        "outputId": "133b7fc5-b4cb-46cd-b194-8696f98b09e4"
      },
      "source": [
        "piloto_cli.head()"
      ],
      "execution_count": null,
      "outputs": [
        {
          "output_type": "execute_result",
          "data": {
            "text/html": [
              "<div>\n",
              "<style scoped>\n",
              "    .dataframe tbody tr th:only-of-type {\n",
              "        vertical-align: middle;\n",
              "    }\n",
              "\n",
              "    .dataframe tbody tr th {\n",
              "        vertical-align: top;\n",
              "    }\n",
              "\n",
              "    .dataframe thead th {\n",
              "        text-align: right;\n",
              "    }\n",
              "</style>\n",
              "<table border=\"1\" class=\"dataframe\">\n",
              "  <thead>\n",
              "    <tr style=\"text-align: right;\">\n",
              "      <th></th>\n",
              "      <th>cliente</th>\n",
              "    </tr>\n",
              "  </thead>\n",
              "  <tbody>\n",
              "    <tr>\n",
              "      <th>0</th>\n",
              "      <td>1087850</td>\n",
              "    </tr>\n",
              "    <tr>\n",
              "      <th>1</th>\n",
              "      <td>1114184</td>\n",
              "    </tr>\n",
              "    <tr>\n",
              "      <th>2</th>\n",
              "      <td>1148233</td>\n",
              "    </tr>\n",
              "    <tr>\n",
              "      <th>3</th>\n",
              "      <td>1060296</td>\n",
              "    </tr>\n",
              "    <tr>\n",
              "      <th>4</th>\n",
              "      <td>1140516</td>\n",
              "    </tr>\n",
              "  </tbody>\n",
              "</table>\n",
              "</div>"
            ],
            "text/plain": [
              "   cliente\n",
              "0  1087850\n",
              "1  1114184\n",
              "2  1148233\n",
              "3  1060296\n",
              "4  1140516"
            ]
          },
          "metadata": {
            "tags": []
          },
          "execution_count": 8
        }
      ]
    },
    {
      "cell_type": "markdown",
      "metadata": {
        "id": "7PCbu5DMob5Q"
      },
      "source": [
        "# Carga de Dados"
      ]
    },
    {
      "cell_type": "code",
      "metadata": {
        "id": "krErGfo8mNYd"
      },
      "source": [
        "raw_data = pd.read_excel('/content/drive/MyDrive/Colab Notebooks/Data/Dataset_MAT_CLI_2020_nov_2021_mai06 Varejo.xlsx',sheet_name='Sheet1' )\n",
        "#não deixar campos nulos ou com traço \"-\""
      ],
      "execution_count": null,
      "outputs": []
    },
    {
      "cell_type": "code",
      "metadata": {
        "id": "-dClXJxKnRUS"
      },
      "source": [
        "raw_data_copy = raw_data.copy()"
      ],
      "execution_count": null,
      "outputs": []
    },
    {
      "cell_type": "code",
      "metadata": {
        "id": "YwffaLZsLDP4"
      },
      "source": [
        "#raw_data = raw_data_copy.copy()"
      ],
      "execution_count": null,
      "outputs": []
    },
    {
      "cell_type": "code",
      "metadata": {
        "id": "PELugcknDlBM"
      },
      "source": [
        "raw_data.rename(columns={'Cliente - Código': 'cod_cli',' Material - Código':'cod_mat','Valor Receita Bruta (- Devolução)':'volume' }, inplace=True  )"
      ],
      "execution_count": null,
      "outputs": []
    },
    {
      "cell_type": "code",
      "metadata": {
        "id": "-dxGToOiCzQe"
      },
      "source": [
        "raw_data_copy.rename(columns={'Cliente - Código': 'cod_cli',' Material - Código':'cod_mat','Valor Receita Bruta (- Devolução)':'volume' }, inplace=True  )"
      ],
      "execution_count": null,
      "outputs": []
    },
    {
      "cell_type": "code",
      "metadata": {
        "id": "riXcOyJ8CVw7"
      },
      "source": [
        "#(raw_data.Cluster == 2) | (raw_data.Cluster == 4) & (raw_data.top80perc == 1)"
      ],
      "execution_count": null,
      "outputs": []
    },
    {
      "cell_type": "code",
      "metadata": {
        "id": "aqZivVEAax0A"
      },
      "source": [
        "raw_data.Cluster.fillna(0, inplace = True)"
      ],
      "execution_count": null,
      "outputs": []
    },
    {
      "cell_type": "code",
      "metadata": {
        "id": "M7p3rpgbt0m7"
      },
      "source": [
        "#& (raw_data[' Sistema'] != 'INFRAESTRUTURA')& (raw_data[' Sistema'] != 'IRRIGACAO')& (raw_data[' Sistema'] != 'INDUSTRIAL') "
      ],
      "execution_count": null,
      "outputs": []
    },
    {
      "cell_type": "code",
      "metadata": {
        "id": "67kytuTNt_by"
      },
      "source": [
        "raw_data = raw_data[ (raw_data.top80perc == 'X') &( (raw_data['Grupo de Cliente'] ==  'Varejo Espec Const') | (raw_data['Grupo de Cliente'] ==  'Varejo')| (raw_data['Grupo de Cliente'] ==  'Varejo Integrador')| (raw_data['Grupo de Cliente'] ==  'Vrj via Distribuição'))].copy()"
      ],
      "execution_count": null,
      "outputs": []
    },
    {
      "cell_type": "code",
      "metadata": {
        "colab": {
          "base_uri": "https://localhost:8080/"
        },
        "id": "e_h4Rq_onU6C",
        "outputId": "44dd154d-605e-471d-c247-802e264f086c"
      },
      "source": [
        "print('Numero total de Clientes analisados: ',raw_data.cod_cli.nunique() )\n"
      ],
      "execution_count": null,
      "outputs": [
        {
          "output_type": "stream",
          "text": [
            "Numero total de Clientes analisados:  13154\n"
          ],
          "name": "stdout"
        }
      ]
    },
    {
      "cell_type": "code",
      "metadata": {
        "colab": {
          "base_uri": "https://localhost:8080/"
        },
        "id": "iS6sQDKjCqYi",
        "outputId": "301ea3df-7d91-48a9-bb4e-af0afdfd4783"
      },
      "source": [
        "raw_data.columns"
      ],
      "execution_count": null,
      "outputs": [
        {
          "output_type": "execute_result",
          "data": {
            "text/plain": [
              "Index(['cod_cli', 'grp_preco', 'escritorio', 'Grupo de Cliente', 'Material',\n",
              "       ' Processo', 'volume', ' Sistema', ' Subsistema', 'Linha',\n",
              "       'Subsis_Linha', 'cod_mat', 'Cluster_KM', 'Cluster', 'top80perc',\n",
              "       'top90perc', 'UF'],\n",
              "      dtype='object')"
            ]
          },
          "metadata": {
            "tags": []
          },
          "execution_count": 19
        }
      ]
    },
    {
      "cell_type": "code",
      "metadata": {
        "id": "wu4YstVi6SSB"
      },
      "source": [
        "raw_data2 = raw_data[[' Processo', 'cod_cli','cod_mat','volume','Cluster_KM','UF', 'grp_preco', 'escritorio', 'Material','Subsis_Linha','Grupo de Cliente']]"
      ],
      "execution_count": null,
      "outputs": []
    },
    {
      "cell_type": "code",
      "metadata": {
        "colab": {
          "base_uri": "https://localhost:8080/"
        },
        "id": "1f8NhEAptdeL",
        "outputId": "f3254fca-b377-4570-c891-1b50d08e8342"
      },
      "source": [
        "raw_data2.columns"
      ],
      "execution_count": null,
      "outputs": [
        {
          "output_type": "execute_result",
          "data": {
            "text/plain": [
              "Index([' Processo', 'cod_cli', 'cod_mat', 'volume', 'Cluster_KM', 'UF',\n",
              "       'grp_preco', 'escritorio', 'Material', 'Subsis_Linha',\n",
              "       'Grupo de Cliente'],\n",
              "      dtype='object')"
            ]
          },
          "metadata": {
            "tags": []
          },
          "execution_count": 21
        }
      ]
    },
    {
      "cell_type": "code",
      "metadata": {
        "colab": {
          "base_uri": "https://localhost:8080/"
        },
        "id": "oXvfsPpNCqOg",
        "outputId": "6e133d0d-412e-4512-e2be-a63292533e5f"
      },
      "source": [
        "print('Numero total de Materiais analisados: ',raw_data2.cod_mat.nunique() )"
      ],
      "execution_count": null,
      "outputs": [
        {
          "output_type": "stream",
          "text": [
            "Numero total de Materiais analisados:  333\n"
          ],
          "name": "stdout"
        }
      ]
    },
    {
      "cell_type": "code",
      "metadata": {
        "id": "0N3rs72NGJ3N"
      },
      "source": [
        "#limpeza dos dados, retirar devoluções e outliers"
      ],
      "execution_count": null,
      "outputs": []
    },
    {
      "cell_type": "code",
      "metadata": {
        "colab": {
          "base_uri": "https://localhost:8080/",
          "height": 514
        },
        "id": "L38robVzGg2e",
        "outputId": "7eae523d-58aa-47d6-d9fe-71e8b64800cc"
      },
      "source": [
        "import seaborn as sns\n",
        "from matplotlib import pyplot as plt\n",
        "\n",
        "fig, ax = plt.subplots(figsize=(16,8))\n",
        "sns.boxplot(x=raw_data2.volume)"
      ],
      "execution_count": null,
      "outputs": [
        {
          "output_type": "execute_result",
          "data": {
            "text/plain": [
              "<matplotlib.axes._subplots.AxesSubplot at 0x7f8183a92d50>"
            ]
          },
          "metadata": {
            "tags": []
          },
          "execution_count": 24
        },
        {
          "output_type": "display_data",
          "data": {
            "image/png": "[encoded data removed]",
            "text/plain": [
              "<Figure size 1152x576 with 1 Axes>"
            ]
          },
          "metadata": {
            "tags": [],
            "needs_background": "light"
          }
        }
      ]
    },
    {
      "cell_type": "code",
      "metadata": {
        "id": "GcBAF1iCMCcH"
      },
      "source": [
        "# = raw_data_copy.copy()"
      ],
      "execution_count": null,
      "outputs": []
    },
    {
      "cell_type": "code",
      "metadata": {
        "id": "qgU2Hh6fJ4mT"
      },
      "source": [
        "#Retirada dos valores de devolução\n",
        "raw_data2 = raw_data2[raw_data2.volume > 0]"
      ],
      "execution_count": null,
      "outputs": []
    },
    {
      "cell_type": "code",
      "metadata": {
        "id": "hwG7_jBSIhq-"
      },
      "source": [
        "#Formatting Float values for a better visualization\n",
        "pd.options.display.float_format = '{:,.2f}'.format"
      ],
      "execution_count": null,
      "outputs": []
    },
    {
      "cell_type": "code",
      "metadata": {
        "colab": {
          "base_uri": "https://localhost:8080/"
        },
        "id": "fx1AvA54G5nS",
        "outputId": "a9308ee0-70b2-47d3-829d-6e20f220326f"
      },
      "source": [
        "#Retirada dos outliers\n",
        "#Find Outlier values\n",
        "mean = raw_data2.volume[(raw_data2.volume < raw_data2.volume.quantile(0.95)) & (raw_data2.volume > raw_data2.volume.quantile(0.05))].mean()\n",
        "std = raw_data2.volume[(raw_data2.volume < raw_data2.volume.quantile(0.95)) & (raw_data2.volume > raw_data2.volume.quantile(0.05))].std()\n",
        "out_plus = abs((mean + std*2.5))\n",
        "out_less = (mean - std*2.5)\n",
        "\n",
        "print('out plus: ',out_plus,'out less: ',out_less,'max: ', max(raw_data.volume), 'min: ', min(raw_data.volume))"
      ],
      "execution_count": null,
      "outputs": [
        {
          "output_type": "stream",
          "text": [
            "out plus:  2674.021192350507 out less:  -1363.9859561340845 max:  2478489.1 min:  -50602.70999999999\n"
          ],
          "name": "stdout"
        }
      ]
    },
    {
      "cell_type": "code",
      "metadata": {
        "colab": {
          "base_uri": "https://localhost:8080/",
          "height": 297
        },
        "id": "pNdhJ0_MJ3lL",
        "outputId": "a5d714bd-abf4-4c9a-fe8b-c5efba1cf689"
      },
      "source": [
        "outliers =  (mean + std*2.5) < raw_data2.volume\n",
        "raw_data2.volume[outliers] = np.nan\n",
        "#SP_results.fillna(0, inplace=True)\n",
        "#SP_results.fillna(median, inplace=True)\n",
        "raw_data2.volume.fillna((mean + std*2.5), inplace=True)\n",
        "raw_data2.describe()"
      ],
      "execution_count": null,
      "outputs": [
        {
          "output_type": "execute_result",
          "data": {
            "text/html": [
              "<div>\n",
              "<style scoped>\n",
              "    .dataframe tbody tr th:only-of-type {\n",
              "        vertical-align: middle;\n",
              "    }\n",
              "\n",
              "    .dataframe tbody tr th {\n",
              "        vertical-align: top;\n",
              "    }\n",
              "\n",
              "    .dataframe thead th {\n",
              "        text-align: right;\n",
              "    }\n",
              "</style>\n",
              "<table border=\"1\" class=\"dataframe\">\n",
              "  <thead>\n",
              "    <tr style=\"text-align: right;\">\n",
              "      <th></th>\n",
              "      <th>cod_cli</th>\n",
              "      <th>volume</th>\n",
              "      <th>Cluster_KM</th>\n",
              "      <th>Material</th>\n",
              "    </tr>\n",
              "  </thead>\n",
              "  <tbody>\n",
              "    <tr>\n",
              "      <th>count</th>\n",
              "      <td>500,726.00</td>\n",
              "      <td>500,726.00</td>\n",
              "      <td>500,726.00</td>\n",
              "      <td>500,726.00</td>\n",
              "    </tr>\n",
              "    <tr>\n",
              "      <th>mean</th>\n",
              "      <td>1,058,813.62</td>\n",
              "      <td>692.98</td>\n",
              "      <td>1.00</td>\n",
              "      <td>37,750,926.26</td>\n",
              "    </tr>\n",
              "    <tr>\n",
              "      <th>std</th>\n",
              "      <td>39,327.90</td>\n",
              "      <td>798.01</td>\n",
              "      <td>0.00</td>\n",
              "      <td>48,455,875.22</td>\n",
              "    </tr>\n",
              "    <tr>\n",
              "      <th>min</th>\n",
              "      <td>1,000,003.00</td>\n",
              "      <td>0.13</td>\n",
              "      <td>1.00</td>\n",
              "      <td>10,001,900.00</td>\n",
              "    </tr>\n",
              "    <tr>\n",
              "      <th>25%</th>\n",
              "      <td>1,033,697.00</td>\n",
              "      <td>159.00</td>\n",
              "      <td>1.00</td>\n",
              "      <td>22,140,329.00</td>\n",
              "    </tr>\n",
              "    <tr>\n",
              "      <th>50%</th>\n",
              "      <td>1,048,999.00</td>\n",
              "      <td>337.20</td>\n",
              "      <td>1.00</td>\n",
              "      <td>26,301,009.00</td>\n",
              "    </tr>\n",
              "    <tr>\n",
              "      <th>75%</th>\n",
              "      <td>1,073,524.00</td>\n",
              "      <td>859.20</td>\n",
              "      <td>1.00</td>\n",
              "      <td>33,046,995.00</td>\n",
              "    </tr>\n",
              "    <tr>\n",
              "      <th>max</th>\n",
              "      <td>1,151,920.00</td>\n",
              "      <td>2,674.02</td>\n",
              "      <td>1.00</td>\n",
              "      <td>300,000,488.00</td>\n",
              "    </tr>\n",
              "  </tbody>\n",
              "</table>\n",
              "</div>"
            ],
            "text/plain": [
              "           cod_cli     volume  Cluster_KM       Material\n",
              "count   500,726.00 500,726.00  500,726.00     500,726.00\n",
              "mean  1,058,813.62     692.98        1.00  37,750,926.26\n",
              "std      39,327.90     798.01        0.00  48,455,875.22\n",
              "min   1,000,003.00       0.13        1.00  10,001,900.00\n",
              "25%   1,033,697.00     159.00        1.00  22,140,329.00\n",
              "50%   1,048,999.00     337.20        1.00  26,301,009.00\n",
              "75%   1,073,524.00     859.20        1.00  33,046,995.00\n",
              "max   1,151,920.00   2,674.02        1.00 300,000,488.00"
            ]
          },
          "metadata": {
            "tags": []
          },
          "execution_count": 29
        }
      ]
    },
    {
      "cell_type": "code",
      "metadata": {
        "colab": {
          "base_uri": "https://localhost:8080/",
          "height": 514
        },
        "id": "LNRSWTaSJZGV",
        "outputId": "5c18eaa1-3c57-4819-bce1-a1bde8abda57"
      },
      "source": [
        "fig, ax = plt.subplots(figsize=(16,8))\n",
        "sns.boxplot(x=raw_data2.volume)"
      ],
      "execution_count": null,
      "outputs": [
        {
          "output_type": "execute_result",
          "data": {
            "text/plain": [
              "<matplotlib.axes._subplots.AxesSubplot at 0x7f8186670dd0>"
            ]
          },
          "metadata": {
            "tags": []
          },
          "execution_count": 30
        },
        {
          "output_type": "display_data",
          "data": {
            "image/png": "[encoded data removed]",
            "text/plain": [
              "<Figure size 1152x576 with 1 Axes>"
            ]
          },
          "metadata": {
            "tags": [],
            "needs_background": "light"
          }
        }
      ]
    },
    {
      "cell_type": "code",
      "metadata": {
        "colab": {
          "base_uri": "https://localhost:8080/",
          "height": 349
        },
        "id": "c4jOQeRHEjYL",
        "outputId": "686c0669-8753-4b03-fbf6-9913c26e80a1"
      },
      "source": [
        "ax = sns.distplot(raw_data2.volume)\n",
        "plot_is = ax.set(title='distribuição dos ratings por usuários')"
      ],
      "execution_count": null,
      "outputs": [
        {
          "output_type": "stream",
          "text": [
            "/usr/local/lib/python3.7/dist-packages/seaborn/distributions.py:2557: FutureWarning: `distplot` is a deprecated function and will be removed in a future version. Please adapt your code to use either `displot` (a figure-level function with similar flexibility) or `histplot` (an axes-level function for histograms).\n",
            "  warnings.warn(msg, FutureWarning)\n"
          ],
          "name": "stderr"
        },
        {
          "output_type": "display_data",
          "data": {
            "image/png": "[encoded data removed]",
            "text/plain": [
              "<Figure size 432x288 with 1 Axes>"
            ]
          },
          "metadata": {
            "tags": [],
            "needs_background": "light"
          }
        }
      ]
    },
    {
      "cell_type": "code",
      "metadata": {
        "id": "WW18VQhA3uHF"
      },
      "source": [
        "#volume total por cliente\n",
        "grouped_data = raw_data2.groupby('cod_cli')['volume'].sum()"
      ],
      "execution_count": null,
      "outputs": []
    },
    {
      "cell_type": "code",
      "metadata": {
        "id": "0Fq4cxgL6A3w"
      },
      "source": [
        "raw_data2 = pd.merge(raw_data2,grouped_data, right_index=False,suffixes=('','_total') , left_index=True,how='left', on= 'cod_cli')"
      ],
      "execution_count": null,
      "outputs": []
    },
    {
      "cell_type": "code",
      "metadata": {
        "id": "wJwGVjNJ7Bpv"
      },
      "source": [
        "raw_data2['volume'] = raw_data2['volume']/raw_data2['volume_total']"
      ],
      "execution_count": null,
      "outputs": []
    },
    {
      "cell_type": "code",
      "metadata": {
        "id": "fza38iqM41BV"
      },
      "source": [
        "raw_data2.drop(columns=['volume_total'], inplace=True)"
      ],
      "execution_count": null,
      "outputs": []
    },
    {
      "cell_type": "code",
      "metadata": {
        "id": "VnvRtcZhjf4B"
      },
      "source": [
        "#raw_data2['volume'] = raw_data2['volume'] *100"
      ],
      "execution_count": null,
      "outputs": []
    },
    {
      "cell_type": "code",
      "metadata": {
        "colab": {
          "base_uri": "https://localhost:8080/",
          "height": 204
        },
        "id": "Y8tsmV5rrxWa",
        "outputId": "7bc04570-72ba-4ae0-fcfa-d88d6d777574"
      },
      "source": [
        "raw_data2.head()"
      ],
      "execution_count": null,
      "outputs": [
        {
          "output_type": "execute_result",
          "data": {
            "text/html": [
              "<div>\n",
              "<style scoped>\n",
              "    .dataframe tbody tr th:only-of-type {\n",
              "        vertical-align: middle;\n",
              "    }\n",
              "\n",
              "    .dataframe tbody tr th {\n",
              "        vertical-align: top;\n",
              "    }\n",
              "\n",
              "    .dataframe thead th {\n",
              "        text-align: right;\n",
              "    }\n",
              "</style>\n",
              "<table border=\"1\" class=\"dataframe\">\n",
              "  <thead>\n",
              "    <tr style=\"text-align: right;\">\n",
              "      <th></th>\n",
              "      <th>Processo</th>\n",
              "      <th>cod_cli</th>\n",
              "      <th>cod_mat</th>\n",
              "      <th>volume</th>\n",
              "      <th>Cluster_KM</th>\n",
              "      <th>UF</th>\n",
              "      <th>grp_preco</th>\n",
              "      <th>escritorio</th>\n",
              "      <th>Material</th>\n",
              "      <th>Subsis_Linha</th>\n",
              "      <th>Grupo de Cliente</th>\n",
              "    </tr>\n",
              "  </thead>\n",
              "  <tbody>\n",
              "    <tr>\n",
              "      <th>4188</th>\n",
              "      <td>EXTRUSAO</td>\n",
              "      <td>1044791</td>\n",
              "      <td>TUBO ESG PRIM TIGRE BV 6M 100MM</td>\n",
              "      <td>0.01</td>\n",
              "      <td>1</td>\n",
              "      <td>SP</td>\n",
              "      <td>LIDERANCA 02</td>\n",
              "      <td>CANAL DIRETO</td>\n",
              "      <td>11031030</td>\n",
              "      <td>TUBO 50MMOutro100MM</td>\n",
              "      <td>Varejo Espec Const</td>\n",
              "    </tr>\n",
              "    <tr>\n",
              "      <th>4315</th>\n",
              "      <td>EXTRUSAO</td>\n",
              "      <td>1045362</td>\n",
              "      <td>TUBO ESG PRIM TIGRE BV 6M 100MM</td>\n",
              "      <td>0.00</td>\n",
              "      <td>1</td>\n",
              "      <td>SP</td>\n",
              "      <td>LIDERANCA 02</td>\n",
              "      <td>CONST. CIVIL</td>\n",
              "      <td>11031030</td>\n",
              "      <td>TUBO 50MMOutro100MM</td>\n",
              "      <td>Varejo Espec Const</td>\n",
              "    </tr>\n",
              "    <tr>\n",
              "      <th>6726</th>\n",
              "      <td>EXTRUSAO</td>\n",
              "      <td>1055747</td>\n",
              "      <td>TUBO ESG PRIM TIGRE BV 6M 100MM</td>\n",
              "      <td>0.00</td>\n",
              "      <td>1</td>\n",
              "      <td>DF</td>\n",
              "      <td>LIDERANCA 02</td>\n",
              "      <td>CONST. CIVIL</td>\n",
              "      <td>11031030</td>\n",
              "      <td>TUBO 50MMOutro100MM</td>\n",
              "      <td>Varejo Espec Const</td>\n",
              "    </tr>\n",
              "    <tr>\n",
              "      <th>4315</th>\n",
              "      <td>EXTRUSAO</td>\n",
              "      <td>1045362</td>\n",
              "      <td>TUBO ESG SERIE R BV 6,00M DN100</td>\n",
              "      <td>0.00</td>\n",
              "      <td>1</td>\n",
              "      <td>SP</td>\n",
              "      <td>LIDERANCA 02</td>\n",
              "      <td>CONST. CIVIL</td>\n",
              "      <td>11055010</td>\n",
              "      <td>TUBO 50MMOutro100MM</td>\n",
              "      <td>Varejo Espec Const</td>\n",
              "    </tr>\n",
              "    <tr>\n",
              "      <th>6726</th>\n",
              "      <td>EXTRUSAO</td>\n",
              "      <td>1055747</td>\n",
              "      <td>TUBO SOLD NBR 5648 6,00M 50MM</td>\n",
              "      <td>0.00</td>\n",
              "      <td>1</td>\n",
              "      <td>DF</td>\n",
              "      <td>LIDERANCA 02</td>\n",
              "      <td>CONST. CIVIL</td>\n",
              "      <td>10120500</td>\n",
              "      <td>TUBO 40MMOutro50MM</td>\n",
              "      <td>Varejo Espec Const</td>\n",
              "    </tr>\n",
              "  </tbody>\n",
              "</table>\n",
              "</div>"
            ],
            "text/plain": [
              "      Processo  cod_cli  ...         Subsis_Linha    Grupo de Cliente\n",
              "4188  EXTRUSAO  1044791  ...  TUBO 50MMOutro100MM  Varejo Espec Const\n",
              "4315  EXTRUSAO  1045362  ...  TUBO 50MMOutro100MM  Varejo Espec Const\n",
              "6726  EXTRUSAO  1055747  ...  TUBO 50MMOutro100MM  Varejo Espec Const\n",
              "4315  EXTRUSAO  1045362  ...  TUBO 50MMOutro100MM  Varejo Espec Const\n",
              "6726  EXTRUSAO  1055747  ...   TUBO 40MMOutro50MM  Varejo Espec Const\n",
              "\n",
              "[5 rows x 11 columns]"
            ]
          },
          "metadata": {
            "tags": []
          },
          "execution_count": 37
        }
      ]
    },
    {
      "cell_type": "code",
      "metadata": {
        "id": "Yf6y5HyOF-Ut"
      },
      "source": [
        "raw_data2['binario'] = 0"
      ],
      "execution_count": null,
      "outputs": []
    },
    {
      "cell_type": "code",
      "metadata": {
        "colab": {
          "base_uri": "https://localhost:8080/"
        },
        "id": "mlbA8XYpCwGE",
        "outputId": "5464f35f-97a4-43ff-d604-162998df07bd"
      },
      "source": [
        "raw_data2.binario[raw_data2.volume > 0 ] = 1"
      ],
      "execution_count": null,
      "outputs": [
        {
          "output_type": "stream",
          "text": [
            "/usr/local/lib/python3.7/dist-packages/ipykernel_launcher.py:1: SettingWithCopyWarning: \n",
            "A value is trying to be set on a copy of a slice from a DataFrame\n",
            "\n",
            "See the caveats in the documentation: https://pandas.pydata.org/pandas-docs/stable/user_guide/indexing.html#returning-a-view-versus-a-copy\n",
            "  \"\"\"Entry point for launching an IPython kernel.\n"
          ],
          "name": "stderr"
        }
      ]
    },
    {
      "cell_type": "code",
      "metadata": {
        "colab": {
          "base_uri": "https://localhost:8080/"
        },
        "id": "vcBNrPDEDT5D",
        "outputId": "22a5c03d-9e26-496e-f32f-2620905ec238"
      },
      "source": [
        "raw_data2.binario[raw_data2.volume == 0 ] = 0"
      ],
      "execution_count": null,
      "outputs": [
        {
          "output_type": "stream",
          "text": [
            "/usr/local/lib/python3.7/dist-packages/ipykernel_launcher.py:1: SettingWithCopyWarning: \n",
            "A value is trying to be set on a copy of a slice from a DataFrame\n",
            "\n",
            "See the caveats in the documentation: https://pandas.pydata.org/pandas-docs/stable/user_guide/indexing.html#returning-a-view-versus-a-copy\n",
            "  \"\"\"Entry point for launching an IPython kernel.\n"
          ],
          "name": "stderr"
        }
      ]
    },
    {
      "cell_type": "markdown",
      "metadata": {
        "id": "exZZI9fnolT_"
      },
      "source": [
        "# Criação do Modelo"
      ]
    },
    {
      "cell_type": "code",
      "metadata": {
        "id": "q6JGXvSYvF9q"
      },
      "source": [
        "#raw_data.drop(columns='Cluster', inplace = True)"
      ],
      "execution_count": null,
      "outputs": []
    },
    {
      "cell_type": "code",
      "metadata": {
        "colab": {
          "base_uri": "https://localhost:8080/"
        },
        "id": "ydKtto7CpRbp",
        "outputId": "bbe07c3c-4004-4667-f296-4641dd92119d"
      },
      "source": [
        "raw_data2.columns"
      ],
      "execution_count": null,
      "outputs": [
        {
          "output_type": "execute_result",
          "data": {
            "text/plain": [
              "Index([' Processo', 'cod_cli', 'cod_mat', 'volume', 'Cluster_KM', 'UF',\n",
              "       'grp_preco', 'escritorio', 'Material', 'Subsis_Linha',\n",
              "       'Grupo de Cliente', 'binario'],\n",
              "      dtype='object')"
            ]
          },
          "metadata": {
            "tags": []
          },
          "execution_count": 42
        }
      ]
    },
    {
      "cell_type": "code",
      "metadata": {
        "colab": {
          "base_uri": "https://localhost:8080/"
        },
        "id": "OILMVW-Xrnw_",
        "outputId": "5889cd9a-21aa-462b-f132-8fd3855fe02e"
      },
      "source": [
        "raw_data2.info()"
      ],
      "execution_count": null,
      "outputs": [
        {
          "output_type": "stream",
          "text": [
            "<class 'pandas.core.frame.DataFrame'>\n",
            "Int64Index: 500726 entries, 4188 to 4746\n",
            "Data columns (total 12 columns):\n",
            " #   Column            Non-Null Count   Dtype  \n",
            "---  ------            --------------   -----  \n",
            " 0    Processo         500726 non-null  object \n",
            " 1   cod_cli           500726 non-null  int64  \n",
            " 2   cod_mat           500726 non-null  object \n",
            " 3   volume            500726 non-null  float64\n",
            " 4   Cluster_KM        500726 non-null  int64  \n",
            " 5   UF                500726 non-null  object \n",
            " 6   grp_preco         500726 non-null  object \n",
            " 7   escritorio        500726 non-null  object \n",
            " 8   Material          500726 non-null  int64  \n",
            " 9   Subsis_Linha      500726 non-null  object \n",
            " 10  Grupo de Cliente  500726 non-null  object \n",
            " 11  binario           500726 non-null  int64  \n",
            "dtypes: float64(1), int64(4), object(7)\n",
            "memory usage: 49.7+ MB\n"
          ],
          "name": "stdout"
        }
      ]
    },
    {
      "cell_type": "code",
      "metadata": {
        "id": "OAH3ci_JqMvR"
      },
      "source": [
        "raw_data2.to_csv('/content/drive/My Drive/Colab Notebooks/Data/raw_data.csv')"
      ],
      "execution_count": null,
      "outputs": []
    },
    {
      "cell_type": "code",
      "metadata": {
        "id": "d3q00zDau2bP"
      },
      "source": [
        "actions = pd.read_csv('/content/drive/My Drive/Colab Notebooks/Data/raw_data.csv')"
      ],
      "execution_count": null,
      "outputs": []
    },
    {
      "cell_type": "code",
      "metadata": {
        "id": "hAdlKtoMvZ2V"
      },
      "source": [
        "actions = tc.SFrame(data=actions)"
      ],
      "execution_count": null,
      "outputs": []
    },
    {
      "cell_type": "code",
      "metadata": {
        "colab": {
          "base_uri": "https://localhost:8080/",
          "height": 69
        },
        "id": "g1AzUBiYpjlE",
        "outputId": "d9ec6e0e-2233-4444-e8d9-20db54255f3c"
      },
      "source": [
        "'''actions = tc.SFrame.read_csv('/content/drive/My Drive/Colab Notebooks/Data/raw_data.csv', header=True,\n",
        "usecols =['cod_cli', 'cod_mat', 'volume', 'Cluster', 'UF', 'grp_preco','escritorio', 'Material', 'binario','Subsis_Linha','Grupo de Cliente'],\n",
        "column_type_hints= {'cod_cli':int, 'cod_mat':int, 'volume':float, 'Cluster_KM':int, 'UF':str, 'grp_preco':str,\n",
        "       'escritorio':str, 'Material':str, 'binario':int,'Subsis_Linha':str,'Grupo de Cliente':str })'''"
      ],
      "execution_count": null,
      "outputs": [
        {
          "output_type": "execute_result",
          "data": {
            "application/vnd.google.colaboratory.intrinsic+json": {
              "type": "string"
            },
            "text/plain": [
              "\"actions = tc.SFrame.read_csv('/content/drive/My Drive/Colab Notebooks/Data/raw_data.csv', header=True,\\nusecols =['cod_cli', 'cod_mat', 'volume', 'Cluster', 'UF', 'grp_preco','escritorio', 'Material', 'binario','Subsis_Linha','Grupo de Cliente'],\\ncolumn_type_hints= {'cod_cli':int, 'cod_mat':int, 'volume':float, 'Cluster_KM':int, 'UF':str, 'grp_preco':str,\\n       'escritorio':str, 'Material':str, 'binario':int,'Subsis_Linha':str,'Grupo de Cliente':str })\""
            ]
          },
          "metadata": {
            "tags": []
          },
          "execution_count": 47
        }
      ]
    },
    {
      "cell_type": "code",
      "metadata": {
        "colab": {
          "base_uri": "https://localhost:8080/"
        },
        "id": "lc7IaE4lQZ0L",
        "outputId": "ab431a94-8c0f-48ea-c15c-07631e38314c"
      },
      "source": [
        "actions.dtype"
      ],
      "execution_count": null,
      "outputs": [
        {
          "output_type": "execute_result",
          "data": {
            "text/plain": [
              "[int, str, int, str, float, int, str, str, str, int, str, str, int]"
            ]
          },
          "metadata": {
            "tags": []
          },
          "execution_count": 48
        }
      ]
    },
    {
      "cell_type": "code",
      "metadata": {
        "colab": {
          "base_uri": "https://localhost:8080/"
        },
        "id": "RiGJ_XViDRpX",
        "outputId": "4309d7e6-040a-4dec-aff8-359a2fdfec95"
      },
      "source": [
        "raw_data2.columns"
      ],
      "execution_count": null,
      "outputs": [
        {
          "output_type": "execute_result",
          "data": {
            "text/plain": [
              "Index([' Processo', 'cod_cli', 'cod_mat', 'volume', 'Cluster_KM', 'UF',\n",
              "       'grp_preco', 'escritorio', 'Material', 'Subsis_Linha',\n",
              "       'Grupo de Cliente', 'binario'],\n",
              "      dtype='object')"
            ]
          },
          "metadata": {
            "tags": []
          },
          "execution_count": 49
        }
      ]
    },
    {
      "cell_type": "code",
      "metadata": {
        "id": "7zbZTquvFRWC"
      },
      "source": [
        "actions = actions[['cod_cli','Material','binario','volume','Cluster_KM', 'UF', 'grp_preco', 'escritorio','Grupo de Cliente',' Processo']]"
      ],
      "execution_count": null,
      "outputs": []
    },
    {
      "cell_type": "code",
      "metadata": {
        "colab": {
          "base_uri": "https://localhost:8080/",
          "height": 490
        },
        "id": "Z2z_ET0rvgQw",
        "outputId": "6f129661-c62e-4ec2-a9b3-92d93c350fc9"
      },
      "source": [
        "actions.tail(15)"
      ],
      "execution_count": null,
      "outputs": [
        {
          "output_type": "execute_result",
          "data": {
            "text/html": [
              "<div style=\"max-height:1000px;max-width:1500px;overflow:auto;\"><table frame=\"box\" rules=\"cols\">\n",
              "    <tr>\n",
              "        <th style=\"padding-left: 1em; padding-right: 1em; text-align: center\">cod_cli</th>\n",
              "        <th style=\"padding-left: 1em; padding-right: 1em; text-align: center\">Material</th>\n",
              "        <th style=\"padding-left: 1em; padding-right: 1em; text-align: center\">binario</th>\n",
              "        <th style=\"padding-left: 1em; padding-right: 1em; text-align: center\">volume</th>\n",
              "        <th style=\"padding-left: 1em; padding-right: 1em; text-align: center\">Cluster_KM</th>\n",
              "        <th style=\"padding-left: 1em; padding-right: 1em; text-align: center\">UF</th>\n",
              "        <th style=\"padding-left: 1em; padding-right: 1em; text-align: center\">grp_preco</th>\n",
              "        <th style=\"padding-left: 1em; padding-right: 1em; text-align: center\">escritorio</th>\n",
              "    </tr>\n",
              "    <tr>\n",
              "        <td style=\"padding-left: 1em; padding-right: 1em; text-align: center; vertical-align: top\">1043405</td>\n",
              "        <td style=\"padding-left: 1em; padding-right: 1em; text-align: center; vertical-align: top\">100002305</td>\n",
              "        <td style=\"padding-left: 1em; padding-right: 1em; text-align: center; vertical-align: top\">1</td>\n",
              "        <td style=\"padding-left: 1em; padding-right: 1em; text-align: center; vertical-align: top\">7.941061485904829e-06</td>\n",
              "        <td style=\"padding-left: 1em; padding-right: 1em; text-align: center; vertical-align: top\">1</td>\n",
              "        <td style=\"padding-left: 1em; padding-right: 1em; text-align: center; vertical-align: top\">PR</td>\n",
              "        <td style=\"padding-left: 1em; padding-right: 1em; text-align: center; vertical-align: top\">LIDERANCA 02</td>\n",
              "        <td style=\"padding-left: 1em; padding-right: 1em; text-align: center; vertical-align: top\">CONST. CIVIL</td>\n",
              "    </tr>\n",
              "    <tr>\n",
              "        <td style=\"padding-left: 1em; padding-right: 1em; text-align: center; vertical-align: top\">1053219</td>\n",
              "        <td style=\"padding-left: 1em; padding-right: 1em; text-align: center; vertical-align: top\">53010229</td>\n",
              "        <td style=\"padding-left: 1em; padding-right: 1em; text-align: center; vertical-align: top\">1</td>\n",
              "        <td style=\"padding-left: 1em; padding-right: 1em; text-align: center; vertical-align: top\">0.001253089212990356</td>\n",
              "        <td style=\"padding-left: 1em; padding-right: 1em; text-align: center; vertical-align: top\">1</td>\n",
              "        <td style=\"padding-left: 1em; padding-right: 1em; text-align: center; vertical-align: top\">MG</td>\n",
              "        <td style=\"padding-left: 1em; padding-right: 1em; text-align: center; vertical-align: top\">CONEXAO</td>\n",
              "        <td style=\"padding-left: 1em; padding-right: 1em; text-align: center; vertical-align: top\">IND. VAREJO</td>\n",
              "    </tr>\n",
              "    <tr>\n",
              "        <td style=\"padding-left: 1em; padding-right: 1em; text-align: center; vertical-align: top\">1121384</td>\n",
              "        <td style=\"padding-left: 1em; padding-right: 1em; text-align: center; vertical-align: top\">22200259</td>\n",
              "        <td style=\"padding-left: 1em; padding-right: 1em; text-align: center; vertical-align: top\">1</td>\n",
              "        <td style=\"padding-left: 1em; padding-right: 1em; text-align: center; vertical-align: top\">0.00019394892290465664</td>\n",
              "        <td style=\"padding-left: 1em; padding-right: 1em; text-align: center; vertical-align: top\">1</td>\n",
              "        <td style=\"padding-left: 1em; padding-right: 1em; text-align: center; vertical-align: top\">SC</td>\n",
              "        <td style=\"padding-left: 1em; padding-right: 1em; text-align: center; vertical-align: top\">CONEXAO</td>\n",
              "        <td style=\"padding-left: 1em; padding-right: 1em; text-align: center; vertical-align: top\">IND. VAREJO</td>\n",
              "    </tr>\n",
              "    <tr>\n",
              "        <td style=\"padding-left: 1em; padding-right: 1em; text-align: center; vertical-align: top\">1048419</td>\n",
              "        <td style=\"padding-left: 1em; padding-right: 1em; text-align: center; vertical-align: top\">22200321</td>\n",
              "        <td style=\"padding-left: 1em; padding-right: 1em; text-align: center; vertical-align: top\">1</td>\n",
              "        <td style=\"padding-left: 1em; padding-right: 1em; text-align: center; vertical-align: top\">0.0001797850938805632</td>\n",
              "        <td style=\"padding-left: 1em; padding-right: 1em; text-align: center; vertical-align: top\">1</td>\n",
              "        <td style=\"padding-left: 1em; padding-right: 1em; text-align: center; vertical-align: top\">RS</td>\n",
              "        <td style=\"padding-left: 1em; padding-right: 1em; text-align: center; vertical-align: top\">CONEXAO</td>\n",
              "        <td style=\"padding-left: 1em; padding-right: 1em; text-align: center; vertical-align: top\">IRRIGAÇÃO</td>\n",
              "    </tr>\n",
              "    <tr>\n",
              "        <td style=\"padding-left: 1em; padding-right: 1em; text-align: center; vertical-align: top\">1047088</td>\n",
              "        <td style=\"padding-left: 1em; padding-right: 1em; text-align: center; vertical-align: top\">26241006</td>\n",
              "        <td style=\"padding-left: 1em; padding-right: 1em; text-align: center; vertical-align: top\">1</td>\n",
              "        <td style=\"padding-left: 1em; padding-right: 1em; text-align: center; vertical-align: top\">1.1022347151297304e-05</td>\n",
              "        <td style=\"padding-left: 1em; padding-right: 1em; text-align: center; vertical-align: top\">1</td>\n",
              "        <td style=\"padding-left: 1em; padding-right: 1em; text-align: center; vertical-align: top\">PR</td>\n",
              "        <td style=\"padding-left: 1em; padding-right: 1em; text-align: center; vertical-align: top\">LIDERANCA 01</td>\n",
              "        <td style=\"padding-left: 1em; padding-right: 1em; text-align: center; vertical-align: top\">CANAL DIRETO</td>\n",
              "    </tr>\n",
              "    <tr>\n",
              "        <td style=\"padding-left: 1em; padding-right: 1em; text-align: center; vertical-align: top\">1045404</td>\n",
              "        <td style=\"padding-left: 1em; padding-right: 1em; text-align: center; vertical-align: top\">54501900</td>\n",
              "        <td style=\"padding-left: 1em; padding-right: 1em; text-align: center; vertical-align: top\">1</td>\n",
              "        <td style=\"padding-left: 1em; padding-right: 1em; text-align: center; vertical-align: top\">5.08775041019217e-06</td>\n",
              "        <td style=\"padding-left: 1em; padding-right: 1em; text-align: center; vertical-align: top\">1</td>\n",
              "        <td style=\"padding-left: 1em; padding-right: 1em; text-align: center; vertical-align: top\">SP</td>\n",
              "        <td style=\"padding-left: 1em; padding-right: 1em; text-align: center; vertical-align: top\">LIDERANCA 01</td>\n",
              "        <td style=\"padding-left: 1em; padding-right: 1em; text-align: center; vertical-align: top\">CANAL DIRETO</td>\n",
              "    </tr>\n",
              "    <tr>\n",
              "        <td style=\"padding-left: 1em; padding-right: 1em; text-align: center; vertical-align: top\">1044544</td>\n",
              "        <td style=\"padding-left: 1em; padding-right: 1em; text-align: center; vertical-align: top\">22200500</td>\n",
              "        <td style=\"padding-left: 1em; padding-right: 1em; text-align: center; vertical-align: top\">1</td>\n",
              "        <td style=\"padding-left: 1em; padding-right: 1em; text-align: center; vertical-align: top\">2.9763618688557487e-06</td>\n",
              "        <td style=\"padding-left: 1em; padding-right: 1em; text-align: center; vertical-align: top\">1</td>\n",
              "        <td style=\"padding-left: 1em; padding-right: 1em; text-align: center; vertical-align: top\">SP</td>\n",
              "        <td style=\"padding-left: 1em; padding-right: 1em; text-align: center; vertical-align: top\">LIDERANCA 02</td>\n",
              "        <td style=\"padding-left: 1em; padding-right: 1em; text-align: center; vertical-align: top\">CANAL DIRETO</td>\n",
              "    </tr>\n",
              "    <tr>\n",
              "        <td style=\"padding-left: 1em; padding-right: 1em; text-align: center; vertical-align: top\">1029838</td>\n",
              "        <td style=\"padding-left: 1em; padding-right: 1em; text-align: center; vertical-align: top\">300000453</td>\n",
              "        <td style=\"padding-left: 1em; padding-right: 1em; text-align: center; vertical-align: top\">1</td>\n",
              "        <td style=\"padding-left: 1em; padding-right: 1em; text-align: center; vertical-align: top\">2.2650296924246327e-05</td>\n",
              "        <td style=\"padding-left: 1em; padding-right: 1em; text-align: center; vertical-align: top\">1</td>\n",
              "        <td style=\"padding-left: 1em; padding-right: 1em; text-align: center; vertical-align: top\">RJ</td>\n",
              "        <td style=\"padding-left: 1em; padding-right: 1em; text-align: center; vertical-align: top\">ALIANCA 01</td>\n",
              "        <td style=\"padding-left: 1em; padding-right: 1em; text-align: center; vertical-align: top\">CANAL DIRETO</td>\n",
              "    </tr>\n",
              "    <tr>\n",
              "        <td style=\"padding-left: 1em; padding-right: 1em; text-align: center; vertical-align: top\">1044544</td>\n",
              "        <td style=\"padding-left: 1em; padding-right: 1em; text-align: center; vertical-align: top\">22170511</td>\n",
              "        <td style=\"padding-left: 1em; padding-right: 1em; text-align: center; vertical-align: top\">1</td>\n",
              "        <td style=\"padding-left: 1em; padding-right: 1em; text-align: center; vertical-align: top\">1.693864478210589e-06</td>\n",
              "        <td style=\"padding-left: 1em; padding-right: 1em; text-align: center; vertical-align: top\">1</td>\n",
              "        <td style=\"padding-left: 1em; padding-right: 1em; text-align: center; vertical-align: top\">SP</td>\n",
              "        <td style=\"padding-left: 1em; padding-right: 1em; text-align: center; vertical-align: top\">LIDERANCA 02</td>\n",
              "        <td style=\"padding-left: 1em; padding-right: 1em; text-align: center; vertical-align: top\">CANAL DIRETO</td>\n",
              "    </tr>\n",
              "    <tr>\n",
              "        <td style=\"padding-left: 1em; padding-right: 1em; text-align: center; vertical-align: top\">1047088</td>\n",
              "        <td style=\"padding-left: 1em; padding-right: 1em; text-align: center; vertical-align: top\">35227822</td>\n",
              "        <td style=\"padding-left: 1em; padding-right: 1em; text-align: center; vertical-align: top\">1</td>\n",
              "        <td style=\"padding-left: 1em; padding-right: 1em; text-align: center; vertical-align: top\">2.755586787824326e-06</td>\n",
              "        <td style=\"padding-left: 1em; padding-right: 1em; text-align: center; vertical-align: top\">1</td>\n",
              "        <td style=\"padding-left: 1em; padding-right: 1em; text-align: center; vertical-align: top\">PR</td>\n",
              "        <td style=\"padding-left: 1em; padding-right: 1em; text-align: center; vertical-align: top\">LIDERANCA 01</td>\n",
              "        <td style=\"padding-left: 1em; padding-right: 1em; text-align: center; vertical-align: top\">CANAL DIRETO</td>\n",
              "    </tr>\n",
              "</table>\n",
              "<table frame=\"box\" rules=\"cols\">\n",
              "    <tr>\n",
              "        <th style=\"padding-left: 1em; padding-right: 1em; text-align: center\">Grupo de Cliente</th>\n",
              "        <th style=\"padding-left: 1em; padding-right: 1em; text-align: center\"> Processo</th>\n",
              "    </tr>\n",
              "    <tr>\n",
              "        <td style=\"padding-left: 1em; padding-right: 1em; text-align: center; vertical-align: top\">Varejo Espec Const</td>\n",
              "        <td style=\"padding-left: 1em; padding-right: 1em; text-align: center; vertical-align: top\">SOPRO</td>\n",
              "    </tr>\n",
              "    <tr>\n",
              "        <td style=\"padding-left: 1em; padding-right: 1em; text-align: center; vertical-align: top\">Varejo</td>\n",
              "        <td style=\"padding-left: 1em; padding-right: 1em; text-align: center; vertical-align: top\">TERCEIRO</td>\n",
              "    </tr>\n",
              "    <tr>\n",
              "        <td style=\"padding-left: 1em; padding-right: 1em; text-align: center; vertical-align: top\">Varejo</td>\n",
              "        <td style=\"padding-left: 1em; padding-right: 1em; text-align: center; vertical-align: top\">INJECAO</td>\n",
              "    </tr>\n",
              "    <tr>\n",
              "        <td style=\"padding-left: 1em; padding-right: 1em; text-align: center; vertical-align: top\">Varejo</td>\n",
              "        <td style=\"padding-left: 1em; padding-right: 1em; text-align: center; vertical-align: top\">INJECAO</td>\n",
              "    </tr>\n",
              "    <tr>\n",
              "        <td style=\"padding-left: 1em; padding-right: 1em; text-align: center; vertical-align: top\">Varejo Espec Const</td>\n",
              "        <td style=\"padding-left: 1em; padding-right: 1em; text-align: center; vertical-align: top\">INJECAO</td>\n",
              "    </tr>\n",
              "    <tr>\n",
              "        <td style=\"padding-left: 1em; padding-right: 1em; text-align: center; vertical-align: top\">Varejo Espec Const</td>\n",
              "        <td style=\"padding-left: 1em; padding-right: 1em; text-align: center; vertical-align: top\">TERCEIRO</td>\n",
              "    </tr>\n",
              "    <tr>\n",
              "        <td style=\"padding-left: 1em; padding-right: 1em; text-align: center; vertical-align: top\">Varejo Espec Const</td>\n",
              "        <td style=\"padding-left: 1em; padding-right: 1em; text-align: center; vertical-align: top\">INJECAO</td>\n",
              "    </tr>\n",
              "    <tr>\n",
              "        <td style=\"padding-left: 1em; padding-right: 1em; text-align: center; vertical-align: top\">Varejo</td>\n",
              "        <td style=\"padding-left: 1em; padding-right: 1em; text-align: center; vertical-align: top\">TERCEIRO</td>\n",
              "    </tr>\n",
              "    <tr>\n",
              "        <td style=\"padding-left: 1em; padding-right: 1em; text-align: center; vertical-align: top\">Varejo Espec Const</td>\n",
              "        <td style=\"padding-left: 1em; padding-right: 1em; text-align: center; vertical-align: top\">INJECAO</td>\n",
              "    </tr>\n",
              "    <tr>\n",
              "        <td style=\"padding-left: 1em; padding-right: 1em; text-align: center; vertical-align: top\">Varejo Espec Const</td>\n",
              "        <td style=\"padding-left: 1em; padding-right: 1em; text-align: center; vertical-align: top\">INJECAO</td>\n",
              "    </tr>\n",
              "</table>\n",
              "[15 rows x 10 columns]<br/>Note: Only the head of the SFrame is printed.<br/>You can use print_rows(num_rows=m, num_columns=n) to print more rows and columns.\n",
              "</div>"
            ],
            "text/plain": [
              "Columns:\n",
              "\tcod_cli\tint\n",
              "\tMaterial\tint\n",
              "\tbinario\tint\n",
              "\tvolume\tfloat\n",
              "\tCluster_KM\tint\n",
              "\tUF\tstr\n",
              "\tgrp_preco\tstr\n",
              "\tescritorio\tstr\n",
              "\tGrupo de Cliente\tstr\n",
              "\t Processo\tstr\n",
              "\n",
              "Rows: 15\n",
              "\n",
              "Data:\n",
              "+---------+-----------+---------+------------------------+------------+----+\n",
              "| cod_cli |  Material | binario |         volume         | Cluster_KM | UF |\n",
              "+---------+-----------+---------+------------------------+------------+----+\n",
              "| 1043405 | 100002305 |    1    | 7.941061485904829e-06  |     1      | PR |\n",
              "| 1053219 |  53010229 |    1    |  0.001253089212990356  |     1      | MG |\n",
              "| 1121384 |  22200259 |    1    | 0.00019394892290465664 |     1      | SC |\n",
              "| 1048419 |  22200321 |    1    | 0.0001797850938805632  |     1      | RS |\n",
              "| 1047088 |  26241006 |    1    | 1.1022347151297304e-05 |     1      | PR |\n",
              "| 1045404 |  54501900 |    1    |  5.08775041019217e-06  |     1      | SP |\n",
              "| 1044544 |  22200500 |    1    | 2.9763618688557487e-06 |     1      | SP |\n",
              "| 1029838 | 300000453 |    1    | 2.2650296924246327e-05 |     1      | RJ |\n",
              "| 1044544 |  22170511 |    1    | 1.693864478210589e-06  |     1      | SP |\n",
              "| 1047088 |  35227822 |    1    | 2.755586787824326e-06  |     1      | PR |\n",
              "+---------+-----------+---------+------------------------+------------+----+\n",
              "+--------------+--------------+--------------------+-----------+\n",
              "|  grp_preco   |  escritorio  |  Grupo de Cliente  |  Processo |\n",
              "+--------------+--------------+--------------------+-----------+\n",
              "| LIDERANCA 02 | CONST. CIVIL | Varejo Espec Const |   SOPRO   |\n",
              "|   CONEXAO    | IND. VAREJO  |       Varejo       |  TERCEIRO |\n",
              "|   CONEXAO    | IND. VAREJO  |       Varejo       |  INJECAO  |\n",
              "|   CONEXAO    |  IRRIGAÇÃO   |       Varejo       |  INJECAO  |\n",
              "| LIDERANCA 01 | CANAL DIRETO | Varejo Espec Const |  INJECAO  |\n",
              "| LIDERANCA 01 | CANAL DIRETO | Varejo Espec Const |  TERCEIRO |\n",
              "| LIDERANCA 02 | CANAL DIRETO | Varejo Espec Const |  INJECAO  |\n",
              "|  ALIANCA 01  | CANAL DIRETO |       Varejo       |  TERCEIRO |\n",
              "| LIDERANCA 02 | CANAL DIRETO | Varejo Espec Const |  INJECAO  |\n",
              "| LIDERANCA 01 | CANAL DIRETO | Varejo Espec Const |  INJECAO  |\n",
              "+--------------+--------------+--------------------+-----------+\n",
              "[15 rows x 10 columns]\n",
              "Note: Only the head of the SFrame is printed.\n",
              "You can use print_rows(num_rows=m, num_columns=n) to print more rows and columns."
            ]
          },
          "metadata": {
            "tags": []
          },
          "execution_count": 51
        }
      ]
    },
    {
      "cell_type": "code",
      "metadata": {
        "id": "1pYi71pCD60a"
      },
      "source": [
        "c_side_data = actions[['cod_cli', 'UF', 'grp_preco', 'escritorio','Grupo de Cliente']]\n",
        "#c_side_data = actions[['cod_cli','Cluster','UF']]"
      ],
      "execution_count": null,
      "outputs": []
    },
    {
      "cell_type": "code",
      "metadata": {
        "id": "esP5Lu58vtF8"
      },
      "source": [
        "m_side_data = actions['Material',' Processo']\n"
      ],
      "execution_count": null,
      "outputs": []
    },
    {
      "cell_type": "code",
      "metadata": {
        "id": "9QFzHRDFbnss"
      },
      "source": [
        "training_data, validation_data = tc.recommender.util.random_split_by_user(actions,  'cod_cli', 'Material', random_seed= 25, item_test_proportion=0.35)"
      ],
      "execution_count": null,
      "outputs": []
    },
    {
      "cell_type": "code",
      "metadata": {
        "colab": {
          "base_uri": "https://localhost:8080/",
          "height": 1000
        },
        "id": "yumfdAThop5W",
        "outputId": "6ff81e18-8985-49ae-b3a2-5d64560e2806"
      },
      "source": [
        "model = tc.recommender.create( training_data, 'cod_cli', 'Material','volume',user_data=c_side_data, item_data=m_side_data )\n",
        "#,user_data=c_side_data, item_data= m_side_data"
      ],
      "execution_count": null,
      "outputs": [
        {
          "output_type": "display_data",
          "data": {
            "text/html": [
              "<pre>Preparing data set.</pre>"
            ],
            "text/plain": [
              "Preparing data set."
            ]
          },
          "metadata": {
            "tags": []
          }
        },
        {
          "output_type": "display_data",
          "data": {
            "text/html": [
              "<pre>    Data has 500726 observations with 13066 users and 333 items.</pre>"
            ],
            "text/plain": [
              "    Data has 500726 observations with 13066 users and 333 items."
            ]
          },
          "metadata": {
            "tags": []
          }
        },
        {
          "output_type": "display_data",
          "data": {
            "text/html": [
              "<pre>    Data prepared in: 1.76935s</pre>"
            ],
            "text/plain": [
              "    Data prepared in: 1.76935s"
            ]
          },
          "metadata": {
            "tags": []
          }
        },
        {
          "output_type": "display_data",
          "data": {
            "text/html": [
              "<pre>Training ranking_factorization_recommender for recommendations.</pre>"
            ],
            "text/plain": [
              "Training ranking_factorization_recommender for recommendations."
            ]
          },
          "metadata": {
            "tags": []
          }
        },
        {
          "output_type": "display_data",
          "data": {
            "text/html": [
              "<pre>+--------------------------------+--------------------------------------------------+----------+</pre>"
            ],
            "text/plain": [
              "+--------------------------------+--------------------------------------------------+----------+"
            ]
          },
          "metadata": {
            "tags": []
          }
        },
        {
          "output_type": "display_data",
          "data": {
            "text/html": [
              "<pre>| Parameter                      | Description                                      | Value    |</pre>"
            ],
            "text/plain": [
              "| Parameter                      | Description                                      | Value    |"
            ]
          },
          "metadata": {
            "tags": []
          }
        },
        {
          "output_type": "display_data",
          "data": {
            "text/html": [
              "<pre>+--------------------------------+--------------------------------------------------+----------+</pre>"
            ],
            "text/plain": [
              "+--------------------------------+--------------------------------------------------+----------+"
            ]
          },
          "metadata": {
            "tags": []
          }
        },
        {
          "output_type": "display_data",
          "data": {
            "text/html": [
              "<pre>| num_factors                    | Factor Dimension                                 | 32       |</pre>"
            ],
            "text/plain": [
              "| num_factors                    | Factor Dimension                                 | 32       |"
            ]
          },
          "metadata": {
            "tags": []
          }
        },
        {
          "output_type": "display_data",
          "data": {
            "text/html": [
              "<pre>| regularization                 | L2 Regularization on Factors                     | 1e-09    |</pre>"
            ],
            "text/plain": [
              "| regularization                 | L2 Regularization on Factors                     | 1e-09    |"
            ]
          },
          "metadata": {
            "tags": []
          }
        },
        {
          "output_type": "display_data",
          "data": {
            "text/html": [
              "<pre>| solver                         | Solver used for training                         | adagrad  |</pre>"
            ],
            "text/plain": [
              "| solver                         | Solver used for training                         | adagrad  |"
            ]
          },
          "metadata": {
            "tags": []
          }
        },
        {
          "output_type": "display_data",
          "data": {
            "text/html": [
              "<pre>| linear_regularization          | L2 Regularization on Linear Coefficients         | 1e-09    |</pre>"
            ],
            "text/plain": [
              "| linear_regularization          | L2 Regularization on Linear Coefficients         | 1e-09    |"
            ]
          },
          "metadata": {
            "tags": []
          }
        },
        {
          "output_type": "display_data",
          "data": {
            "text/html": [
              "<pre>| ranking_regularization         | Rank-based Regularization Weight                 | 0.25     |</pre>"
            ],
            "text/plain": [
              "| ranking_regularization         | Rank-based Regularization Weight                 | 0.25     |"
            ]
          },
          "metadata": {
            "tags": []
          }
        },
        {
          "output_type": "display_data",
          "data": {
            "text/html": [
              "<pre>| side_data_factorization        | Assign Factors for Side Data                     | True     |</pre>"
            ],
            "text/plain": [
              "| side_data_factorization        | Assign Factors for Side Data                     | True     |"
            ]
          },
          "metadata": {
            "tags": []
          }
        },
        {
          "output_type": "display_data",
          "data": {
            "text/html": [
              "<pre>| max_iterations                 | Maximum Number of Iterations                     | 25       |</pre>"
            ],
            "text/plain": [
              "| max_iterations                 | Maximum Number of Iterations                     | 25       |"
            ]
          },
          "metadata": {
            "tags": []
          }
        },
        {
          "output_type": "display_data",
          "data": {
            "text/html": [
              "<pre>+--------------------------------+--------------------------------------------------+----------+</pre>"
            ],
            "text/plain": [
              "+--------------------------------+--------------------------------------------------+----------+"
            ]
          },
          "metadata": {
            "tags": []
          }
        },
        {
          "output_type": "display_data",
          "data": {
            "text/html": [
              "<pre>  Optimizing model using SGD; tuning step size.</pre>"
            ],
            "text/plain": [
              "  Optimizing model using SGD; tuning step size."
            ]
          },
          "metadata": {
            "tags": []
          }
        },
        {
          "output_type": "display_data",
          "data": {
            "text/html": [
              "<pre>  Using 62590 / 500726 points for tuning the step size.</pre>"
            ],
            "text/plain": [
              "  Using 62590 / 500726 points for tuning the step size."
            ]
          },
          "metadata": {
            "tags": []
          }
        },
        {
          "output_type": "display_data",
          "data": {
            "text/html": [
              "<pre>+---------+-------------------+------------------------------------------+</pre>"
            ],
            "text/plain": [
              "+---------+-------------------+------------------------------------------+"
            ]
          },
          "metadata": {
            "tags": []
          }
        },
        {
          "output_type": "display_data",
          "data": {
            "text/html": [
              "<pre>| Attempt | Initial Step Size | Estimated Objective Value                |</pre>"
            ],
            "text/plain": [
              "| Attempt | Initial Step Size | Estimated Objective Value                |"
            ]
          },
          "metadata": {
            "tags": []
          }
        },
        {
          "output_type": "display_data",
          "data": {
            "text/html": [
              "<pre>+---------+-------------------+------------------------------------------+</pre>"
            ],
            "text/plain": [
              "+---------+-------------------+------------------------------------------+"
            ]
          },
          "metadata": {
            "tags": []
          }
        },
        {
          "output_type": "display_data",
          "data": {
            "text/html": [
              "<pre>| 0       | 3.57143           | Not Viable                               |</pre>"
            ],
            "text/plain": [
              "| 0       | 3.57143           | Not Viable                               |"
            ]
          },
          "metadata": {
            "tags": []
          }
        },
        {
          "output_type": "display_data",
          "data": {
            "text/html": [
              "<pre>| 1       | 0.892857          | Not Viable                               |</pre>"
            ],
            "text/plain": [
              "| 1       | 0.892857          | Not Viable                               |"
            ]
          },
          "metadata": {
            "tags": []
          }
        },
        {
          "output_type": "display_data",
          "data": {
            "text/html": [
              "<pre>| 2       | 0.223214          | Not Viable                               |</pre>"
            ],
            "text/plain": [
              "| 2       | 0.223214          | Not Viable                               |"
            ]
          },
          "metadata": {
            "tags": []
          }
        },
        {
          "output_type": "display_data",
          "data": {
            "text/html": [
              "<pre>| 3       | 0.0558036         | 0.00229675                               |</pre>"
            ],
            "text/plain": [
              "| 3       | 0.0558036         | 0.00229675                               |"
            ]
          },
          "metadata": {
            "tags": []
          }
        },
        {
          "output_type": "display_data",
          "data": {
            "text/html": [
              "<pre>| 4       | 0.0279018         | 0.00211371                               |</pre>"
            ],
            "text/plain": [
              "| 4       | 0.0279018         | 0.00211371                               |"
            ]
          },
          "metadata": {
            "tags": []
          }
        },
        {
          "output_type": "display_data",
          "data": {
            "text/html": [
              "<pre>| 5       | 0.0139509         | 0.0023762                                |</pre>"
            ],
            "text/plain": [
              "| 5       | 0.0139509         | 0.0023762                                |"
            ]
          },
          "metadata": {
            "tags": []
          }
        },
        {
          "output_type": "display_data",
          "data": {
            "text/html": [
              "<pre>| 6       | 0.00697545        | 0.00291008                               |</pre>"
            ],
            "text/plain": [
              "| 6       | 0.00697545        | 0.00291008                               |"
            ]
          },
          "metadata": {
            "tags": []
          }
        },
        {
          "output_type": "display_data",
          "data": {
            "text/html": [
              "<pre>| 7       | 0.00348772        | 0.00315462                               |</pre>"
            ],
            "text/plain": [
              "| 7       | 0.00348772        | 0.00315462                               |"
            ]
          },
          "metadata": {
            "tags": []
          }
        },
        {
          "output_type": "display_data",
          "data": {
            "text/html": [
              "<pre>+---------+-------------------+------------------------------------------+</pre>"
            ],
            "text/plain": [
              "+---------+-------------------+------------------------------------------+"
            ]
          },
          "metadata": {
            "tags": []
          }
        },
        {
          "output_type": "display_data",
          "data": {
            "text/html": [
              "<pre>| Final   | 0.0279018         | 0.00211371                               |</pre>"
            ],
            "text/plain": [
              "| Final   | 0.0279018         | 0.00211371                               |"
            ]
          },
          "metadata": {
            "tags": []
          }
        },
        {
          "output_type": "display_data",
          "data": {
            "text/html": [
              "<pre>+---------+-------------------+------------------------------------------+</pre>"
            ],
            "text/plain": [
              "+---------+-------------------+------------------------------------------+"
            ]
          },
          "metadata": {
            "tags": []
          }
        },
        {
          "output_type": "display_data",
          "data": {
            "text/html": [
              "<pre>Starting Optimization.</pre>"
            ],
            "text/plain": [
              "Starting Optimization."
            ]
          },
          "metadata": {
            "tags": []
          }
        },
        {
          "output_type": "display_data",
          "data": {
            "text/html": [
              "<pre>+---------+--------------+-------------------+-----------------------+-------------+</pre>"
            ],
            "text/plain": [
              "+---------+--------------+-------------------+-----------------------+-------------+"
            ]
          },
          "metadata": {
            "tags": []
          }
        },
        {
          "output_type": "display_data",
          "data": {
            "text/html": [
              "<pre>| Iter.   | Elapsed Time | Approx. Objective | Approx. Training RMSE | Step Size   |</pre>"
            ],
            "text/plain": [
              "| Iter.   | Elapsed Time | Approx. Objective | Approx. Training RMSE | Step Size   |"
            ]
          },
          "metadata": {
            "tags": []
          }
        },
        {
          "output_type": "display_data",
          "data": {
            "text/html": [
              "<pre>+---------+--------------+-------------------+-----------------------+-------------+</pre>"
            ],
            "text/plain": [
              "+---------+--------------+-------------------+-----------------------+-------------+"
            ]
          },
          "metadata": {
            "tags": []
          }
        },
        {
          "output_type": "display_data",
          "data": {
            "text/html": [
              "<pre>| Initial | 134us        | 0.00596493        | 0.0551085             |             |</pre>"
            ],
            "text/plain": [
              "| Initial | 134us        | 0.00596493        | 0.0551085             |             |"
            ]
          },
          "metadata": {
            "tags": []
          }
        },
        {
          "output_type": "display_data",
          "data": {
            "text/html": [
              "<pre>+---------+--------------+-------------------+-----------------------+-------------+</pre>"
            ],
            "text/plain": [
              "+---------+--------------+-------------------+-----------------------+-------------+"
            ]
          },
          "metadata": {
            "tags": []
          }
        },
        {
          "output_type": "display_data",
          "data": {
            "text/html": [
              "<pre>| 1       | 4.36s        | 0.00331989        | 0.0465011             | 0.0279018   |</pre>"
            ],
            "text/plain": [
              "| 1       | 4.36s        | 0.00331989        | 0.0465011             | 0.0279018   |"
            ]
          },
          "metadata": {
            "tags": []
          }
        },
        {
          "output_type": "display_data",
          "data": {
            "text/html": [
              "<pre>| 2       | 8.41s        | 0.00230137        | 0.0369341             | 0.0279018   |</pre>"
            ],
            "text/plain": [
              "| 2       | 8.41s        | 0.00230137        | 0.0369341             | 0.0279018   |"
            ]
          },
          "metadata": {
            "tags": []
          }
        },
        {
          "output_type": "display_data",
          "data": {
            "text/html": [
              "<pre>| 3       | 12.33s       | 0.00189306        | 0.032351              | 0.0279018   |</pre>"
            ],
            "text/plain": [
              "| 3       | 12.33s       | 0.00189306        | 0.032351              | 0.0279018   |"
            ]
          },
          "metadata": {
            "tags": []
          }
        },
        {
          "output_type": "display_data",
          "data": {
            "text/html": [
              "<pre>| 4       | 16.14s       | 0.00168791        | 0.0298624             | 0.0279018   |</pre>"
            ],
            "text/plain": [
              "| 4       | 16.14s       | 0.00168791        | 0.0298624             | 0.0279018   |"
            ]
          },
          "metadata": {
            "tags": []
          }
        },
        {
          "output_type": "display_data",
          "data": {
            "text/html": [
              "<pre>| 5       | 19.94s       | 0.00151321        | 0.0275051             | 0.0279018   |</pre>"
            ],
            "text/plain": [
              "| 5       | 19.94s       | 0.00151321        | 0.0275051             | 0.0279018   |"
            ]
          },
          "metadata": {
            "tags": []
          }
        },
        {
          "output_type": "display_data",
          "data": {
            "text/html": [
              "<pre>| 7       | 27.40s       | 0.00140666        | 0.0265306             | 0.0279018   |</pre>"
            ],
            "text/plain": [
              "| 7       | 27.40s       | 0.00140666        | 0.0265306             | 0.0279018   |"
            ]
          },
          "metadata": {
            "tags": []
          }
        },
        {
          "output_type": "display_data",
          "data": {
            "text/html": [
              "<pre>| 8       | 31.15s       | 0.00126946        | 0.0241826             | 0.0279018   |</pre>"
            ],
            "text/plain": [
              "| 8       | 31.15s       | 0.00126946        | 0.0241826             | 0.0279018   |"
            ]
          },
          "metadata": {
            "tags": []
          }
        },
        {
          "output_type": "display_data",
          "data": {
            "text/html": [
              "<pre>| 9       | 34.81s       | 0.00123622        | 0.0238992             | 0.0279018   |</pre>"
            ],
            "text/plain": [
              "| 9       | 34.81s       | 0.00123622        | 0.0238992             | 0.0279018   |"
            ]
          },
          "metadata": {
            "tags": []
          }
        },
        {
          "output_type": "display_data",
          "data": {
            "text/html": [
              "<pre>| 10      | 38.47s       | 0.00119674        | 0.0233561             | 0.0279018   |</pre>"
            ],
            "text/plain": [
              "| 10      | 38.47s       | 0.00119674        | 0.0233561             | 0.0279018   |"
            ]
          },
          "metadata": {
            "tags": []
          }
        },
        {
          "output_type": "display_data",
          "data": {
            "text/html": [
              "<pre>| 11      | 42.13s       | 0.00111648        | 0.0217347             | 0.0279018   |</pre>"
            ],
            "text/plain": [
              "| 11      | 42.13s       | 0.00111648        | 0.0217347             | 0.0279018   |"
            ]
          },
          "metadata": {
            "tags": []
          }
        },
        {
          "output_type": "display_data",
          "data": {
            "text/html": [
              "<pre>| 12      | 45.74s       | 0.00107817        | 0.0211074             | 0.0279018   |</pre>"
            ],
            "text/plain": [
              "| 12      | 45.74s       | 0.00107817        | 0.0211074             | 0.0279018   |"
            ]
          },
          "metadata": {
            "tags": []
          }
        },
        {
          "output_type": "display_data",
          "data": {
            "text/html": [
              "<pre>| 13      | 49.41s       | 0.0010546         | 0.020782              | 0.0279018   |</pre>"
            ],
            "text/plain": [
              "| 13      | 49.41s       | 0.0010546         | 0.020782              | 0.0279018   |"
            ]
          },
          "metadata": {
            "tags": []
          }
        },
        {
          "output_type": "display_data",
          "data": {
            "text/html": [
              "<pre>| 14      | 53.04s       | 0.00102303        | 0.0202161             | 0.0279018   |</pre>"
            ],
            "text/plain": [
              "| 14      | 53.04s       | 0.00102303        | 0.0202161             | 0.0279018   |"
            ]
          },
          "metadata": {
            "tags": []
          }
        },
        {
          "output_type": "display_data",
          "data": {
            "text/html": [
              "<pre>| 15      | 56.64s       | 0.00101375        | 0.0201828             | 0.0279018   |</pre>"
            ],
            "text/plain": [
              "| 15      | 56.64s       | 0.00101375        | 0.0201828             | 0.0279018   |"
            ]
          },
          "metadata": {
            "tags": []
          }
        },
        {
          "output_type": "display_data",
          "data": {
            "text/html": [
              "<pre>| 16      | 1m 0s        | 0.000984666       | 0.0196443             | 0.0279018   |</pre>"
            ],
            "text/plain": [
              "| 16      | 1m 0s        | 0.000984666       | 0.0196443             | 0.0279018   |"
            ]
          },
          "metadata": {
            "tags": []
          }
        },
        {
          "output_type": "display_data",
          "data": {
            "text/html": [
              "<pre>| 17      | 1m 3s        | 0.000984723       | 0.0198072             | 0.0279018   |</pre>"
            ],
            "text/plain": [
              "| 17      | 1m 3s        | 0.000984723       | 0.0198072             | 0.0279018   |"
            ]
          },
          "metadata": {
            "tags": []
          }
        },
        {
          "output_type": "display_data",
          "data": {
            "text/html": [
              "<pre>| 18      | 1m 7s        | 0.000950901       | 0.0191313             | 0.0279018   |</pre>"
            ],
            "text/plain": [
              "| 18      | 1m 7s        | 0.000950901       | 0.0191313             | 0.0279018   |"
            ]
          },
          "metadata": {
            "tags": []
          }
        },
        {
          "output_type": "display_data",
          "data": {
            "text/html": [
              "<pre>| 19      | 1m 11s       | 0.000942287       | 0.0189308             | 0.0279018   |</pre>"
            ],
            "text/plain": [
              "| 19      | 1m 11s       | 0.000942287       | 0.0189308             | 0.0279018   |"
            ]
          },
          "metadata": {
            "tags": []
          }
        },
        {
          "output_type": "display_data",
          "data": {
            "text/html": [
              "<pre>| 20      | 1m 14s       | 0.00093532        | 0.0189143             | 0.0279018   |</pre>"
            ],
            "text/plain": [
              "| 20      | 1m 14s       | 0.00093532        | 0.0189143             | 0.0279018   |"
            ]
          },
          "metadata": {
            "tags": []
          }
        },
        {
          "output_type": "display_data",
          "data": {
            "text/html": [
              "<pre>| 21      | 1m 18s       | 0.000922197       | 0.0186563             | 0.0279018   |</pre>"
            ],
            "text/plain": [
              "| 21      | 1m 18s       | 0.000922197       | 0.0186563             | 0.0279018   |"
            ]
          },
          "metadata": {
            "tags": []
          }
        },
        {
          "output_type": "display_data",
          "data": {
            "text/html": [
              "<pre>| 22      | 1m 21s       | 0.000907373       | 0.0184641             | 0.0279018   |</pre>"
            ],
            "text/plain": [
              "| 22      | 1m 21s       | 0.000907373       | 0.0184641             | 0.0279018   |"
            ]
          },
          "metadata": {
            "tags": []
          }
        },
        {
          "output_type": "display_data",
          "data": {
            "text/html": [
              "<pre>| 23      | 1m 25s       | 0.000894063       | 0.0182344             | 0.0279018   |</pre>"
            ],
            "text/plain": [
              "| 23      | 1m 25s       | 0.000894063       | 0.0182344             | 0.0279018   |"
            ]
          },
          "metadata": {
            "tags": []
          }
        },
        {
          "output_type": "display_data",
          "data": {
            "text/html": [
              "<pre>| 24      | 1m 28s       | 0.00088644        | 0.0180535             | 0.0279018   |</pre>"
            ],
            "text/plain": [
              "| 24      | 1m 28s       | 0.00088644        | 0.0180535             | 0.0279018   |"
            ]
          },
          "metadata": {
            "tags": []
          }
        },
        {
          "output_type": "display_data",
          "data": {
            "text/html": [
              "<pre>| 25      | 1m 32s       | 0.000878111       | 0.0179199             | 0.0279018   |</pre>"
            ],
            "text/plain": [
              "| 25      | 1m 32s       | 0.000878111       | 0.0179199             | 0.0279018   |"
            ]
          },
          "metadata": {
            "tags": []
          }
        },
        {
          "output_type": "display_data",
          "data": {
            "text/html": [
              "<pre>+---------+--------------+-------------------+-----------------------+-------------+</pre>"
            ],
            "text/plain": [
              "+---------+--------------+-------------------+-----------------------+-------------+"
            ]
          },
          "metadata": {
            "tags": []
          }
        },
        {
          "output_type": "display_data",
          "data": {
            "text/html": [
              "<pre>Optimization Complete: Maximum number of passes through the data reached.</pre>"
            ],
            "text/plain": [
              "Optimization Complete: Maximum number of passes through the data reached."
            ]
          },
          "metadata": {
            "tags": []
          }
        },
        {
          "output_type": "display_data",
          "data": {
            "text/html": [
              "<pre>Computing final objective value and training RMSE.</pre>"
            ],
            "text/plain": [
              "Computing final objective value and training RMSE."
            ]
          },
          "metadata": {
            "tags": []
          }
        },
        {
          "output_type": "display_data",
          "data": {
            "text/html": [
              "<pre>       Final objective value: 0.000968548</pre>"
            ],
            "text/plain": [
              "       Final objective value: 0.000968548"
            ]
          },
          "metadata": {
            "tags": []
          }
        },
        {
          "output_type": "display_data",
          "data": {
            "text/html": [
              "<pre>       Final training RMSE: 0.017802</pre>"
            ],
            "text/plain": [
              "       Final training RMSE: 0.017802"
            ]
          },
          "metadata": {
            "tags": []
          }
        }
      ]
    },
    {
      "cell_type": "code",
      "metadata": {
        "id": "rc3Ttu46s6Xk"
      },
      "source": [
        "item_ex = tc.SFrame(raw_data[['cod_cli','Material']][(raw_data[' Sistema'] == 'INFRAESTRUTURA') |(raw_data[' Sistema'] == 'IRRIGACAO') |(raw_data[' Sistema'] == 'INDUSTRIAL')])  "
      ],
      "execution_count": null,
      "outputs": []
    },
    {
      "cell_type": "markdown",
      "metadata": {
        "id": "2IUhrjdK3DgW"
      },
      "source": [
        "https://apple.github.io/turicreate/docs/api/generated/turicreate.recommender.factorization_recommender.FactorizationRecommender.recommend.html#turicreate.recommender.factorization_recommender.FactorizationRecommender.recommend"
      ]
    },
    {
      "cell_type": "code",
      "metadata": {
        "colab": {
          "base_uri": "https://localhost:8080/",
          "height": 245
        },
        "id": "1zbT_EG7rBnx",
        "outputId": "2ed198f6-2ea9-4490-c48c-e632b4320c34"
      },
      "source": [
        "model.recommend(users=['1129945'],exclude=item_ex  )"
      ],
      "execution_count": null,
      "outputs": [
        {
          "output_type": "execute_result",
          "data": {
            "text/html": [
              "<div style=\"max-height:1000px;max-width:1500px;overflow:auto;\"><table frame=\"box\" rules=\"cols\">\n",
              "    <tr>\n",
              "        <th style=\"padding-left: 1em; padding-right: 1em; text-align: center\">cod_cli</th>\n",
              "        <th style=\"padding-left: 1em; padding-right: 1em; text-align: center\">Material</th>\n",
              "        <th style=\"padding-left: 1em; padding-right: 1em; text-align: center\">score</th>\n",
              "        <th style=\"padding-left: 1em; padding-right: 1em; text-align: center\">rank</th>\n",
              "    </tr>\n",
              "    <tr>\n",
              "        <td style=\"padding-left: 1em; padding-right: 1em; text-align: center; vertical-align: top\">1129945</td>\n",
              "        <td style=\"padding-left: 1em; padding-right: 1em; text-align: center; vertical-align: top\">27801056</td>\n",
              "        <td style=\"padding-left: 1em; padding-right: 1em; text-align: center; vertical-align: top\">-0.024571719144517168</td>\n",
              "        <td style=\"padding-left: 1em; padding-right: 1em; text-align: center; vertical-align: top\">1</td>\n",
              "    </tr>\n",
              "    <tr>\n",
              "        <td style=\"padding-left: 1em; padding-right: 1em; text-align: center; vertical-align: top\">1129945</td>\n",
              "        <td style=\"padding-left: 1em; padding-right: 1em; text-align: center; vertical-align: top\">27019985</td>\n",
              "        <td style=\"padding-left: 1em; padding-right: 1em; text-align: center; vertical-align: top\">-0.038486385515937194</td>\n",
              "        <td style=\"padding-left: 1em; padding-right: 1em; text-align: center; vertical-align: top\">2</td>\n",
              "    </tr>\n",
              "    <tr>\n",
              "        <td style=\"padding-left: 1em; padding-right: 1em; text-align: center; vertical-align: top\">1129945</td>\n",
              "        <td style=\"padding-left: 1em; padding-right: 1em; text-align: center; vertical-align: top\">22220500</td>\n",
              "        <td style=\"padding-left: 1em; padding-right: 1em; text-align: center; vertical-align: top\">-0.04547631109184547</td>\n",
              "        <td style=\"padding-left: 1em; padding-right: 1em; text-align: center; vertical-align: top\">3</td>\n",
              "    </tr>\n",
              "    <tr>\n",
              "        <td style=\"padding-left: 1em; padding-right: 1em; text-align: center; vertical-align: top\">1129945</td>\n",
              "        <td style=\"padding-left: 1em; padding-right: 1em; text-align: center; vertical-align: top\">33046979</td>\n",
              "        <td style=\"padding-left: 1em; padding-right: 1em; text-align: center; vertical-align: top\">-0.047073418770962945</td>\n",
              "        <td style=\"padding-left: 1em; padding-right: 1em; text-align: center; vertical-align: top\">4</td>\n",
              "    </tr>\n",
              "    <tr>\n",
              "        <td style=\"padding-left: 1em; padding-right: 1em; text-align: center; vertical-align: top\">1129945</td>\n",
              "        <td style=\"padding-left: 1em; padding-right: 1em; text-align: center; vertical-align: top\">33046995</td>\n",
              "        <td style=\"padding-left: 1em; padding-right: 1em; text-align: center; vertical-align: top\">-0.048238583754794284</td>\n",
              "        <td style=\"padding-left: 1em; padding-right: 1em; text-align: center; vertical-align: top\">5</td>\n",
              "    </tr>\n",
              "    <tr>\n",
              "        <td style=\"padding-left: 1em; padding-right: 1em; text-align: center; vertical-align: top\">1129945</td>\n",
              "        <td style=\"padding-left: 1em; padding-right: 1em; text-align: center; vertical-align: top\">33044410</td>\n",
              "        <td style=\"padding-left: 1em; padding-right: 1em; text-align: center; vertical-align: top\">-0.050603659388655416</td>\n",
              "        <td style=\"padding-left: 1em; padding-right: 1em; text-align: center; vertical-align: top\">6</td>\n",
              "    </tr>\n",
              "    <tr>\n",
              "        <td style=\"padding-left: 1em; padding-right: 1em; text-align: center; vertical-align: top\">1129945</td>\n",
              "        <td style=\"padding-left: 1em; padding-right: 1em; text-align: center; vertical-align: top\">33047002</td>\n",
              "        <td style=\"padding-left: 1em; padding-right: 1em; text-align: center; vertical-align: top\">-0.0526951263035178</td>\n",
              "        <td style=\"padding-left: 1em; padding-right: 1em; text-align: center; vertical-align: top\">7</td>\n",
              "    </tr>\n",
              "    <tr>\n",
              "        <td style=\"padding-left: 1em; padding-right: 1em; text-align: center; vertical-align: top\">1129945</td>\n",
              "        <td style=\"padding-left: 1em; padding-right: 1em; text-align: center; vertical-align: top\">22150324</td>\n",
              "        <td style=\"padding-left: 1em; padding-right: 1em; text-align: center; vertical-align: top\">-0.05335815643942876</td>\n",
              "        <td style=\"padding-left: 1em; padding-right: 1em; text-align: center; vertical-align: top\">8</td>\n",
              "    </tr>\n",
              "    <tr>\n",
              "        <td style=\"padding-left: 1em; padding-right: 1em; text-align: center; vertical-align: top\">1129945</td>\n",
              "        <td style=\"padding-left: 1em; padding-right: 1em; text-align: center; vertical-align: top\">22120328</td>\n",
              "        <td style=\"padding-left: 1em; padding-right: 1em; text-align: center; vertical-align: top\">-0.05833813100056684</td>\n",
              "        <td style=\"padding-left: 1em; padding-right: 1em; text-align: center; vertical-align: top\">9</td>\n",
              "    </tr>\n",
              "    <tr>\n",
              "        <td style=\"padding-left: 1em; padding-right: 1em; text-align: center; vertical-align: top\">1129945</td>\n",
              "        <td style=\"padding-left: 1em; padding-right: 1em; text-align: center; vertical-align: top\">22000500</td>\n",
              "        <td style=\"padding-left: 1em; padding-right: 1em; text-align: center; vertical-align: top\">-0.05868944557900502</td>\n",
              "        <td style=\"padding-left: 1em; padding-right: 1em; text-align: center; vertical-align: top\">10</td>\n",
              "    </tr>\n",
              "</table>\n",
              "[10 rows x 4 columns]<br/>\n",
              "</div>"
            ],
            "text/plain": [
              "Columns:\n",
              "\tcod_cli\tint\n",
              "\tMaterial\tint\n",
              "\tscore\tfloat\n",
              "\trank\tint\n",
              "\n",
              "Rows: 10\n",
              "\n",
              "Data:\n",
              "+---------+----------+-----------------------+------+\n",
              "| cod_cli | Material |         score         | rank |\n",
              "+---------+----------+-----------------------+------+\n",
              "| 1129945 | 27801056 | -0.024571719144517168 |  1   |\n",
              "| 1129945 | 27019985 | -0.038486385515937194 |  2   |\n",
              "| 1129945 | 22220500 |  -0.04547631109184547 |  3   |\n",
              "| 1129945 | 33046979 | -0.047073418770962945 |  4   |\n",
              "| 1129945 | 33046995 | -0.048238583754794284 |  5   |\n",
              "| 1129945 | 33044410 | -0.050603659388655416 |  6   |\n",
              "| 1129945 | 33047002 |  -0.0526951263035178  |  7   |\n",
              "| 1129945 | 22150324 |  -0.05335815643942876 |  8   |\n",
              "| 1129945 | 22120328 |  -0.05833813100056684 |  9   |\n",
              "| 1129945 | 22000500 |  -0.05868944557900502 |  10  |\n",
              "+---------+----------+-----------------------+------+\n",
              "[10 rows x 4 columns]"
            ]
          },
          "metadata": {
            "tags": []
          },
          "execution_count": 59
        }
      ]
    },
    {
      "cell_type": "code",
      "metadata": {
        "colab": {
          "base_uri": "https://localhost:8080/"
        },
        "id": "xG_UM2SyoV6D",
        "outputId": "35fbe8d5-1434-456f-e36e-ded0acbf7544"
      },
      "source": [
        "raw_data2[['cod_cli','volume','Material']][(raw_data2['cod_cli'] == 1003338) & (raw_data2['volume'] > 0.001 ) ].sort_values(by = ['volume'],ascending=False ).count()"
      ],
      "execution_count": null,
      "outputs": [
        {
          "output_type": "execute_result",
          "data": {
            "text/plain": [
              "cod_cli     48\n",
              "volume      48\n",
              "Material    48\n",
              "dtype: int64"
            ]
          },
          "metadata": {
            "tags": []
          },
          "execution_count": 59
        }
      ]
    },
    {
      "cell_type": "code",
      "metadata": {
        "colab": {
          "base_uri": "https://localhost:8080/"
        },
        "id": "5Z5L50fPiztw",
        "outputId": "4d9a3d95-3ea2-46b6-e108-e121344a9a0d"
      },
      "source": [
        "raw_data2.columns"
      ],
      "execution_count": null,
      "outputs": [
        {
          "output_type": "execute_result",
          "data": {
            "text/plain": [
              "Index([' Processo', 'cod_cli', 'cod_mat', 'volume', 'Cluster_KM', 'UF',\n",
              "       'grp_preco', 'escritorio', 'Material', 'Subsis_Linha',\n",
              "       'Grupo de Cliente', 'binario'],\n",
              "      dtype='object')"
            ]
          },
          "metadata": {
            "tags": []
          },
          "execution_count": 60
        }
      ]
    },
    {
      "cell_type": "code",
      "metadata": {
        "colab": {
          "base_uri": "https://localhost:8080/",
          "height": 1000
        },
        "id": "r_7o6lwPwMPo",
        "outputId": "a946c3c7-079f-4b13-88c1-87269f24aba7"
      },
      "source": [
        "raw_data2[['cod_cli','volume','Material',' Processo','Grupo de Cliente','escritorio','Subsis_Linha']][(raw_data2['cod_cli'] == 1003338) & (raw_data2['volume'] > 0.001 ) ].sort_values(by = ['volume'],ascending=False ).head(42)"
      ],
      "execution_count": null,
      "outputs": [
        {
          "output_type": "execute_result",
          "data": {
            "text/html": [
              "<div>\n",
              "<style scoped>\n",
              "    .dataframe tbody tr th:only-of-type {\n",
              "        vertical-align: middle;\n",
              "    }\n",
              "\n",
              "    .dataframe tbody tr th {\n",
              "        vertical-align: top;\n",
              "    }\n",
              "\n",
              "    .dataframe thead th {\n",
              "        text-align: right;\n",
              "    }\n",
              "</style>\n",
              "<table border=\"1\" class=\"dataframe\">\n",
              "  <thead>\n",
              "    <tr style=\"text-align: right;\">\n",
              "      <th></th>\n",
              "      <th>cod_cli</th>\n",
              "      <th>volume</th>\n",
              "      <th>Material</th>\n",
              "      <th>Processo</th>\n",
              "      <th>Grupo de Cliente</th>\n",
              "      <th>escritorio</th>\n",
              "      <th>Subsis_Linha</th>\n",
              "    </tr>\n",
              "  </thead>\n",
              "  <tbody>\n",
              "    <tr>\n",
              "      <th>371</th>\n",
              "      <td>1003338</td>\n",
              "      <td>0.17</td>\n",
              "      <td>11031030</td>\n",
              "      <td>EXTRUSAO</td>\n",
              "      <td>Varejo</td>\n",
              "      <td>IND. VAREJO</td>\n",
              "      <td>TUBO 50MMOutro100MM</td>\n",
              "    </tr>\n",
              "    <tr>\n",
              "      <th>371</th>\n",
              "      <td>1003338</td>\n",
              "      <td>0.17</td>\n",
              "      <td>10120250</td>\n",
              "      <td>EXTRUSAO</td>\n",
              "      <td>Varejo</td>\n",
              "      <td>IND. VAREJO</td>\n",
              "      <td>TUBO 20MMOutro32MM</td>\n",
              "    </tr>\n",
              "    <tr>\n",
              "      <th>371</th>\n",
              "      <td>1003338</td>\n",
              "      <td>0.05</td>\n",
              "      <td>14210253</td>\n",
              "      <td>EXTRUSAO</td>\n",
              "      <td>Varejo</td>\n",
              "      <td>IND. VAREJO</td>\n",
              "      <td>ELETRODUTO LEVE</td>\n",
              "    </tr>\n",
              "    <tr>\n",
              "      <th>371</th>\n",
              "      <td>1003338</td>\n",
              "      <td>0.04</td>\n",
              "      <td>10120500</td>\n",
              "      <td>EXTRUSAO</td>\n",
              "      <td>Varejo</td>\n",
              "      <td>IND. VAREJO</td>\n",
              "      <td>TUBO 40MMOutro50MM</td>\n",
              "    </tr>\n",
              "    <tr>\n",
              "      <th>371</th>\n",
              "      <td>1003338</td>\n",
              "      <td>0.04</td>\n",
              "      <td>26367484</td>\n",
              "      <td>INJECAO</td>\n",
              "      <td>Varejo</td>\n",
              "      <td>IND. VAREJO</td>\n",
              "      <td>CONEXAO 50MMOutro110MM</td>\n",
              "    </tr>\n",
              "    <tr>\n",
              "      <th>371</th>\n",
              "      <td>1003338</td>\n",
              "      <td>0.03</td>\n",
              "      <td>53001025</td>\n",
              "      <td>TERCEIRO</td>\n",
              "      <td>Varejo</td>\n",
              "      <td>IND. VAREJO</td>\n",
              "      <td>ADESIVO PVC INCOLOR</td>\n",
              "    </tr>\n",
              "    <tr>\n",
              "      <th>371</th>\n",
              "      <td>1003338</td>\n",
              "      <td>0.03</td>\n",
              "      <td>11030602</td>\n",
              "      <td>EXTRUSAO</td>\n",
              "      <td>Varejo</td>\n",
              "      <td>IND. VAREJO</td>\n",
              "      <td>TUBO 50MMOutro100MM</td>\n",
              "    </tr>\n",
              "    <tr>\n",
              "      <th>371</th>\n",
              "      <td>1003338</td>\n",
              "      <td>0.03</td>\n",
              "      <td>26241006</td>\n",
              "      <td>INJECAO</td>\n",
              "      <td>Varejo</td>\n",
              "      <td>IND. VAREJO</td>\n",
              "      <td>CONEXAO 50MMOutro110MM</td>\n",
              "    </tr>\n",
              "    <tr>\n",
              "      <th>371</th>\n",
              "      <td>1003338</td>\n",
              "      <td>0.03</td>\n",
              "      <td>53020151</td>\n",
              "      <td>TERCEIRO</td>\n",
              "      <td>Varejo</td>\n",
              "      <td>IND. VAREJO</td>\n",
              "      <td>ADESIVO PVC INCOLOR</td>\n",
              "    </tr>\n",
              "    <tr>\n",
              "      <th>371</th>\n",
              "      <td>1003338</td>\n",
              "      <td>0.03</td>\n",
              "      <td>27131328</td>\n",
              "      <td>INJECAO</td>\n",
              "      <td>Varejo</td>\n",
              "      <td>IND. VAREJO</td>\n",
              "      <td>CAIXA SIFONADA COMPLETO</td>\n",
              "    </tr>\n",
              "    <tr>\n",
              "      <th>371</th>\n",
              "      <td>1003338</td>\n",
              "      <td>0.02</td>\n",
              "      <td>54502630</td>\n",
              "      <td>TERCEIRO</td>\n",
              "      <td>Varejo</td>\n",
              "      <td>IND. VAREJO</td>\n",
              "      <td>CLASSE C</td>\n",
              "    </tr>\n",
              "    <tr>\n",
              "      <th>371</th>\n",
              "      <td>1003338</td>\n",
              "      <td>0.02</td>\n",
              "      <td>35267824</td>\n",
              "      <td>INJECAO</td>\n",
              "      <td>Varejo</td>\n",
              "      <td>IND. VAREJO</td>\n",
              "      <td>CONEXAO 20MMOutro32MM C/ IM</td>\n",
              "    </tr>\n",
              "    <tr>\n",
              "      <th>371</th>\n",
              "      <td>1003338</td>\n",
              "      <td>0.02</td>\n",
              "      <td>100019323</td>\n",
              "      <td>INJECAO</td>\n",
              "      <td>Varejo</td>\n",
              "      <td>IND. VAREJO</td>\n",
              "      <td>CAIXA COMPLETO</td>\n",
              "    </tr>\n",
              "    <tr>\n",
              "      <th>371</th>\n",
              "      <td>1003338</td>\n",
              "      <td>0.02</td>\n",
              "      <td>27068502</td>\n",
              "      <td>INJECAO</td>\n",
              "      <td>Varejo</td>\n",
              "      <td>IND. VAREJO</td>\n",
              "      <td>CAIXA SIFONADA COMPLETO</td>\n",
              "    </tr>\n",
              "    <tr>\n",
              "      <th>371</th>\n",
              "      <td>1003338</td>\n",
              "      <td>0.02</td>\n",
              "      <td>35227822</td>\n",
              "      <td>INJECAO</td>\n",
              "      <td>Varejo</td>\n",
              "      <td>IND. VAREJO</td>\n",
              "      <td>CONEXAO 20MMOutro32MM C/ IM</td>\n",
              "    </tr>\n",
              "    <tr>\n",
              "      <th>371</th>\n",
              "      <td>1003338</td>\n",
              "      <td>0.02</td>\n",
              "      <td>22002422</td>\n",
              "      <td>INJECAO</td>\n",
              "      <td>Varejo</td>\n",
              "      <td>IND. VAREJO</td>\n",
              "      <td>CONEXAO 20MMOutro32MM</td>\n",
              "    </tr>\n",
              "    <tr>\n",
              "      <th>371</th>\n",
              "      <td>1003338</td>\n",
              "      <td>0.02</td>\n",
              "      <td>14210326</td>\n",
              "      <td>EXTRUSAO</td>\n",
              "      <td>Varejo</td>\n",
              "      <td>IND. VAREJO</td>\n",
              "      <td>ELETRODUTO LEVE</td>\n",
              "    </tr>\n",
              "    <tr>\n",
              "      <th>371</th>\n",
              "      <td>1003338</td>\n",
              "      <td>0.01</td>\n",
              "      <td>27950310</td>\n",
              "      <td>INJECAO</td>\n",
              "      <td>Varejo</td>\n",
              "      <td>IND. VAREJO</td>\n",
              "      <td>REGISTRO COMPACTO</td>\n",
              "    </tr>\n",
              "    <tr>\n",
              "      <th>371</th>\n",
              "      <td>1003338</td>\n",
              "      <td>0.01</td>\n",
              "      <td>26367468</td>\n",
              "      <td>INJECAO</td>\n",
              "      <td>Varejo</td>\n",
              "      <td>IND. VAREJO</td>\n",
              "      <td>CONEXAO 50MMOutro110MM</td>\n",
              "    </tr>\n",
              "    <tr>\n",
              "      <th>371</th>\n",
              "      <td>1003338</td>\n",
              "      <td>0.01</td>\n",
              "      <td>26061008</td>\n",
              "      <td>INJECAO</td>\n",
              "      <td>Varejo</td>\n",
              "      <td>IND. VAREJO</td>\n",
              "      <td>CONEXAO 50MMOutro110MM</td>\n",
              "    </tr>\n",
              "    <tr>\n",
              "      <th>371</th>\n",
              "      <td>1003338</td>\n",
              "      <td>0.01</td>\n",
              "      <td>27131344</td>\n",
              "      <td>INJECAO</td>\n",
              "      <td>Varejo</td>\n",
              "      <td>IND. VAREJO</td>\n",
              "      <td>CAIXA SIFONADA COMPLETO</td>\n",
              "    </tr>\n",
              "    <tr>\n",
              "      <th>371</th>\n",
              "      <td>1003338</td>\n",
              "      <td>0.01</td>\n",
              "      <td>27950302</td>\n",
              "      <td>INJECAO</td>\n",
              "      <td>Varejo</td>\n",
              "      <td>IND. VAREJO</td>\n",
              "      <td>REGISTRO COMPACTO</td>\n",
              "    </tr>\n",
              "    <tr>\n",
              "      <th>371</th>\n",
              "      <td>1003338</td>\n",
              "      <td>0.01</td>\n",
              "      <td>27560407</td>\n",
              "      <td>INJECAO</td>\n",
              "      <td>Varejo</td>\n",
              "      <td>IND. VAREJO</td>\n",
              "      <td>CONEXAO 40MM</td>\n",
              "    </tr>\n",
              "    <tr>\n",
              "      <th>371</th>\n",
              "      <td>1003338</td>\n",
              "      <td>0.01</td>\n",
              "      <td>53010431</td>\n",
              "      <td>TERCEIRO</td>\n",
              "      <td>Varejo</td>\n",
              "      <td>IND. VAREJO</td>\n",
              "      <td>ADESIVO CPVC</td>\n",
              "    </tr>\n",
              "    <tr>\n",
              "      <th>371</th>\n",
              "      <td>1003338</td>\n",
              "      <td>0.01</td>\n",
              "      <td>27019919</td>\n",
              "      <td>INJECAO</td>\n",
              "      <td>Varejo</td>\n",
              "      <td>IND. VAREJO</td>\n",
              "      <td>CAIXA SIFONADA COMPLETO</td>\n",
              "    </tr>\n",
              "    <tr>\n",
              "      <th>371</th>\n",
              "      <td>1003338</td>\n",
              "      <td>0.01</td>\n",
              "      <td>22172204</td>\n",
              "      <td>INJECAO</td>\n",
              "      <td>Varejo</td>\n",
              "      <td>IND. VAREJO</td>\n",
              "      <td>CONEXAO 20MMOutro32MM</td>\n",
              "    </tr>\n",
              "    <tr>\n",
              "      <th>371</th>\n",
              "      <td>1003338</td>\n",
              "      <td>0.01</td>\n",
              "      <td>26211000</td>\n",
              "      <td>INJECAO</td>\n",
              "      <td>Varejo</td>\n",
              "      <td>IND. VAREJO</td>\n",
              "      <td>CONEXAO 50MMOutro110MM</td>\n",
              "    </tr>\n",
              "    <tr>\n",
              "      <th>371</th>\n",
              "      <td>1003338</td>\n",
              "      <td>0.01</td>\n",
              "      <td>300000488</td>\n",
              "      <td>TERCEIRO</td>\n",
              "      <td>Varejo</td>\n",
              "      <td>IND. VAREJO</td>\n",
              "      <td>TIGRE CROSS</td>\n",
              "    </tr>\n",
              "    <tr>\n",
              "      <th>371</th>\n",
              "      <td>1003338</td>\n",
              "      <td>0.01</td>\n",
              "      <td>54501854</td>\n",
              "      <td>TERCEIRO</td>\n",
              "      <td>Varejo</td>\n",
              "      <td>IND. VAREJO</td>\n",
              "      <td>FITA VEDAROSCA</td>\n",
              "    </tr>\n",
              "    <tr>\n",
              "      <th>371</th>\n",
              "      <td>1003338</td>\n",
              "      <td>0.01</td>\n",
              "      <td>27950345</td>\n",
              "      <td>INJECAO</td>\n",
              "      <td>Varejo</td>\n",
              "      <td>IND. VAREJO</td>\n",
              "      <td>REGISTRO COMPACTO</td>\n",
              "    </tr>\n",
              "    <tr>\n",
              "      <th>371</th>\n",
              "      <td>1003338</td>\n",
              "      <td>0.01</td>\n",
              "      <td>22002481</td>\n",
              "      <td>INJECAO</td>\n",
              "      <td>Varejo</td>\n",
              "      <td>IND. VAREJO</td>\n",
              "      <td>CONEXAO 40MMOutro50MM</td>\n",
              "    </tr>\n",
              "    <tr>\n",
              "      <th>371</th>\n",
              "      <td>1003338</td>\n",
              "      <td>0.01</td>\n",
              "      <td>33042841</td>\n",
              "      <td>INJECAO</td>\n",
              "      <td>Varejo</td>\n",
              "      <td>IND. VAREJO</td>\n",
              "      <td>CAIXA ELETRICA</td>\n",
              "    </tr>\n",
              "    <tr>\n",
              "      <th>371</th>\n",
              "      <td>1003338</td>\n",
              "      <td>0.01</td>\n",
              "      <td>54501900</td>\n",
              "      <td>TERCEIRO</td>\n",
              "      <td>Varejo</td>\n",
              "      <td>IND. VAREJO</td>\n",
              "      <td>FITA VEDAROSCA</td>\n",
              "    </tr>\n",
              "    <tr>\n",
              "      <th>371</th>\n",
              "      <td>1003338</td>\n",
              "      <td>0.01</td>\n",
              "      <td>22150251</td>\n",
              "      <td>INJECAO</td>\n",
              "      <td>Varejo</td>\n",
              "      <td>IND. VAREJO</td>\n",
              "      <td>CONEXAO 20MMOutro32MM</td>\n",
              "    </tr>\n",
              "    <tr>\n",
              "      <th>371</th>\n",
              "      <td>1003338</td>\n",
              "      <td>0.01</td>\n",
              "      <td>33046979</td>\n",
              "      <td>INJECAO</td>\n",
              "      <td>Varejo</td>\n",
              "      <td>IND. VAREJO</td>\n",
              "      <td>QUADRO EMBUTIR COMPLETO</td>\n",
              "    </tr>\n",
              "    <tr>\n",
              "      <th>371</th>\n",
              "      <td>1003338</td>\n",
              "      <td>0.01</td>\n",
              "      <td>53010229</td>\n",
              "      <td>TERCEIRO</td>\n",
              "      <td>Varejo</td>\n",
              "      <td>IND. VAREJO</td>\n",
              "      <td>ADESIVO PVC INCOLOR</td>\n",
              "    </tr>\n",
              "    <tr>\n",
              "      <th>371</th>\n",
              "      <td>1003338</td>\n",
              "      <td>0.01</td>\n",
              "      <td>22216902</td>\n",
              "      <td>INJECAO</td>\n",
              "      <td>Varejo</td>\n",
              "      <td>IND. VAREJO</td>\n",
              "      <td>CONEXAO 40MMOutro50MM</td>\n",
              "    </tr>\n",
              "    <tr>\n",
              "      <th>371</th>\n",
              "      <td>1003338</td>\n",
              "      <td>0.01</td>\n",
              "      <td>22120328</td>\n",
              "      <td>INJECAO</td>\n",
              "      <td>Varejo</td>\n",
              "      <td>IND. VAREJO</td>\n",
              "      <td>CONEXAO 20MMOutro32MM</td>\n",
              "    </tr>\n",
              "    <tr>\n",
              "      <th>371</th>\n",
              "      <td>1003338</td>\n",
              "      <td>0.01</td>\n",
              "      <td>22200259</td>\n",
              "      <td>INJECAO</td>\n",
              "      <td>Varejo</td>\n",
              "      <td>IND. VAREJO</td>\n",
              "      <td>CONEXAO 20MMOutro32MM</td>\n",
              "    </tr>\n",
              "    <tr>\n",
              "      <th>371</th>\n",
              "      <td>1003338</td>\n",
              "      <td>0.01</td>\n",
              "      <td>22000500</td>\n",
              "      <td>INJECAO</td>\n",
              "      <td>Varejo</td>\n",
              "      <td>IND. VAREJO</td>\n",
              "      <td>CONEXAO 40MMOutro50MM</td>\n",
              "    </tr>\n",
              "    <tr>\n",
              "      <th>371</th>\n",
              "      <td>1003338</td>\n",
              "      <td>0.00</td>\n",
              "      <td>22200500</td>\n",
              "      <td>INJECAO</td>\n",
              "      <td>Varejo</td>\n",
              "      <td>IND. VAREJO</td>\n",
              "      <td>CONEXAO 40MMOutro50MM</td>\n",
              "    </tr>\n",
              "    <tr>\n",
              "      <th>371</th>\n",
              "      <td>1003338</td>\n",
              "      <td>0.00</td>\n",
              "      <td>35217789</td>\n",
              "      <td>INJECAO</td>\n",
              "      <td>Varejo</td>\n",
              "      <td>IND. VAREJO</td>\n",
              "      <td>CONEXAO 20MMOutro32MM C/ IM</td>\n",
              "    </tr>\n",
              "  </tbody>\n",
              "</table>\n",
              "</div>"
            ],
            "text/plain": [
              "     cod_cli  volume  ...   escritorio                 Subsis_Linha\n",
              "371  1003338    0.17  ...  IND. VAREJO          TUBO 50MMOutro100MM\n",
              "371  1003338    0.17  ...  IND. VAREJO           TUBO 20MMOutro32MM\n",
              "371  1003338    0.05  ...  IND. VAREJO              ELETRODUTO LEVE\n",
              "371  1003338    0.04  ...  IND. VAREJO           TUBO 40MMOutro50MM\n",
              "371  1003338    0.04  ...  IND. VAREJO       CONEXAO 50MMOutro110MM\n",
              "371  1003338    0.03  ...  IND. VAREJO          ADESIVO PVC INCOLOR\n",
              "371  1003338    0.03  ...  IND. VAREJO          TUBO 50MMOutro100MM\n",
              "371  1003338    0.03  ...  IND. VAREJO       CONEXAO 50MMOutro110MM\n",
              "371  1003338    0.03  ...  IND. VAREJO          ADESIVO PVC INCOLOR\n",
              "371  1003338    0.03  ...  IND. VAREJO      CAIXA SIFONADA COMPLETO\n",
              "371  1003338    0.02  ...  IND. VAREJO                     CLASSE C\n",
              "371  1003338    0.02  ...  IND. VAREJO  CONEXAO 20MMOutro32MM C/ IM\n",
              "371  1003338    0.02  ...  IND. VAREJO               CAIXA COMPLETO\n",
              "371  1003338    0.02  ...  IND. VAREJO      CAIXA SIFONADA COMPLETO\n",
              "371  1003338    0.02  ...  IND. VAREJO  CONEXAO 20MMOutro32MM C/ IM\n",
              "371  1003338    0.02  ...  IND. VAREJO        CONEXAO 20MMOutro32MM\n",
              "371  1003338    0.02  ...  IND. VAREJO              ELETRODUTO LEVE\n",
              "371  1003338    0.01  ...  IND. VAREJO            REGISTRO COMPACTO\n",
              "371  1003338    0.01  ...  IND. VAREJO       CONEXAO 50MMOutro110MM\n",
              "371  1003338    0.01  ...  IND. VAREJO       CONEXAO 50MMOutro110MM\n",
              "371  1003338    0.01  ...  IND. VAREJO      CAIXA SIFONADA COMPLETO\n",
              "371  1003338    0.01  ...  IND. VAREJO            REGISTRO COMPACTO\n",
              "371  1003338    0.01  ...  IND. VAREJO                 CONEXAO 40MM\n",
              "371  1003338    0.01  ...  IND. VAREJO                 ADESIVO CPVC\n",
              "371  1003338    0.01  ...  IND. VAREJO      CAIXA SIFONADA COMPLETO\n",
              "371  1003338    0.01  ...  IND. VAREJO        CONEXAO 20MMOutro32MM\n",
              "371  1003338    0.01  ...  IND. VAREJO       CONEXAO 50MMOutro110MM\n",
              "371  1003338    0.01  ...  IND. VAREJO                  TIGRE CROSS\n",
              "371  1003338    0.01  ...  IND. VAREJO               FITA VEDAROSCA\n",
              "371  1003338    0.01  ...  IND. VAREJO            REGISTRO COMPACTO\n",
              "371  1003338    0.01  ...  IND. VAREJO        CONEXAO 40MMOutro50MM\n",
              "371  1003338    0.01  ...  IND. VAREJO               CAIXA ELETRICA\n",
              "371  1003338    0.01  ...  IND. VAREJO               FITA VEDAROSCA\n",
              "371  1003338    0.01  ...  IND. VAREJO        CONEXAO 20MMOutro32MM\n",
              "371  1003338    0.01  ...  IND. VAREJO      QUADRO EMBUTIR COMPLETO\n",
              "371  1003338    0.01  ...  IND. VAREJO          ADESIVO PVC INCOLOR\n",
              "371  1003338    0.01  ...  IND. VAREJO        CONEXAO 40MMOutro50MM\n",
              "371  1003338    0.01  ...  IND. VAREJO        CONEXAO 20MMOutro32MM\n",
              "371  1003338    0.01  ...  IND. VAREJO        CONEXAO 20MMOutro32MM\n",
              "371  1003338    0.01  ...  IND. VAREJO        CONEXAO 40MMOutro50MM\n",
              "371  1003338    0.00  ...  IND. VAREJO        CONEXAO 40MMOutro50MM\n",
              "371  1003338    0.00  ...  IND. VAREJO  CONEXAO 20MMOutro32MM C/ IM\n",
              "\n",
              "[42 rows x 7 columns]"
            ]
          },
          "metadata": {
            "tags": []
          },
          "execution_count": 61
        }
      ]
    },
    {
      "cell_type": "code",
      "metadata": {
        "colab": {
          "base_uri": "https://localhost:8080/",
          "height": 55
        },
        "id": "AAy4I5gm4gMT",
        "outputId": "71f9b07a-f7a7-4b07-d09a-90c94fdc3e9e"
      },
      "source": [
        "model.get_similar_items(['TUBO SOLD NBR 5648 6,00M 25MM'])"
      ],
      "execution_count": null,
      "outputs": [
        {
          "output_type": "execute_result",
          "data": {
            "text/html": [
              "<div style=\"max-height:1000px;max-width:1500px;overflow:auto;\"><table frame=\"box\" rules=\"cols\">\n",
              "    <tr>\n",
              "        <th style=\"padding-left: 1em; padding-right: 1em; text-align: center\">Material</th>\n",
              "        <th style=\"padding-left: 1em; padding-right: 1em; text-align: center\">similar</th>\n",
              "        <th style=\"padding-left: 1em; padding-right: 1em; text-align: center\">score</th>\n",
              "        <th style=\"padding-left: 1em; padding-right: 1em; text-align: center\">rank</th>\n",
              "    </tr>\n",
              "</table>\n",
              "[0 rows x 4 columns]<br/>\n",
              "</div>"
            ],
            "text/plain": [
              "Columns:\n",
              "\tMaterial\tint\n",
              "\tsimilar\tint\n",
              "\tscore\tfloat\n",
              "\trank\tint\n",
              "\n",
              "Rows: 0\n",
              "\n",
              "Data:\n",
              "\t[]"
            ]
          },
          "metadata": {
            "tags": []
          },
          "execution_count": 62
        }
      ]
    },
    {
      "cell_type": "code",
      "metadata": {
        "colab": {
          "base_uri": "https://localhost:8080/",
          "height": 262
        },
        "id": "Hs-L8g2kpguQ",
        "outputId": "4dcdce91-0059-4a70-f68b-34dad9985cc6"
      },
      "source": [
        "model.get_similar_users(users=[1024657] ,k=10)"
      ],
      "execution_count": null,
      "outputs": [
        {
          "output_type": "display_data",
          "data": {
            "text/html": [
              "<pre>Getting similar users completed in 0.001585</pre>"
            ],
            "text/plain": [
              "Getting similar users completed in 0.001585"
            ]
          },
          "metadata": {
            "tags": []
          }
        },
        {
          "output_type": "execute_result",
          "data": {
            "text/html": [
              "<div style=\"max-height:1000px;max-width:1500px;overflow:auto;\"><table frame=\"box\" rules=\"cols\">\n",
              "    <tr>\n",
              "        <th style=\"padding-left: 1em; padding-right: 1em; text-align: center\">cod_cli</th>\n",
              "        <th style=\"padding-left: 1em; padding-right: 1em; text-align: center\">similar</th>\n",
              "        <th style=\"padding-left: 1em; padding-right: 1em; text-align: center\">score</th>\n",
              "        <th style=\"padding-left: 1em; padding-right: 1em; text-align: center\">rank</th>\n",
              "    </tr>\n",
              "    <tr>\n",
              "        <td style=\"padding-left: 1em; padding-right: 1em; text-align: center; vertical-align: top\">1024657</td>\n",
              "        <td style=\"padding-left: 1em; padding-right: 1em; text-align: center; vertical-align: top\">1056012</td>\n",
              "        <td style=\"padding-left: 1em; padding-right: 1em; text-align: center; vertical-align: top\">0.7757031321525574</td>\n",
              "        <td style=\"padding-left: 1em; padding-right: 1em; text-align: center; vertical-align: top\">1</td>\n",
              "    </tr>\n",
              "    <tr>\n",
              "        <td style=\"padding-left: 1em; padding-right: 1em; text-align: center; vertical-align: top\">1024657</td>\n",
              "        <td style=\"padding-left: 1em; padding-right: 1em; text-align: center; vertical-align: top\">1145755</td>\n",
              "        <td style=\"padding-left: 1em; padding-right: 1em; text-align: center; vertical-align: top\">0.6802785396575928</td>\n",
              "        <td style=\"padding-left: 1em; padding-right: 1em; text-align: center; vertical-align: top\">2</td>\n",
              "    </tr>\n",
              "    <tr>\n",
              "        <td style=\"padding-left: 1em; padding-right: 1em; text-align: center; vertical-align: top\">1024657</td>\n",
              "        <td style=\"padding-left: 1em; padding-right: 1em; text-align: center; vertical-align: top\">1060708</td>\n",
              "        <td style=\"padding-left: 1em; padding-right: 1em; text-align: center; vertical-align: top\">0.6792468428611755</td>\n",
              "        <td style=\"padding-left: 1em; padding-right: 1em; text-align: center; vertical-align: top\">3</td>\n",
              "    </tr>\n",
              "    <tr>\n",
              "        <td style=\"padding-left: 1em; padding-right: 1em; text-align: center; vertical-align: top\">1024657</td>\n",
              "        <td style=\"padding-left: 1em; padding-right: 1em; text-align: center; vertical-align: top\">1009133</td>\n",
              "        <td style=\"padding-left: 1em; padding-right: 1em; text-align: center; vertical-align: top\">0.6787852048873901</td>\n",
              "        <td style=\"padding-left: 1em; padding-right: 1em; text-align: center; vertical-align: top\">4</td>\n",
              "    </tr>\n",
              "    <tr>\n",
              "        <td style=\"padding-left: 1em; padding-right: 1em; text-align: center; vertical-align: top\">1024657</td>\n",
              "        <td style=\"padding-left: 1em; padding-right: 1em; text-align: center; vertical-align: top\">1050362</td>\n",
              "        <td style=\"padding-left: 1em; padding-right: 1em; text-align: center; vertical-align: top\">0.6740198135375977</td>\n",
              "        <td style=\"padding-left: 1em; padding-right: 1em; text-align: center; vertical-align: top\">5</td>\n",
              "    </tr>\n",
              "    <tr>\n",
              "        <td style=\"padding-left: 1em; padding-right: 1em; text-align: center; vertical-align: top\">1024657</td>\n",
              "        <td style=\"padding-left: 1em; padding-right: 1em; text-align: center; vertical-align: top\">1063059</td>\n",
              "        <td style=\"padding-left: 1em; padding-right: 1em; text-align: center; vertical-align: top\">0.6686318516731262</td>\n",
              "        <td style=\"padding-left: 1em; padding-right: 1em; text-align: center; vertical-align: top\">6</td>\n",
              "    </tr>\n",
              "    <tr>\n",
              "        <td style=\"padding-left: 1em; padding-right: 1em; text-align: center; vertical-align: top\">1024657</td>\n",
              "        <td style=\"padding-left: 1em; padding-right: 1em; text-align: center; vertical-align: top\">1007950</td>\n",
              "        <td style=\"padding-left: 1em; padding-right: 1em; text-align: center; vertical-align: top\">0.6463801860809326</td>\n",
              "        <td style=\"padding-left: 1em; padding-right: 1em; text-align: center; vertical-align: top\">7</td>\n",
              "    </tr>\n",
              "    <tr>\n",
              "        <td style=\"padding-left: 1em; padding-right: 1em; text-align: center; vertical-align: top\">1024657</td>\n",
              "        <td style=\"padding-left: 1em; padding-right: 1em; text-align: center; vertical-align: top\">1022412</td>\n",
              "        <td style=\"padding-left: 1em; padding-right: 1em; text-align: center; vertical-align: top\">0.6427121162414551</td>\n",
              "        <td style=\"padding-left: 1em; padding-right: 1em; text-align: center; vertical-align: top\">8</td>\n",
              "    </tr>\n",
              "    <tr>\n",
              "        <td style=\"padding-left: 1em; padding-right: 1em; text-align: center; vertical-align: top\">1024657</td>\n",
              "        <td style=\"padding-left: 1em; padding-right: 1em; text-align: center; vertical-align: top\">1050191</td>\n",
              "        <td style=\"padding-left: 1em; padding-right: 1em; text-align: center; vertical-align: top\">0.6413745880126953</td>\n",
              "        <td style=\"padding-left: 1em; padding-right: 1em; text-align: center; vertical-align: top\">9</td>\n",
              "    </tr>\n",
              "    <tr>\n",
              "        <td style=\"padding-left: 1em; padding-right: 1em; text-align: center; vertical-align: top\">1024657</td>\n",
              "        <td style=\"padding-left: 1em; padding-right: 1em; text-align: center; vertical-align: top\">1036691</td>\n",
              "        <td style=\"padding-left: 1em; padding-right: 1em; text-align: center; vertical-align: top\">0.6383286118507385</td>\n",
              "        <td style=\"padding-left: 1em; padding-right: 1em; text-align: center; vertical-align: top\">10</td>\n",
              "    </tr>\n",
              "</table>\n",
              "[10 rows x 4 columns]<br/>\n",
              "</div>"
            ],
            "text/plain": [
              "Columns:\n",
              "\tcod_cli\tint\n",
              "\tsimilar\tint\n",
              "\tscore\tfloat\n",
              "\trank\tint\n",
              "\n",
              "Rows: 10\n",
              "\n",
              "Data:\n",
              "+---------+---------+--------------------+------+\n",
              "| cod_cli | similar |       score        | rank |\n",
              "+---------+---------+--------------------+------+\n",
              "| 1024657 | 1056012 | 0.7757031321525574 |  1   |\n",
              "| 1024657 | 1145755 | 0.6802785396575928 |  2   |\n",
              "| 1024657 | 1060708 | 0.6792468428611755 |  3   |\n",
              "| 1024657 | 1009133 | 0.6787852048873901 |  4   |\n",
              "| 1024657 | 1050362 | 0.6740198135375977 |  5   |\n",
              "| 1024657 | 1063059 | 0.6686318516731262 |  6   |\n",
              "| 1024657 | 1007950 | 0.6463801860809326 |  7   |\n",
              "| 1024657 | 1022412 | 0.6427121162414551 |  8   |\n",
              "| 1024657 | 1050191 | 0.6413745880126953 |  9   |\n",
              "| 1024657 | 1036691 | 0.6383286118507385 |  10  |\n",
              "+---------+---------+--------------------+------+\n",
              "[10 rows x 4 columns]"
            ]
          },
          "metadata": {
            "tags": []
          },
          "execution_count": 63
        }
      ]
    },
    {
      "cell_type": "code",
      "metadata": {
        "colab": {
          "base_uri": "https://localhost:8080/",
          "height": 1000
        },
        "id": "nZUWXmSygmAc",
        "outputId": "6c0b3e1e-ee55-46f4-9b87-20dacd348afe"
      },
      "source": [
        "model.evaluate(actions,target='volume', exclude_known_for_precision_recall= False)"
      ],
      "execution_count": null,
      "outputs": [
        {
          "output_type": "display_data",
          "data": {
            "text/html": [
              "<pre>recommendations finished on 1000/13066 queries. users per second: 4198.4</pre>"
            ],
            "text/plain": [
              "recommendations finished on 1000/13066 queries. users per second: 4198.4"
            ]
          },
          "metadata": {
            "tags": []
          }
        },
        {
          "output_type": "display_data",
          "data": {
            "text/html": [
              "<pre>recommendations finished on 2000/13066 queries. users per second: 4335.97</pre>"
            ],
            "text/plain": [
              "recommendations finished on 2000/13066 queries. users per second: 4335.97"
            ]
          },
          "metadata": {
            "tags": []
          }
        },
        {
          "output_type": "display_data",
          "data": {
            "text/html": [
              "<pre>recommendations finished on 3000/13066 queries. users per second: 4405.23</pre>"
            ],
            "text/plain": [
              "recommendations finished on 3000/13066 queries. users per second: 4405.23"
            ]
          },
          "metadata": {
            "tags": []
          }
        },
        {
          "output_type": "display_data",
          "data": {
            "text/html": [
              "<pre>recommendations finished on 4000/13066 queries. users per second: 4397.29</pre>"
            ],
            "text/plain": [
              "recommendations finished on 4000/13066 queries. users per second: 4397.29"
            ]
          },
          "metadata": {
            "tags": []
          }
        },
        {
          "output_type": "display_data",
          "data": {
            "text/html": [
              "<pre>recommendations finished on 5000/13066 queries. users per second: 4409.79</pre>"
            ],
            "text/plain": [
              "recommendations finished on 5000/13066 queries. users per second: 4409.79"
            ]
          },
          "metadata": {
            "tags": []
          }
        },
        {
          "output_type": "display_data",
          "data": {
            "text/html": [
              "<pre>recommendations finished on 6000/13066 queries. users per second: 4374.35</pre>"
            ],
            "text/plain": [
              "recommendations finished on 6000/13066 queries. users per second: 4374.35"
            ]
          },
          "metadata": {
            "tags": []
          }
        },
        {
          "output_type": "display_data",
          "data": {
            "text/html": [
              "<pre>recommendations finished on 7000/13066 queries. users per second: 4415.96</pre>"
            ],
            "text/plain": [
              "recommendations finished on 7000/13066 queries. users per second: 4415.96"
            ]
          },
          "metadata": {
            "tags": []
          }
        },
        {
          "output_type": "display_data",
          "data": {
            "text/html": [
              "<pre>recommendations finished on 8000/13066 queries. users per second: 4406.42</pre>"
            ],
            "text/plain": [
              "recommendations finished on 8000/13066 queries. users per second: 4406.42"
            ]
          },
          "metadata": {
            "tags": []
          }
        },
        {
          "output_type": "display_data",
          "data": {
            "text/html": [
              "<pre>recommendations finished on 9000/13066 queries. users per second: 4420.63</pre>"
            ],
            "text/plain": [
              "recommendations finished on 9000/13066 queries. users per second: 4420.63"
            ]
          },
          "metadata": {
            "tags": []
          }
        },
        {
          "output_type": "display_data",
          "data": {
            "text/html": [
              "<pre>recommendations finished on 10000/13066 queries. users per second: 4404</pre>"
            ],
            "text/plain": [
              "recommendations finished on 10000/13066 queries. users per second: 4404"
            ]
          },
          "metadata": {
            "tags": []
          }
        },
        {
          "output_type": "display_data",
          "data": {
            "text/html": [
              "<pre>recommendations finished on 11000/13066 queries. users per second: 4394.61</pre>"
            ],
            "text/plain": [
              "recommendations finished on 11000/13066 queries. users per second: 4394.61"
            ]
          },
          "metadata": {
            "tags": []
          }
        },
        {
          "output_type": "display_data",
          "data": {
            "text/html": [
              "<pre>recommendations finished on 12000/13066 queries. users per second: 4387.68</pre>"
            ],
            "text/plain": [
              "recommendations finished on 12000/13066 queries. users per second: 4387.68"
            ]
          },
          "metadata": {
            "tags": []
          }
        },
        {
          "output_type": "display_data",
          "data": {
            "text/html": [
              "<pre>recommendations finished on 13000/13066 queries. users per second: 4385.99</pre>"
            ],
            "text/plain": [
              "recommendations finished on 13000/13066 queries. users per second: 4385.99"
            ]
          },
          "metadata": {
            "tags": []
          }
        },
        {
          "output_type": "stream",
          "text": [
            "\n",
            "Precision and recall summary statistics by cutoff\n",
            "+--------+--------------------+---------------------+\n",
            "| cutoff |   mean_precision   |     mean_recall     |\n",
            "+--------+--------------------+---------------------+\n",
            "|   1    | 0.7446043165467623 | 0.07180533806423928 |\n",
            "|   2    | 0.6683376702893006 | 0.10801094331112086 |\n",
            "|   3    | 0.6236287565692126 | 0.13534466898812142 |\n",
            "|   4    | 0.5956490127047279 |  0.1589444163411759 |\n",
            "|   5    | 0.5750344405326807 | 0.17927022100178439 |\n",
            "|   6    | 0.5582172559824492 | 0.19781480021298375 |\n",
            "|   7    | 0.5436465417331768 | 0.21508721926564633 |\n",
            "|   8    | 0.5319244604316563 |  0.2312712707450384 |\n",
            "|   9    | 0.5228157899212555 | 0.24749424798990893 |\n",
            "|   10   | 0.5147635083422616 |  0.2624699871271361 |\n",
            "+--------+--------------------+---------------------+\n",
            "[10 rows x 3 columns]\n",
            "\n",
            "\n",
            "Overall RMSE: 0.01981108830699563\n",
            "\n",
            "Per User RMSE (best)\n",
            "+---------+-----------------------+-------+\n",
            "| cod_cli |          rmse         | count |\n",
            "+---------+-----------------------+-------+\n",
            "| 1114437 | 0.0006544874234377662 |   1   |\n",
            "+---------+-----------------------+-------+\n",
            "[1 rows x 3 columns]\n",
            "\n",
            "\n",
            "Per User RMSE (worst)\n",
            "+---------+--------------------+-------+\n",
            "| cod_cli |        rmse        | count |\n",
            "+---------+--------------------+-------+\n",
            "| 1127114 | 1.0198113189629565 |   1   |\n",
            "+---------+--------------------+-------+\n",
            "[1 rows x 3 columns]\n",
            "\n",
            "\n",
            "Per Item RMSE (best)\n",
            "+----------+--------------------+-------+\n",
            "| Material |        rmse        | count |\n",
            "+----------+--------------------+-------+\n",
            "| 26210500 | 0.0074428906407906 |  2747 |\n",
            "+----------+--------------------+-------+\n",
            "[1 rows x 3 columns]\n",
            "\n",
            "\n",
            "Per Item RMSE (worst)\n",
            "+----------+---------------------+-------+\n",
            "| Material |         rmse        | count |\n",
            "+----------+---------------------+-------+\n",
            "| 11212697 | 0.10048562956334367 |  118  |\n",
            "+----------+---------------------+-------+\n",
            "[1 rows x 3 columns]\n",
            "\n"
          ],
          "name": "stdout"
        },
        {
          "output_type": "execute_result",
          "data": {
            "text/plain": [
              "{'precision_recall_by_user': Columns:\n",
              " \tcod_cli\tint\n",
              " \tcutoff\tint\n",
              " \tprecision\tfloat\n",
              " \trecall\tfloat\n",
              " \tcount\tint\n",
              " \n",
              " Rows: 235188\n",
              " \n",
              " Data:\n",
              " +---------+--------+-----------+---------------------+-------+\n",
              " | cod_cli | cutoff | precision |        recall       | count |\n",
              " +---------+--------+-----------+---------------------+-------+\n",
              " | 1044791 |   1    |    1.0    | 0.00546448087431694 |  183  |\n",
              " | 1044791 |   2    |    1.0    | 0.01092896174863388 |  183  |\n",
              " | 1044791 |   3    |    1.0    | 0.01639344262295082 |  183  |\n",
              " | 1044791 |   4    |    1.0    | 0.02185792349726776 |  183  |\n",
              " | 1044791 |   5    |    1.0    |  0.0273224043715847 |  183  |\n",
              " | 1044791 |   6    |    1.0    | 0.03278688524590164 |  183  |\n",
              " | 1044791 |   7    |    1.0    | 0.03825136612021858 |  183  |\n",
              " | 1044791 |   8    |    1.0    | 0.04371584699453552 |  183  |\n",
              " | 1044791 |   9    |    1.0    | 0.04918032786885246 |  183  |\n",
              " | 1044791 |   10   |    1.0    |  0.0546448087431694 |  183  |\n",
              " +---------+--------+-----------+---------------------+-------+\n",
              " [235188 rows x 5 columns]\n",
              " Note: Only the head of the SFrame is printed.\n",
              " You can use print_rows(num_rows=m, num_columns=n) to print more rows and columns.,\n",
              " 'precision_recall_overall': Columns:\n",
              " \tcutoff\tint\n",
              " \tprecision\tfloat\n",
              " \trecall\tfloat\n",
              " \n",
              " Rows: 18\n",
              " \n",
              " Data:\n",
              " +--------+--------------------+---------------------+\n",
              " | cutoff |     precision      |        recall       |\n",
              " +--------+--------------------+---------------------+\n",
              " |   1    | 0.7446043165467618 | 0.07180533806423951 |\n",
              " |   2    | 0.6683376702893019 | 0.10801094331112081 |\n",
              " |   3    | 0.6236287565692126 | 0.13534466898812142 |\n",
              " |   4    | 0.5956490127047285 | 0.15894441634117581 |\n",
              " |   5    | 0.5750344405326815 | 0.17927022100178447 |\n",
              " |   6    | 0.5582172559824475 |  0.1978148002129837 |\n",
              " |   7    | 0.5436465417331798 | 0.21508721926564625 |\n",
              " |   8    | 0.5319244604316544 | 0.23127127074503864 |\n",
              " |   9    | 0.5228157899212549 |  0.247494247989909  |\n",
              " |   10   | 0.5147635083422625 |  0.2624699871271361 |\n",
              " +--------+--------------------+---------------------+\n",
              " [18 rows x 3 columns]\n",
              " Note: Only the head of the SFrame is printed.\n",
              " You can use print_rows(num_rows=m, num_columns=n) to print more rows and columns.,\n",
              " 'rmse_by_item': Columns:\n",
              " \tMaterial\tint\n",
              " \trmse\tfloat\n",
              " \tcount\tint\n",
              " \n",
              " Rows: 333\n",
              " \n",
              " Data:\n",
              " +-----------+----------------------+-------+\n",
              " |  Material |         rmse         | count |\n",
              " +-----------+----------------------+-------+\n",
              " |  22150260 | 0.014632476245208415 |  887  |\n",
              " |  22151037 |  0.0255030927741915  |  279  |\n",
              " |  35308369 | 0.015459564096515888 |  2980 |\n",
              " |  37050504 | 0.01289044518192609  |  2370 |\n",
              " |  26212018 | 0.012760603583667509 |  685  |\n",
              " |  33048491 | 0.026374423955987582 |  1027 |\n",
              " |  27801145 | 0.029683475775945663 |  481  |\n",
              " |  26210769 | 0.016275721381815426 |  484  |\n",
              " | 300000470 | 0.02849168123952031  |  4935 |\n",
              " |  33048505 | 0.02289425869707785  |  1444 |\n",
              " +-----------+----------------------+-------+\n",
              " [333 rows x 3 columns]\n",
              " Note: Only the head of the SFrame is printed.\n",
              " You can use print_rows(num_rows=m, num_columns=n) to print more rows and columns.,\n",
              " 'rmse_by_user': Columns:\n",
              " \tcod_cli\tint\n",
              " \trmse\tfloat\n",
              " \tcount\tint\n",
              " \n",
              " Rows: 13066\n",
              " \n",
              " Data:\n",
              " +---------+----------------------+-------+\n",
              " | cod_cli |         rmse         | count |\n",
              " +---------+----------------------+-------+\n",
              " | 1116592 | 0.012373549953550634 |   45  |\n",
              " | 1108346 |  0.0418661655546199  |   7   |\n",
              " | 1047607 | 0.015160277177119342 |   58  |\n",
              " | 1124657 | 0.01677519553312771  |  141  |\n",
              " | 1006367 | 0.013425918970296926 |  124  |\n",
              " | 1059670 | 0.023862275298841176 |   8   |\n",
              " | 1042564 | 0.029595325761792475 |   9   |\n",
              " | 1097142 | 0.02497973342683907  |   9   |\n",
              " | 1050658 | 0.015128661229409094 |  116  |\n",
              " | 1128086 | 0.01636160178828459  |   31  |\n",
              " +---------+----------------------+-------+\n",
              " [13066 rows x 3 columns]\n",
              " Note: Only the head of the SFrame is printed.\n",
              " You can use print_rows(num_rows=m, num_columns=n) to print more rows and columns.,\n",
              " 'rmse_overall': 0.01981108830699563}"
            ]
          },
          "metadata": {
            "tags": []
          },
          "execution_count": 64
        }
      ]
    },
    {
      "cell_type": "code",
      "metadata": {
        "id": "Q7cbYhP9OuD3"
      },
      "source": [
        "#m = tc.ranking_factorization_recommender.create(actions, max_iterations=200,target='volume', user_id='cod_cli', item_id='Material',side_data_factorization=True,user_data= c_side_data, random_seed=42)"
      ],
      "execution_count": null,
      "outputs": []
    },
    {
      "cell_type": "code",
      "metadata": {
        "id": "OnzGMv3RoF3E"
      },
      "source": [
        "#training_data, validation_data = tc.recommender.util.random_split_by_user(actions,  'cod_cli', 'Material')"
      ],
      "execution_count": null,
      "outputs": []
    },
    {
      "cell_type": "code",
      "metadata": {
        "colab": {
          "base_uri": "https://localhost:8080/",
          "height": 1000
        },
        "id": "EPlzTIz4krah",
        "outputId": "08d61b23-46de-497f-8a4d-876eb93f2f6c"
      },
      "source": [
        "m = tc.ranking_factorization_recommender.create(training_data, max_iterations=500,target='volume', user_id='cod_cli', item_id='Material',side_data_factorization=True,user_data=c_side_data, item_data=m_side_data , random_seed=42)"
      ],
      "execution_count": null,
      "outputs": [
        {
          "output_type": "display_data",
          "data": {
            "text/html": [
              "<pre>Preparing data set.</pre>"
            ],
            "text/plain": [
              "Preparing data set."
            ]
          },
          "metadata": {
            "tags": []
          }
        },
        {
          "output_type": "display_data",
          "data": {
            "text/html": [
              "<pre>    Data has 488386 observations with 13066 users and 333 items.</pre>"
            ],
            "text/plain": [
              "    Data has 488386 observations with 13066 users and 333 items."
            ]
          },
          "metadata": {
            "tags": []
          }
        },
        {
          "output_type": "display_data",
          "data": {
            "text/html": [
              "<pre>    Data prepared in: 1.98369s</pre>"
            ],
            "text/plain": [
              "    Data prepared in: 1.98369s"
            ]
          },
          "metadata": {
            "tags": []
          }
        },
        {
          "output_type": "display_data",
          "data": {
            "text/html": [
              "<pre>Training ranking_factorization_recommender for recommendations.</pre>"
            ],
            "text/plain": [
              "Training ranking_factorization_recommender for recommendations."
            ]
          },
          "metadata": {
            "tags": []
          }
        },
        {
          "output_type": "display_data",
          "data": {
            "text/html": [
              "<pre>+--------------------------------+--------------------------------------------------+----------+</pre>"
            ],
            "text/plain": [
              "+--------------------------------+--------------------------------------------------+----------+"
            ]
          },
          "metadata": {
            "tags": []
          }
        },
        {
          "output_type": "display_data",
          "data": {
            "text/html": [
              "<pre>| Parameter                      | Description                                      | Value    |</pre>"
            ],
            "text/plain": [
              "| Parameter                      | Description                                      | Value    |"
            ]
          },
          "metadata": {
            "tags": []
          }
        },
        {
          "output_type": "display_data",
          "data": {
            "text/html": [
              "<pre>+--------------------------------+--------------------------------------------------+----------+</pre>"
            ],
            "text/plain": [
              "+--------------------------------+--------------------------------------------------+----------+"
            ]
          },
          "metadata": {
            "tags": []
          }
        },
        {
          "output_type": "display_data",
          "data": {
            "text/html": [
              "<pre>| num_factors                    | Factor Dimension                                 | 32       |</pre>"
            ],
            "text/plain": [
              "| num_factors                    | Factor Dimension                                 | 32       |"
            ]
          },
          "metadata": {
            "tags": []
          }
        },
        {
          "output_type": "display_data",
          "data": {
            "text/html": [
              "<pre>| regularization                 | L2 Regularization on Factors                     | 1e-09    |</pre>"
            ],
            "text/plain": [
              "| regularization                 | L2 Regularization on Factors                     | 1e-09    |"
            ]
          },
          "metadata": {
            "tags": []
          }
        },
        {
          "output_type": "display_data",
          "data": {
            "text/html": [
              "<pre>| solver                         | Solver used for training                         | adagrad  |</pre>"
            ],
            "text/plain": [
              "| solver                         | Solver used for training                         | adagrad  |"
            ]
          },
          "metadata": {
            "tags": []
          }
        },
        {
          "output_type": "display_data",
          "data": {
            "text/html": [
              "<pre>| linear_regularization          | L2 Regularization on Linear Coefficients         | 1e-09    |</pre>"
            ],
            "text/plain": [
              "| linear_regularization          | L2 Regularization on Linear Coefficients         | 1e-09    |"
            ]
          },
          "metadata": {
            "tags": []
          }
        },
        {
          "output_type": "display_data",
          "data": {
            "text/html": [
              "<pre>| ranking_regularization         | Rank-based Regularization Weight                 | 0.25     |</pre>"
            ],
            "text/plain": [
              "| ranking_regularization         | Rank-based Regularization Weight                 | 0.25     |"
            ]
          },
          "metadata": {
            "tags": []
          }
        },
        {
          "output_type": "display_data",
          "data": {
            "text/html": [
              "<pre>| side_data_factorization        | Assign Factors for Side Data                     | True     |</pre>"
            ],
            "text/plain": [
              "| side_data_factorization        | Assign Factors for Side Data                     | True     |"
            ]
          },
          "metadata": {
            "tags": []
          }
        },
        {
          "output_type": "display_data",
          "data": {
            "text/html": [
              "<pre>| max_iterations                 | Maximum Number of Iterations                     | 500      |</pre>"
            ],
            "text/plain": [
              "| max_iterations                 | Maximum Number of Iterations                     | 500      |"
            ]
          },
          "metadata": {
            "tags": []
          }
        },
        {
          "output_type": "display_data",
          "data": {
            "text/html": [
              "<pre>+--------------------------------+--------------------------------------------------+----------+</pre>"
            ],
            "text/plain": [
              "+--------------------------------+--------------------------------------------------+----------+"
            ]
          },
          "metadata": {
            "tags": []
          }
        },
        {
          "output_type": "display_data",
          "data": {
            "text/html": [
              "<pre>  Optimizing model using SGD; tuning step size.</pre>"
            ],
            "text/plain": [
              "  Optimizing model using SGD; tuning step size."
            ]
          },
          "metadata": {
            "tags": []
          }
        },
        {
          "output_type": "display_data",
          "data": {
            "text/html": [
              "<pre>  Using 61048 / 488386 points for tuning the step size.</pre>"
            ],
            "text/plain": [
              "  Using 61048 / 488386 points for tuning the step size."
            ]
          },
          "metadata": {
            "tags": []
          }
        },
        {
          "output_type": "display_data",
          "data": {
            "text/html": [
              "<pre>+---------+-------------------+------------------------------------------+</pre>"
            ],
            "text/plain": [
              "+---------+-------------------+------------------------------------------+"
            ]
          },
          "metadata": {
            "tags": []
          }
        },
        {
          "output_type": "display_data",
          "data": {
            "text/html": [
              "<pre>| Attempt | Initial Step Size | Estimated Objective Value                |</pre>"
            ],
            "text/plain": [
              "| Attempt | Initial Step Size | Estimated Objective Value                |"
            ]
          },
          "metadata": {
            "tags": []
          }
        },
        {
          "output_type": "display_data",
          "data": {
            "text/html": [
              "<pre>+---------+-------------------+------------------------------------------+</pre>"
            ],
            "text/plain": [
              "+---------+-------------------+------------------------------------------+"
            ]
          },
          "metadata": {
            "tags": []
          }
        },
        {
          "output_type": "display_data",
          "data": {
            "text/html": [
              "<pre>| 0       | 3.57143           | Not Viable                               |</pre>"
            ],
            "text/plain": [
              "| 0       | 3.57143           | Not Viable                               |"
            ]
          },
          "metadata": {
            "tags": []
          }
        },
        {
          "output_type": "display_data",
          "data": {
            "text/html": [
              "<pre>| 1       | 0.892857          | Not Viable                               |</pre>"
            ],
            "text/plain": [
              "| 1       | 0.892857          | Not Viable                               |"
            ]
          },
          "metadata": {
            "tags": []
          }
        },
        {
          "output_type": "display_data",
          "data": {
            "text/html": [
              "<pre>| 2       | 0.223214          | Not Viable                               |</pre>"
            ],
            "text/plain": [
              "| 2       | 0.223214          | Not Viable                               |"
            ]
          },
          "metadata": {
            "tags": []
          }
        },
        {
          "output_type": "display_data",
          "data": {
            "text/html": [
              "<pre>| 3       | 0.0558036         | 0.00220172                               |</pre>"
            ],
            "text/plain": [
              "| 3       | 0.0558036         | 0.00220172                               |"
            ]
          },
          "metadata": {
            "tags": []
          }
        },
        {
          "output_type": "display_data",
          "data": {
            "text/html": [
              "<pre>| 4       | 0.0279018         | 0.00209355                               |</pre>"
            ],
            "text/plain": [
              "| 4       | 0.0279018         | 0.00209355                               |"
            ]
          },
          "metadata": {
            "tags": []
          }
        },
        {
          "output_type": "display_data",
          "data": {
            "text/html": [
              "<pre>| 5       | 0.0139509         | 0.0025813                                |</pre>"
            ],
            "text/plain": [
              "| 5       | 0.0139509         | 0.0025813                                |"
            ]
          },
          "metadata": {
            "tags": []
          }
        },
        {
          "output_type": "display_data",
          "data": {
            "text/html": [
              "<pre>| 6       | 0.00697545        | 0.002733                                 |</pre>"
            ],
            "text/plain": [
              "| 6       | 0.00697545        | 0.002733                                 |"
            ]
          },
          "metadata": {
            "tags": []
          }
        },
        {
          "output_type": "display_data",
          "data": {
            "text/html": [
              "<pre>| 7       | 0.00348772        | 0.00311257                               |</pre>"
            ],
            "text/plain": [
              "| 7       | 0.00348772        | 0.00311257                               |"
            ]
          },
          "metadata": {
            "tags": []
          }
        },
        {
          "output_type": "display_data",
          "data": {
            "text/html": [
              "<pre>+---------+-------------------+------------------------------------------+</pre>"
            ],
            "text/plain": [
              "+---------+-------------------+------------------------------------------+"
            ]
          },
          "metadata": {
            "tags": []
          }
        },
        {
          "output_type": "display_data",
          "data": {
            "text/html": [
              "<pre>| Final   | 0.0279018         | 0.00209355                               |</pre>"
            ],
            "text/plain": [
              "| Final   | 0.0279018         | 0.00209355                               |"
            ]
          },
          "metadata": {
            "tags": []
          }
        },
        {
          "output_type": "display_data",
          "data": {
            "text/html": [
              "<pre>+---------+-------------------+------------------------------------------+</pre>"
            ],
            "text/plain": [
              "+---------+-------------------+------------------------------------------+"
            ]
          },
          "metadata": {
            "tags": []
          }
        },
        {
          "output_type": "display_data",
          "data": {
            "text/html": [
              "<pre>Starting Optimization.</pre>"
            ],
            "text/plain": [
              "Starting Optimization."
            ]
          },
          "metadata": {
            "tags": []
          }
        },
        {
          "output_type": "display_data",
          "data": {
            "text/html": [
              "<pre>+---------+--------------+-------------------+-----------------------+-------------+</pre>"
            ],
            "text/plain": [
              "+---------+--------------+-------------------+-----------------------+-------------+"
            ]
          },
          "metadata": {
            "tags": []
          }
        },
        {
          "output_type": "display_data",
          "data": {
            "text/html": [
              "<pre>| Iter.   | Elapsed Time | Approx. Objective | Approx. Training RMSE | Step Size   |</pre>"
            ],
            "text/plain": [
              "| Iter.   | Elapsed Time | Approx. Objective | Approx. Training RMSE | Step Size   |"
            ]
          },
          "metadata": {
            "tags": []
          }
        },
        {
          "output_type": "display_data",
          "data": {
            "text/html": [
              "<pre>+---------+--------------+-------------------+-----------------------+-------------+</pre>"
            ],
            "text/plain": [
              "+---------+--------------+-------------------+-----------------------+-------------+"
            ]
          },
          "metadata": {
            "tags": []
          }
        },
        {
          "output_type": "display_data",
          "data": {
            "text/html": [
              "<pre>| Initial | 138us        | 0.00598273        | 0.0551581             |             |</pre>"
            ],
            "text/plain": [
              "| Initial | 138us        | 0.00598273        | 0.0551581             |             |"
            ]
          },
          "metadata": {
            "tags": []
          }
        },
        {
          "output_type": "display_data",
          "data": {
            "text/html": [
              "<pre>+---------+--------------+-------------------+-----------------------+-------------+</pre>"
            ],
            "text/plain": [
              "+---------+--------------+-------------------+-----------------------+-------------+"
            ]
          },
          "metadata": {
            "tags": []
          }
        },
        {
          "output_type": "display_data",
          "data": {
            "text/html": [
              "<pre>| 1       | 4.31s        | 0.00340231        | 0.047129              | 0.0279018   |</pre>"
            ],
            "text/plain": [
              "| 1       | 4.31s        | 0.00340231        | 0.047129              | 0.0279018   |"
            ]
          },
          "metadata": {
            "tags": []
          }
        },
        {
          "output_type": "display_data",
          "data": {
            "text/html": [
              "<pre>| 2       | 8.33s        | 0.00231471        | 0.0371528             | 0.0279018   |</pre>"
            ],
            "text/plain": [
              "| 2       | 8.33s        | 0.00231471        | 0.0371528             | 0.0279018   |"
            ]
          },
          "metadata": {
            "tags": []
          }
        },
        {
          "output_type": "display_data",
          "data": {
            "text/html": [
              "<pre>| 3       | 12.25s       | 0.00189866        | 0.0325007             | 0.0279018   |</pre>"
            ],
            "text/plain": [
              "| 3       | 12.25s       | 0.00189866        | 0.0325007             | 0.0279018   |"
            ]
          },
          "metadata": {
            "tags": []
          }
        },
        {
          "output_type": "display_data",
          "data": {
            "text/html": [
              "<pre>| 4       | 16.11s       | 0.00169648        | 0.0300872             | 0.0279018   |</pre>"
            ],
            "text/plain": [
              "| 4       | 16.11s       | 0.00169648        | 0.0300872             | 0.0279018   |"
            ]
          },
          "metadata": {
            "tags": []
          }
        },
        {
          "output_type": "display_data",
          "data": {
            "text/html": [
              "<pre>| 5       | 19.97s       | 0.00153028        | 0.0278324             | 0.0279018   |</pre>"
            ],
            "text/plain": [
              "| 5       | 19.97s       | 0.00153028        | 0.0278324             | 0.0279018   |"
            ]
          },
          "metadata": {
            "tags": []
          }
        },
        {
          "output_type": "display_data",
          "data": {
            "text/html": [
              "<pre>| 7       | 27.57s       | 0.00134045        | 0.0252766             | 0.0279018   |</pre>"
            ],
            "text/plain": [
              "| 7       | 27.57s       | 0.00134045        | 0.0252766             | 0.0279018   |"
            ]
          },
          "metadata": {
            "tags": []
          }
        },
        {
          "output_type": "display_data",
          "data": {
            "text/html": [
              "<pre>| 8       | 31.32s       | 0.0012475         | 0.0237111             | 0.0279018   |</pre>"
            ],
            "text/plain": [
              "| 8       | 31.32s       | 0.0012475         | 0.0237111             | 0.0279018   |"
            ]
          },
          "metadata": {
            "tags": []
          }
        },
        {
          "output_type": "display_data",
          "data": {
            "text/html": [
              "<pre>| 9       | 35.03s       | 0.00120667        | 0.0232325             | 0.0279018   |</pre>"
            ],
            "text/plain": [
              "| 9       | 35.03s       | 0.00120667        | 0.0232325             | 0.0279018   |"
            ]
          },
          "metadata": {
            "tags": []
          }
        },
        {
          "output_type": "display_data",
          "data": {
            "text/html": [
              "<pre>| 10      | 38.70s       | 0.00113802        | 0.0220731             | 0.0279018   |</pre>"
            ],
            "text/plain": [
              "| 10      | 38.70s       | 0.00113802        | 0.0220731             | 0.0279018   |"
            ]
          },
          "metadata": {
            "tags": []
          }
        },
        {
          "output_type": "display_data",
          "data": {
            "text/html": [
              "<pre>| 11      | 42.35s       | 0.00109629        | 0.0213128             | 0.0279018   |</pre>"
            ],
            "text/plain": [
              "| 11      | 42.35s       | 0.00109629        | 0.0213128             | 0.0279018   |"
            ]
          },
          "metadata": {
            "tags": []
          }
        },
        {
          "output_type": "display_data",
          "data": {
            "text/html": [
              "<pre>| 12      | 46.00s       | 0.00107399        | 0.0210113             | 0.0279018   |</pre>"
            ],
            "text/plain": [
              "| 12      | 46.00s       | 0.00107399        | 0.0210113             | 0.0279018   |"
            ]
          },
          "metadata": {
            "tags": []
          }
        },
        {
          "output_type": "display_data",
          "data": {
            "text/html": [
              "<pre>| 13      | 49.69s       | 0.00103572        | 0.0203412             | 0.0279018   |</pre>"
            ],
            "text/plain": [
              "| 13      | 49.69s       | 0.00103572        | 0.0203412             | 0.0279018   |"
            ]
          },
          "metadata": {
            "tags": []
          }
        },
        {
          "output_type": "display_data",
          "data": {
            "text/html": [
              "<pre>| 14      | 53.32s       | 0.00101504        | 0.0199471             | 0.0279018   |</pre>"
            ],
            "text/plain": [
              "| 14      | 53.32s       | 0.00101504        | 0.0199471             | 0.0279018   |"
            ]
          },
          "metadata": {
            "tags": []
          }
        },
        {
          "output_type": "display_data",
          "data": {
            "text/html": [
              "<pre>| 15      | 56.93s       | 0.00100677        | 0.0199957             | 0.0279018   |</pre>"
            ],
            "text/plain": [
              "| 15      | 56.93s       | 0.00100677        | 0.0199957             | 0.0279018   |"
            ]
          },
          "metadata": {
            "tags": []
          }
        },
        {
          "output_type": "display_data",
          "data": {
            "text/html": [
              "<pre>| 16      | 1m 0s        | 0.000980413       | 0.0194708             | 0.0279018   |</pre>"
            ],
            "text/plain": [
              "| 16      | 1m 0s        | 0.000980413       | 0.0194708             | 0.0279018   |"
            ]
          },
          "metadata": {
            "tags": []
          }
        },
        {
          "output_type": "display_data",
          "data": {
            "text/html": [
              "<pre>| 17      | 1m 4s        | 0.000961623       | 0.019186              | 0.0279018   |</pre>"
            ],
            "text/plain": [
              "| 17      | 1m 4s        | 0.000961623       | 0.019186              | 0.0279018   |"
            ]
          },
          "metadata": {
            "tags": []
          }
        },
        {
          "output_type": "display_data",
          "data": {
            "text/html": [
              "<pre>| 18      | 1m 7s        | 0.000944122       | 0.018903              | 0.0279018   |</pre>"
            ],
            "text/plain": [
              "| 18      | 1m 7s        | 0.000944122       | 0.018903              | 0.0279018   |"
            ]
          },
          "metadata": {
            "tags": []
          }
        },
        {
          "output_type": "display_data",
          "data": {
            "text/html": [
              "<pre>| 19      | 1m 11s       | 0.000932018       | 0.0185768             | 0.0279018   |</pre>"
            ],
            "text/plain": [
              "| 19      | 1m 11s       | 0.000932018       | 0.0185768             | 0.0279018   |"
            ]
          },
          "metadata": {
            "tags": []
          }
        },
        {
          "output_type": "display_data",
          "data": {
            "text/html": [
              "<pre>| 20      | 1m 14s       | 0.00092216        | 0.0184983             | 0.0279018   |</pre>"
            ],
            "text/plain": [
              "| 20      | 1m 14s       | 0.00092216        | 0.0184983             | 0.0279018   |"
            ]
          },
          "metadata": {
            "tags": []
          }
        },
        {
          "output_type": "display_data",
          "data": {
            "text/html": [
              "<pre>| 21      | 1m 18s       | 0.000910724       | 0.0183252             | 0.0279018   |</pre>"
            ],
            "text/plain": [
              "| 21      | 1m 18s       | 0.000910724       | 0.0183252             | 0.0279018   |"
            ]
          },
          "metadata": {
            "tags": []
          }
        },
        {
          "output_type": "display_data",
          "data": {
            "text/html": [
              "<pre>| 22      | 1m 22s       | 0.000903305       | 0.018116              | 0.0279018   |</pre>"
            ],
            "text/plain": [
              "| 22      | 1m 22s       | 0.000903305       | 0.018116              | 0.0279018   |"
            ]
          },
          "metadata": {
            "tags": []
          }
        },
        {
          "output_type": "display_data",
          "data": {
            "text/html": [
              "<pre>| 23      | 1m 25s       | 0.000898919       | 0.0181425             | 0.0279018   |</pre>"
            ],
            "text/plain": [
              "| 23      | 1m 25s       | 0.000898919       | 0.0181425             | 0.0279018   |"
            ]
          },
          "metadata": {
            "tags": []
          }
        },
        {
          "output_type": "display_data",
          "data": {
            "text/html": [
              "<pre>| 24      | 1m 29s       | 0.000876894       | 0.0177961             | 0.0279018   |</pre>"
            ],
            "text/plain": [
              "| 24      | 1m 29s       | 0.000876894       | 0.0177961             | 0.0279018   |"
            ]
          },
          "metadata": {
            "tags": []
          }
        },
        {
          "output_type": "display_data",
          "data": {
            "text/html": [
              "<pre>| 25      | 1m 32s       | 0.00087727        | 0.0177573             | 0.0279018   |</pre>"
            ],
            "text/plain": [
              "| 25      | 1m 32s       | 0.00087727        | 0.0177573             | 0.0279018   |"
            ]
          },
          "metadata": {
            "tags": []
          }
        },
        {
          "output_type": "display_data",
          "data": {
            "text/html": [
              "<pre>| 26      | 1m 36s       | 0.000869615       | 0.0176834             | 0.0279018   |</pre>"
            ],
            "text/plain": [
              "| 26      | 1m 36s       | 0.000869615       | 0.0176834             | 0.0279018   |"
            ]
          },
          "metadata": {
            "tags": []
          }
        },
        {
          "output_type": "display_data",
          "data": {
            "text/html": [
              "<pre>| 27      | 1m 40s       | 0.000859759       | 0.0174923             | 0.0279018   |</pre>"
            ],
            "text/plain": [
              "| 27      | 1m 40s       | 0.000859759       | 0.0174923             | 0.0279018   |"
            ]
          },
          "metadata": {
            "tags": []
          }
        },
        {
          "output_type": "display_data",
          "data": {
            "text/html": [
              "<pre>| 28      | 1m 43s       | 0.000846379       | 0.0173074             | 0.0279018   |</pre>"
            ],
            "text/plain": [
              "| 28      | 1m 43s       | 0.000846379       | 0.0173074             | 0.0279018   |"
            ]
          },
          "metadata": {
            "tags": []
          }
        },
        {
          "output_type": "display_data",
          "data": {
            "text/html": [
              "<pre>| 29      | 1m 47s       | 0.000845341       | 0.0172631             | 0.0279018   |</pre>"
            ],
            "text/plain": [
              "| 29      | 1m 47s       | 0.000845341       | 0.0172631             | 0.0279018   |"
            ]
          },
          "metadata": {
            "tags": []
          }
        },
        {
          "output_type": "display_data",
          "data": {
            "text/html": [
              "<pre>| 30      | 1m 50s       | 0.000839572       | 0.0171478             | 0.0279018   |</pre>"
            ],
            "text/plain": [
              "| 30      | 1m 50s       | 0.000839572       | 0.0171478             | 0.0279018   |"
            ]
          },
          "metadata": {
            "tags": []
          }
        },
        {
          "output_type": "display_data",
          "data": {
            "text/html": [
              "<pre>| 31      | 1m 54s       | 0.000833852       | 0.0170666             | 0.0279018   |</pre>"
            ],
            "text/plain": [
              "| 31      | 1m 54s       | 0.000833852       | 0.0170666             | 0.0279018   |"
            ]
          },
          "metadata": {
            "tags": []
          }
        },
        {
          "output_type": "display_data",
          "data": {
            "text/html": [
              "<pre>| 32      | 1m 57s       | 0.000829187       | 0.0170166             | 0.0279018   |</pre>"
            ],
            "text/plain": [
              "| 32      | 1m 57s       | 0.000829187       | 0.0170166             | 0.0279018   |"
            ]
          },
          "metadata": {
            "tags": []
          }
        },
        {
          "output_type": "display_data",
          "data": {
            "text/html": [
              "<pre>| 33      | 2m 1s        | 0.000824206       | 0.016887              | 0.0279018   |</pre>"
            ],
            "text/plain": [
              "| 33      | 2m 1s        | 0.000824206       | 0.016887              | 0.0279018   |"
            ]
          },
          "metadata": {
            "tags": []
          }
        },
        {
          "output_type": "display_data",
          "data": {
            "text/html": [
              "<pre>| 34      | 2m 4s        | 0.000816566       | 0.0168388             | 0.0279018   |</pre>"
            ],
            "text/plain": [
              "| 34      | 2m 4s        | 0.000816566       | 0.0168388             | 0.0279018   |"
            ]
          },
          "metadata": {
            "tags": []
          }
        },
        {
          "output_type": "display_data",
          "data": {
            "text/html": [
              "<pre>| 35      | 2m 8s        | 0.000813239       | 0.0168331             | 0.0279018   |</pre>"
            ],
            "text/plain": [
              "| 35      | 2m 8s        | 0.000813239       | 0.0168331             | 0.0279018   |"
            ]
          },
          "metadata": {
            "tags": []
          }
        },
        {
          "output_type": "display_data",
          "data": {
            "text/html": [
              "<pre>| 36      | 2m 12s       | 0.000812858       | 0.0167874             | 0.0279018   |</pre>"
            ],
            "text/plain": [
              "| 36      | 2m 12s       | 0.000812858       | 0.0167874             | 0.0279018   |"
            ]
          },
          "metadata": {
            "tags": []
          }
        },
        {
          "output_type": "display_data",
          "data": {
            "text/html": [
              "<pre>| 37      | 2m 15s       | 0.000806095       | 0.0166443             | 0.0279018   |</pre>"
            ],
            "text/plain": [
              "| 37      | 2m 15s       | 0.000806095       | 0.0166443             | 0.0279018   |"
            ]
          },
          "metadata": {
            "tags": []
          }
        },
        {
          "output_type": "display_data",
          "data": {
            "text/html": [
              "<pre>| 38      | 2m 19s       | 0.000803832       | 0.0166247             | 0.0279018   |</pre>"
            ],
            "text/plain": [
              "| 38      | 2m 19s       | 0.000803832       | 0.0166247             | 0.0279018   |"
            ]
          },
          "metadata": {
            "tags": []
          }
        },
        {
          "output_type": "display_data",
          "data": {
            "text/html": [
              "<pre>+---------+--------------+-------------------+-----------------------+-------------+</pre>"
            ],
            "text/plain": [
              "+---------+--------------+-------------------+-----------------------+-------------+"
            ]
          },
          "metadata": {
            "tags": []
          }
        },
        {
          "output_type": "display_data",
          "data": {
            "text/html": [
              "<pre>Optimization Complete: Convergence on objective within bounds.</pre>"
            ],
            "text/plain": [
              "Optimization Complete: Convergence on objective within bounds."
            ]
          },
          "metadata": {
            "tags": []
          }
        },
        {
          "output_type": "display_data",
          "data": {
            "text/html": [
              "<pre>Computing final objective value and training RMSE.</pre>"
            ],
            "text/plain": [
              "Computing final objective value and training RMSE."
            ]
          },
          "metadata": {
            "tags": []
          }
        },
        {
          "output_type": "display_data",
          "data": {
            "text/html": [
              "<pre>       Final objective value: 0.000898329</pre>"
            ],
            "text/plain": [
              "       Final objective value: 0.000898329"
            ]
          },
          "metadata": {
            "tags": []
          }
        },
        {
          "output_type": "display_data",
          "data": {
            "text/html": [
              "<pre>       Final training RMSE: 0.0173563</pre>"
            ],
            "text/plain": [
              "       Final training RMSE: 0.0173563"
            ]
          },
          "metadata": {
            "tags": []
          }
        }
      ]
    },
    {
      "cell_type": "code",
      "metadata": {
        "colab": {
          "base_uri": "https://localhost:8080/",
          "height": 245
        },
        "id": "jalZw7diKU_9",
        "outputId": "8aae1386-6f27-41bd-8b8c-d0368b5d103b"
      },
      "source": [
        "m.recommend(users=['1003338'],exclude=item_ex )"
      ],
      "execution_count": null,
      "outputs": [
        {
          "output_type": "execute_result",
          "data": {
            "text/html": [
              "<div style=\"max-height:1000px;max-width:1500px;overflow:auto;\"><table frame=\"box\" rules=\"cols\">\n",
              "    <tr>\n",
              "        <th style=\"padding-left: 1em; padding-right: 1em; text-align: center\">cod_cli</th>\n",
              "        <th style=\"padding-left: 1em; padding-right: 1em; text-align: center\">Material</th>\n",
              "        <th style=\"padding-left: 1em; padding-right: 1em; text-align: center\">score</th>\n",
              "        <th style=\"padding-left: 1em; padding-right: 1em; text-align: center\">rank</th>\n",
              "    </tr>\n",
              "    <tr>\n",
              "        <td style=\"padding-left: 1em; padding-right: 1em; text-align: center; vertical-align: top\">1003338</td>\n",
              "        <td style=\"padding-left: 1em; padding-right: 1em; text-align: center; vertical-align: top\">10120250</td>\n",
              "        <td style=\"padding-left: 1em; padding-right: 1em; text-align: center; vertical-align: top\">0.0408762772382914</td>\n",
              "        <td style=\"padding-left: 1em; padding-right: 1em; text-align: center; vertical-align: top\">1</td>\n",
              "    </tr>\n",
              "    <tr>\n",
              "        <td style=\"padding-left: 1em; padding-right: 1em; text-align: center; vertical-align: top\">1003338</td>\n",
              "        <td style=\"padding-left: 1em; padding-right: 1em; text-align: center; vertical-align: top\">11031030</td>\n",
              "        <td style=\"padding-left: 1em; padding-right: 1em; text-align: center; vertical-align: top\">0.023284726757717034</td>\n",
              "        <td style=\"padding-left: 1em; padding-right: 1em; text-align: center; vertical-align: top\">2</td>\n",
              "    </tr>\n",
              "    <tr>\n",
              "        <td style=\"padding-left: 1em; padding-right: 1em; text-align: center; vertical-align: top\">1003338</td>\n",
              "        <td style=\"padding-left: 1em; padding-right: 1em; text-align: center; vertical-align: top\">27019919</td>\n",
              "        <td style=\"padding-left: 1em; padding-right: 1em; text-align: center; vertical-align: top\">-0.006118256850007275</td>\n",
              "        <td style=\"padding-left: 1em; padding-right: 1em; text-align: center; vertical-align: top\">3</td>\n",
              "    </tr>\n",
              "    <tr>\n",
              "        <td style=\"padding-left: 1em; padding-right: 1em; text-align: center; vertical-align: top\">1003338</td>\n",
              "        <td style=\"padding-left: 1em; padding-right: 1em; text-align: center; vertical-align: top\">26915848</td>\n",
              "        <td style=\"padding-left: 1em; padding-right: 1em; text-align: center; vertical-align: top\">-0.018850805256354908</td>\n",
              "        <td style=\"padding-left: 1em; padding-right: 1em; text-align: center; vertical-align: top\">4</td>\n",
              "    </tr>\n",
              "    <tr>\n",
              "        <td style=\"padding-left: 1em; padding-right: 1em; text-align: center; vertical-align: top\">1003338</td>\n",
              "        <td style=\"padding-left: 1em; padding-right: 1em; text-align: center; vertical-align: top\">100019323</td>\n",
              "        <td style=\"padding-left: 1em; padding-right: 1em; text-align: center; vertical-align: top\">-0.018890028837907413</td>\n",
              "        <td style=\"padding-left: 1em; padding-right: 1em; text-align: center; vertical-align: top\">5</td>\n",
              "    </tr>\n",
              "    <tr>\n",
              "        <td style=\"padding-left: 1em; padding-right: 1em; text-align: center; vertical-align: top\">1003338</td>\n",
              "        <td style=\"padding-left: 1em; padding-right: 1em; text-align: center; vertical-align: top\">33046995</td>\n",
              "        <td style=\"padding-left: 1em; padding-right: 1em; text-align: center; vertical-align: top\">-0.01951363358630548</td>\n",
              "        <td style=\"padding-left: 1em; padding-right: 1em; text-align: center; vertical-align: top\">6</td>\n",
              "    </tr>\n",
              "    <tr>\n",
              "        <td style=\"padding-left: 1em; padding-right: 1em; text-align: center; vertical-align: top\">1003338</td>\n",
              "        <td style=\"padding-left: 1em; padding-right: 1em; text-align: center; vertical-align: top\">22150251</td>\n",
              "        <td style=\"padding-left: 1em; padding-right: 1em; text-align: center; vertical-align: top\">-0.020788358542907337</td>\n",
              "        <td style=\"padding-left: 1em; padding-right: 1em; text-align: center; vertical-align: top\">7</td>\n",
              "    </tr>\n",
              "    <tr>\n",
              "        <td style=\"padding-left: 1em; padding-right: 1em; text-align: center; vertical-align: top\">1003338</td>\n",
              "        <td style=\"padding-left: 1em; padding-right: 1em; text-align: center; vertical-align: top\">35227822</td>\n",
              "        <td style=\"padding-left: 1em; padding-right: 1em; text-align: center; vertical-align: top\">-0.022186948063156853</td>\n",
              "        <td style=\"padding-left: 1em; padding-right: 1em; text-align: center; vertical-align: top\">8</td>\n",
              "    </tr>\n",
              "    <tr>\n",
              "        <td style=\"padding-left: 1em; padding-right: 1em; text-align: center; vertical-align: top\">1003338</td>\n",
              "        <td style=\"padding-left: 1em; padding-right: 1em; text-align: center; vertical-align: top\">35308369</td>\n",
              "        <td style=\"padding-left: 1em; padding-right: 1em; text-align: center; vertical-align: top\">-0.023488060356888274</td>\n",
              "        <td style=\"padding-left: 1em; padding-right: 1em; text-align: center; vertical-align: top\">9</td>\n",
              "    </tr>\n",
              "    <tr>\n",
              "        <td style=\"padding-left: 1em; padding-right: 1em; text-align: center; vertical-align: top\">1003338</td>\n",
              "        <td style=\"padding-left: 1em; padding-right: 1em; text-align: center; vertical-align: top\">26915856</td>\n",
              "        <td style=\"padding-left: 1em; padding-right: 1em; text-align: center; vertical-align: top\">-0.02401940200461755</td>\n",
              "        <td style=\"padding-left: 1em; padding-right: 1em; text-align: center; vertical-align: top\">10</td>\n",
              "    </tr>\n",
              "</table>\n",
              "[10 rows x 4 columns]<br/>\n",
              "</div>"
            ],
            "text/plain": [
              "Columns:\n",
              "\tcod_cli\tint\n",
              "\tMaterial\tint\n",
              "\tscore\tfloat\n",
              "\trank\tint\n",
              "\n",
              "Rows: 10\n",
              "\n",
              "Data:\n",
              "+---------+-----------+-----------------------+------+\n",
              "| cod_cli |  Material |         score         | rank |\n",
              "+---------+-----------+-----------------------+------+\n",
              "| 1003338 |  10120250 |   0.0408762772382914  |  1   |\n",
              "| 1003338 |  11031030 |  0.023284726757717034 |  2   |\n",
              "| 1003338 |  27019919 | -0.006118256850007275 |  3   |\n",
              "| 1003338 |  26915848 | -0.018850805256354908 |  4   |\n",
              "| 1003338 | 100019323 | -0.018890028837907413 |  5   |\n",
              "| 1003338 |  33046995 |  -0.01951363358630548 |  6   |\n",
              "| 1003338 |  22150251 | -0.020788358542907337 |  7   |\n",
              "| 1003338 |  35227822 | -0.022186948063156853 |  8   |\n",
              "| 1003338 |  35308369 | -0.023488060356888274 |  9   |\n",
              "| 1003338 |  26915856 |  -0.02401940200461755 |  10  |\n",
              "+---------+-----------+-----------------------+------+\n",
              "[10 rows x 4 columns]"
            ]
          },
          "metadata": {
            "tags": []
          },
          "execution_count": 68
        }
      ]
    },
    {
      "cell_type": "code",
      "metadata": {
        "colab": {
          "base_uri": "https://localhost:8080/",
          "height": 643
        },
        "id": "-UwlKuFG6KnT",
        "outputId": "1daf74fb-ef1e-4600-9c13-7556dc139a3e"
      },
      "source": [
        "actions[actions['cod_cli'] == 1003338].tail()"
      ],
      "execution_count": null,
      "outputs": [
        {
          "output_type": "execute_result",
          "data": {
            "text/html": [
              "<div style=\"max-height:1000px;max-width:1500px;overflow:auto;\"><table frame=\"box\" rules=\"cols\">\n",
              "    <tr>\n",
              "        <th style=\"padding-left: 1em; padding-right: 1em; text-align: center\">cod_cli</th>\n",
              "        <th style=\"padding-left: 1em; padding-right: 1em; text-align: center\">Material</th>\n",
              "        <th style=\"padding-left: 1em; padding-right: 1em; text-align: center\">binario</th>\n",
              "        <th style=\"padding-left: 1em; padding-right: 1em; text-align: center\">volume</th>\n",
              "        <th style=\"padding-left: 1em; padding-right: 1em; text-align: center\">Cluster_KM</th>\n",
              "        <th style=\"padding-left: 1em; padding-right: 1em; text-align: center\">UF</th>\n",
              "        <th style=\"padding-left: 1em; padding-right: 1em; text-align: center\">grp_preco</th>\n",
              "        <th style=\"padding-left: 1em; padding-right: 1em; text-align: center\">escritorio</th>\n",
              "        <th style=\"padding-left: 1em; padding-right: 1em; text-align: center\">Grupo de Cliente</th>\n",
              "    </tr>\n",
              "    <tr>\n",
              "        <td style=\"padding-left: 1em; padding-right: 1em; text-align: center; vertical-align: top\">1003338</td>\n",
              "        <td style=\"padding-left: 1em; padding-right: 1em; text-align: center; vertical-align: top\">22200259</td>\n",
              "        <td style=\"padding-left: 1em; padding-right: 1em; text-align: center; vertical-align: top\">1</td>\n",
              "        <td style=\"padding-left: 1em; padding-right: 1em; text-align: center; vertical-align: top\">0.00539429994484295</td>\n",
              "        <td style=\"padding-left: 1em; padding-right: 1em; text-align: center; vertical-align: top\">1</td>\n",
              "        <td style=\"padding-left: 1em; padding-right: 1em; text-align: center; vertical-align: top\">RS</td>\n",
              "        <td style=\"padding-left: 1em; padding-right: 1em; text-align: center; vertical-align: top\">CONEXAO</td>\n",
              "        <td style=\"padding-left: 1em; padding-right: 1em; text-align: center; vertical-align: top\">IND. VAREJO</td>\n",
              "        <td style=\"padding-left: 1em; padding-right: 1em; text-align: center; vertical-align: top\">Varejo</td>\n",
              "    </tr>\n",
              "    <tr>\n",
              "        <td style=\"padding-left: 1em; padding-right: 1em; text-align: center; vertical-align: top\">1003338</td>\n",
              "        <td style=\"padding-left: 1em; padding-right: 1em; text-align: center; vertical-align: top\">22000500</td>\n",
              "        <td style=\"padding-left: 1em; padding-right: 1em; text-align: center; vertical-align: top\">1</td>\n",
              "        <td style=\"padding-left: 1em; padding-right: 1em; text-align: center; vertical-align: top\">0.0053135469516566785</td>\n",
              "        <td style=\"padding-left: 1em; padding-right: 1em; text-align: center; vertical-align: top\">1</td>\n",
              "        <td style=\"padding-left: 1em; padding-right: 1em; text-align: center; vertical-align: top\">RS</td>\n",
              "        <td style=\"padding-left: 1em; padding-right: 1em; text-align: center; vertical-align: top\">CONEXAO</td>\n",
              "        <td style=\"padding-left: 1em; padding-right: 1em; text-align: center; vertical-align: top\">IND. VAREJO</td>\n",
              "        <td style=\"padding-left: 1em; padding-right: 1em; text-align: center; vertical-align: top\">Varejo</td>\n",
              "    </tr>\n",
              "    <tr>\n",
              "        <td style=\"padding-left: 1em; padding-right: 1em; text-align: center; vertical-align: top\">1003338</td>\n",
              "        <td style=\"padding-left: 1em; padding-right: 1em; text-align: center; vertical-align: top\">22200500</td>\n",
              "        <td style=\"padding-left: 1em; padding-right: 1em; text-align: center; vertical-align: top\">1</td>\n",
              "        <td style=\"padding-left: 1em; padding-right: 1em; text-align: center; vertical-align: top\">0.0046126109707998394</td>\n",
              "        <td style=\"padding-left: 1em; padding-right: 1em; text-align: center; vertical-align: top\">1</td>\n",
              "        <td style=\"padding-left: 1em; padding-right: 1em; text-align: center; vertical-align: top\">RS</td>\n",
              "        <td style=\"padding-left: 1em; padding-right: 1em; text-align: center; vertical-align: top\">CONEXAO</td>\n",
              "        <td style=\"padding-left: 1em; padding-right: 1em; text-align: center; vertical-align: top\">IND. VAREJO</td>\n",
              "        <td style=\"padding-left: 1em; padding-right: 1em; text-align: center; vertical-align: top\">Varejo</td>\n",
              "    </tr>\n",
              "    <tr>\n",
              "        <td style=\"padding-left: 1em; padding-right: 1em; text-align: center; vertical-align: top\">1003338</td>\n",
              "        <td style=\"padding-left: 1em; padding-right: 1em; text-align: center; vertical-align: top\">35217789</td>\n",
              "        <td style=\"padding-left: 1em; padding-right: 1em; text-align: center; vertical-align: top\">1</td>\n",
              "        <td style=\"padding-left: 1em; padding-right: 1em; text-align: center; vertical-align: top\">0.004380042350423378</td>\n",
              "        <td style=\"padding-left: 1em; padding-right: 1em; text-align: center; vertical-align: top\">1</td>\n",
              "        <td style=\"padding-left: 1em; padding-right: 1em; text-align: center; vertical-align: top\">RS</td>\n",
              "        <td style=\"padding-left: 1em; padding-right: 1em; text-align: center; vertical-align: top\">CONEXAO</td>\n",
              "        <td style=\"padding-left: 1em; padding-right: 1em; text-align: center; vertical-align: top\">IND. VAREJO</td>\n",
              "        <td style=\"padding-left: 1em; padding-right: 1em; text-align: center; vertical-align: top\">Varejo</td>\n",
              "    </tr>\n",
              "    <tr>\n",
              "        <td style=\"padding-left: 1em; padding-right: 1em; text-align: center; vertical-align: top\">1003338</td>\n",
              "        <td style=\"padding-left: 1em; padding-right: 1em; text-align: center; vertical-align: top\">26240506</td>\n",
              "        <td style=\"padding-left: 1em; padding-right: 1em; text-align: center; vertical-align: top\">1</td>\n",
              "        <td style=\"padding-left: 1em; padding-right: 1em; text-align: center; vertical-align: top\">0.003643575052564578</td>\n",
              "        <td style=\"padding-left: 1em; padding-right: 1em; text-align: center; vertical-align: top\">1</td>\n",
              "        <td style=\"padding-left: 1em; padding-right: 1em; text-align: center; vertical-align: top\">RS</td>\n",
              "        <td style=\"padding-left: 1em; padding-right: 1em; text-align: center; vertical-align: top\">CONEXAO</td>\n",
              "        <td style=\"padding-left: 1em; padding-right: 1em; text-align: center; vertical-align: top\">IND. VAREJO</td>\n",
              "        <td style=\"padding-left: 1em; padding-right: 1em; text-align: center; vertical-align: top\">Varejo</td>\n",
              "    </tr>\n",
              "    <tr>\n",
              "        <td style=\"padding-left: 1em; padding-right: 1em; text-align: center; vertical-align: top\">1003338</td>\n",
              "        <td style=\"padding-left: 1em; padding-right: 1em; text-align: center; vertical-align: top\">22120255</td>\n",
              "        <td style=\"padding-left: 1em; padding-right: 1em; text-align: center; vertical-align: top\">1</td>\n",
              "        <td style=\"padding-left: 1em; padding-right: 1em; text-align: center; vertical-align: top\">0.0035692822988332095</td>\n",
              "        <td style=\"padding-left: 1em; padding-right: 1em; text-align: center; vertical-align: top\">1</td>\n",
              "        <td style=\"padding-left: 1em; padding-right: 1em; text-align: center; vertical-align: top\">RS</td>\n",
              "        <td style=\"padding-left: 1em; padding-right: 1em; text-align: center; vertical-align: top\">CONEXAO</td>\n",
              "        <td style=\"padding-left: 1em; padding-right: 1em; text-align: center; vertical-align: top\">IND. VAREJO</td>\n",
              "        <td style=\"padding-left: 1em; padding-right: 1em; text-align: center; vertical-align: top\">Varejo</td>\n",
              "    </tr>\n",
              "    <tr>\n",
              "        <td style=\"padding-left: 1em; padding-right: 1em; text-align: center; vertical-align: top\">1003338</td>\n",
              "        <td style=\"padding-left: 1em; padding-right: 1em; text-align: center; vertical-align: top\">22150502</td>\n",
              "        <td style=\"padding-left: 1em; padding-right: 1em; text-align: center; vertical-align: top\">1</td>\n",
              "        <td style=\"padding-left: 1em; padding-right: 1em; text-align: center; vertical-align: top\">0.003110605297535185</td>\n",
              "        <td style=\"padding-left: 1em; padding-right: 1em; text-align: center; vertical-align: top\">1</td>\n",
              "        <td style=\"padding-left: 1em; padding-right: 1em; text-align: center; vertical-align: top\">RS</td>\n",
              "        <td style=\"padding-left: 1em; padding-right: 1em; text-align: center; vertical-align: top\">CONEXAO</td>\n",
              "        <td style=\"padding-left: 1em; padding-right: 1em; text-align: center; vertical-align: top\">IND. VAREJO</td>\n",
              "        <td style=\"padding-left: 1em; padding-right: 1em; text-align: center; vertical-align: top\">Varejo</td>\n",
              "    </tr>\n",
              "    <tr>\n",
              "        <td style=\"padding-left: 1em; padding-right: 1em; text-align: center; vertical-align: top\">1003338</td>\n",
              "        <td style=\"padding-left: 1em; padding-right: 1em; text-align: center; vertical-align: top\">22140256</td>\n",
              "        <td style=\"padding-left: 1em; padding-right: 1em; text-align: center; vertical-align: top\">1</td>\n",
              "        <td style=\"padding-left: 1em; padding-right: 1em; text-align: center; vertical-align: top\">0.002894187275795977</td>\n",
              "        <td style=\"padding-left: 1em; padding-right: 1em; text-align: center; vertical-align: top\">1</td>\n",
              "        <td style=\"padding-left: 1em; padding-right: 1em; text-align: center; vertical-align: top\">RS</td>\n",
              "        <td style=\"padding-left: 1em; padding-right: 1em; text-align: center; vertical-align: top\">CONEXAO</td>\n",
              "        <td style=\"padding-left: 1em; padding-right: 1em; text-align: center; vertical-align: top\">IND. VAREJO</td>\n",
              "        <td style=\"padding-left: 1em; padding-right: 1em; text-align: center; vertical-align: top\">Varejo</td>\n",
              "    </tr>\n",
              "    <tr>\n",
              "        <td style=\"padding-left: 1em; padding-right: 1em; text-align: center; vertical-align: top\">1003338</td>\n",
              "        <td style=\"padding-left: 1em; padding-right: 1em; text-align: center; vertical-align: top\">27550401</td>\n",
              "        <td style=\"padding-left: 1em; padding-right: 1em; text-align: center; vertical-align: top\">1</td>\n",
              "        <td style=\"padding-left: 1em; padding-right: 1em; text-align: center; vertical-align: top\">0.0020511260269313013</td>\n",
              "        <td style=\"padding-left: 1em; padding-right: 1em; text-align: center; vertical-align: top\">1</td>\n",
              "        <td style=\"padding-left: 1em; padding-right: 1em; text-align: center; vertical-align: top\">RS</td>\n",
              "        <td style=\"padding-left: 1em; padding-right: 1em; text-align: center; vertical-align: top\">CONEXAO</td>\n",
              "        <td style=\"padding-left: 1em; padding-right: 1em; text-align: center; vertical-align: top\">IND. VAREJO</td>\n",
              "        <td style=\"padding-left: 1em; padding-right: 1em; text-align: center; vertical-align: top\">Varejo</td>\n",
              "    </tr>\n",
              "    <tr>\n",
              "        <td style=\"padding-left: 1em; padding-right: 1em; text-align: center; vertical-align: top\">1003338</td>\n",
              "        <td style=\"padding-left: 1em; padding-right: 1em; text-align: center; vertical-align: top\">22170252</td>\n",
              "        <td style=\"padding-left: 1em; padding-right: 1em; text-align: center; vertical-align: top\">1</td>\n",
              "        <td style=\"padding-left: 1em; padding-right: 1em; text-align: center; vertical-align: top\">0.0019380718364705206</td>\n",
              "        <td style=\"padding-left: 1em; padding-right: 1em; text-align: center; vertical-align: top\">1</td>\n",
              "        <td style=\"padding-left: 1em; padding-right: 1em; text-align: center; vertical-align: top\">RS</td>\n",
              "        <td style=\"padding-left: 1em; padding-right: 1em; text-align: center; vertical-align: top\">CONEXAO</td>\n",
              "        <td style=\"padding-left: 1em; padding-right: 1em; text-align: center; vertical-align: top\">IND. VAREJO</td>\n",
              "        <td style=\"padding-left: 1em; padding-right: 1em; text-align: center; vertical-align: top\">Varejo</td>\n",
              "    </tr>\n",
              "</table>\n",
              "<table frame=\"box\" rules=\"cols\">\n",
              "    <tr>\n",
              "        <th style=\"padding-left: 1em; padding-right: 1em; text-align: center\"> Processo</th>\n",
              "    </tr>\n",
              "    <tr>\n",
              "        <td style=\"padding-left: 1em; padding-right: 1em; text-align: center; vertical-align: top\">INJECAO</td>\n",
              "    </tr>\n",
              "    <tr>\n",
              "        <td style=\"padding-left: 1em; padding-right: 1em; text-align: center; vertical-align: top\">INJECAO</td>\n",
              "    </tr>\n",
              "    <tr>\n",
              "        <td style=\"padding-left: 1em; padding-right: 1em; text-align: center; vertical-align: top\">INJECAO</td>\n",
              "    </tr>\n",
              "    <tr>\n",
              "        <td style=\"padding-left: 1em; padding-right: 1em; text-align: center; vertical-align: top\">INJECAO</td>\n",
              "    </tr>\n",
              "    <tr>\n",
              "        <td style=\"padding-left: 1em; padding-right: 1em; text-align: center; vertical-align: top\">INJECAO</td>\n",
              "    </tr>\n",
              "    <tr>\n",
              "        <td style=\"padding-left: 1em; padding-right: 1em; text-align: center; vertical-align: top\">INJECAO</td>\n",
              "    </tr>\n",
              "    <tr>\n",
              "        <td style=\"padding-left: 1em; padding-right: 1em; text-align: center; vertical-align: top\">INJECAO</td>\n",
              "    </tr>\n",
              "    <tr>\n",
              "        <td style=\"padding-left: 1em; padding-right: 1em; text-align: center; vertical-align: top\">INJECAO</td>\n",
              "    </tr>\n",
              "    <tr>\n",
              "        <td style=\"padding-left: 1em; padding-right: 1em; text-align: center; vertical-align: top\">INJECAO</td>\n",
              "    </tr>\n",
              "    <tr>\n",
              "        <td style=\"padding-left: 1em; padding-right: 1em; text-align: center; vertical-align: top\">INJECAO</td>\n",
              "    </tr>\n",
              "</table>\n",
              "[10 rows x 10 columns]<br/>\n",
              "</div>"
            ],
            "text/plain": [
              "Columns:\n",
              "\tcod_cli\tint\n",
              "\tMaterial\tint\n",
              "\tbinario\tint\n",
              "\tvolume\tfloat\n",
              "\tCluster_KM\tint\n",
              "\tUF\tstr\n",
              "\tgrp_preco\tstr\n",
              "\tescritorio\tstr\n",
              "\tGrupo de Cliente\tstr\n",
              "\t Processo\tstr\n",
              "\n",
              "Rows: 10\n",
              "\n",
              "Data:\n",
              "+---------+----------+---------+-----------------------+------------+----+\n",
              "| cod_cli | Material | binario |         volume        | Cluster_KM | UF |\n",
              "+---------+----------+---------+-----------------------+------------+----+\n",
              "| 1003338 | 22200259 |    1    |  0.00539429994484295  |     1      | RS |\n",
              "| 1003338 | 22000500 |    1    | 0.0053135469516566785 |     1      | RS |\n",
              "| 1003338 | 22200500 |    1    | 0.0046126109707998394 |     1      | RS |\n",
              "| 1003338 | 35217789 |    1    |  0.004380042350423378 |     1      | RS |\n",
              "| 1003338 | 26240506 |    1    |  0.003643575052564578 |     1      | RS |\n",
              "| 1003338 | 22120255 |    1    | 0.0035692822988332095 |     1      | RS |\n",
              "| 1003338 | 22150502 |    1    |  0.003110605297535185 |     1      | RS |\n",
              "| 1003338 | 22140256 |    1    |  0.002894187275795977 |     1      | RS |\n",
              "| 1003338 | 27550401 |    1    | 0.0020511260269313013 |     1      | RS |\n",
              "| 1003338 | 22170252 |    1    | 0.0019380718364705206 |     1      | RS |\n",
              "+---------+----------+---------+-----------------------+------------+----+\n",
              "+-----------+-------------+------------------+-----------+\n",
              "| grp_preco |  escritorio | Grupo de Cliente |  Processo |\n",
              "+-----------+-------------+------------------+-----------+\n",
              "|  CONEXAO  | IND. VAREJO |      Varejo      |  INJECAO  |\n",
              "|  CONEXAO  | IND. VAREJO |      Varejo      |  INJECAO  |\n",
              "|  CONEXAO  | IND. VAREJO |      Varejo      |  INJECAO  |\n",
              "|  CONEXAO  | IND. VAREJO |      Varejo      |  INJECAO  |\n",
              "|  CONEXAO  | IND. VAREJO |      Varejo      |  INJECAO  |\n",
              "|  CONEXAO  | IND. VAREJO |      Varejo      |  INJECAO  |\n",
              "|  CONEXAO  | IND. VAREJO |      Varejo      |  INJECAO  |\n",
              "|  CONEXAO  | IND. VAREJO |      Varejo      |  INJECAO  |\n",
              "|  CONEXAO  | IND. VAREJO |      Varejo      |  INJECAO  |\n",
              "|  CONEXAO  | IND. VAREJO |      Varejo      |  INJECAO  |\n",
              "+-----------+-------------+------------------+-----------+\n",
              "[10 rows x 10 columns]"
            ]
          },
          "metadata": {
            "tags": []
          },
          "execution_count": 69
        }
      ]
    },
    {
      "cell_type": "code",
      "metadata": {
        "colab": {
          "base_uri": "https://localhost:8080/",
          "height": 55
        },
        "id": "FVlwLDLb5AO6",
        "outputId": "889c03a2-1277-4e2a-b89b-31eb7eb0971e"
      },
      "source": [
        "m.get_similar_items(['TUBO SOLD NBR 5648 6,00M 25MM'])"
      ],
      "execution_count": null,
      "outputs": [
        {
          "output_type": "execute_result",
          "data": {
            "text/html": [
              "<div style=\"max-height:1000px;max-width:1500px;overflow:auto;\"><table frame=\"box\" rules=\"cols\">\n",
              "    <tr>\n",
              "        <th style=\"padding-left: 1em; padding-right: 1em; text-align: center\">Material</th>\n",
              "        <th style=\"padding-left: 1em; padding-right: 1em; text-align: center\">similar</th>\n",
              "        <th style=\"padding-left: 1em; padding-right: 1em; text-align: center\">score</th>\n",
              "        <th style=\"padding-left: 1em; padding-right: 1em; text-align: center\">rank</th>\n",
              "    </tr>\n",
              "</table>\n",
              "[0 rows x 4 columns]<br/>\n",
              "</div>"
            ],
            "text/plain": [
              "Columns:\n",
              "\tMaterial\tint\n",
              "\tsimilar\tint\n",
              "\tscore\tfloat\n",
              "\trank\tint\n",
              "\n",
              "Rows: 0\n",
              "\n",
              "Data:\n",
              "\t[]"
            ]
          },
          "metadata": {
            "tags": []
          },
          "execution_count": 70
        }
      ]
    },
    {
      "cell_type": "code",
      "metadata": {
        "colab": {
          "base_uri": "https://localhost:8080/",
          "height": 1000
        },
        "id": "XsXYlUbmd-Fg",
        "outputId": "871500f4-1bae-4b0d-afc3-276568b0c811"
      },
      "source": [
        "m.evaluate(actions, target='volume', exclude_known_for_precision_recall = True)"
      ],
      "execution_count": null,
      "outputs": [
        {
          "output_type": "display_data",
          "data": {
            "text/html": [
              "<pre>recommendations finished on 1000/13066 queries. users per second: 4881.55</pre>"
            ],
            "text/plain": [
              "recommendations finished on 1000/13066 queries. users per second: 4881.55"
            ]
          },
          "metadata": {
            "tags": []
          }
        },
        {
          "output_type": "display_data",
          "data": {
            "text/html": [
              "<pre>recommendations finished on 2000/13066 queries. users per second: 4695.7</pre>"
            ],
            "text/plain": [
              "recommendations finished on 2000/13066 queries. users per second: 4695.7"
            ]
          },
          "metadata": {
            "tags": []
          }
        },
        {
          "output_type": "display_data",
          "data": {
            "text/html": [
              "<pre>recommendations finished on 3000/13066 queries. users per second: 4754.96</pre>"
            ],
            "text/plain": [
              "recommendations finished on 3000/13066 queries. users per second: 4754.96"
            ]
          },
          "metadata": {
            "tags": []
          }
        },
        {
          "output_type": "display_data",
          "data": {
            "text/html": [
              "<pre>recommendations finished on 4000/13066 queries. users per second: 4820.73</pre>"
            ],
            "text/plain": [
              "recommendations finished on 4000/13066 queries. users per second: 4820.73"
            ]
          },
          "metadata": {
            "tags": []
          }
        },
        {
          "output_type": "display_data",
          "data": {
            "text/html": [
              "<pre>recommendations finished on 5000/13066 queries. users per second: 4830.6</pre>"
            ],
            "text/plain": [
              "recommendations finished on 5000/13066 queries. users per second: 4830.6"
            ]
          },
          "metadata": {
            "tags": []
          }
        },
        {
          "output_type": "display_data",
          "data": {
            "text/html": [
              "<pre>recommendations finished on 6000/13066 queries. users per second: 4855.72</pre>"
            ],
            "text/plain": [
              "recommendations finished on 6000/13066 queries. users per second: 4855.72"
            ]
          },
          "metadata": {
            "tags": []
          }
        },
        {
          "output_type": "display_data",
          "data": {
            "text/html": [
              "<pre>recommendations finished on 7000/13066 queries. users per second: 4851.51</pre>"
            ],
            "text/plain": [
              "recommendations finished on 7000/13066 queries. users per second: 4851.51"
            ]
          },
          "metadata": {
            "tags": []
          }
        },
        {
          "output_type": "display_data",
          "data": {
            "text/html": [
              "<pre>recommendations finished on 8000/13066 queries. users per second: 4867.63</pre>"
            ],
            "text/plain": [
              "recommendations finished on 8000/13066 queries. users per second: 4867.63"
            ]
          },
          "metadata": {
            "tags": []
          }
        },
        {
          "output_type": "display_data",
          "data": {
            "text/html": [
              "<pre>recommendations finished on 9000/13066 queries. users per second: 4859.04</pre>"
            ],
            "text/plain": [
              "recommendations finished on 9000/13066 queries. users per second: 4859.04"
            ]
          },
          "metadata": {
            "tags": []
          }
        },
        {
          "output_type": "display_data",
          "data": {
            "text/html": [
              "<pre>recommendations finished on 10000/13066 queries. users per second: 4861.78</pre>"
            ],
            "text/plain": [
              "recommendations finished on 10000/13066 queries. users per second: 4861.78"
            ]
          },
          "metadata": {
            "tags": []
          }
        },
        {
          "output_type": "display_data",
          "data": {
            "text/html": [
              "<pre>recommendations finished on 11000/13066 queries. users per second: 4876.95</pre>"
            ],
            "text/plain": [
              "recommendations finished on 11000/13066 queries. users per second: 4876.95"
            ]
          },
          "metadata": {
            "tags": []
          }
        },
        {
          "output_type": "display_data",
          "data": {
            "text/html": [
              "<pre>recommendations finished on 12000/13066 queries. users per second: 4857.94</pre>"
            ],
            "text/plain": [
              "recommendations finished on 12000/13066 queries. users per second: 4857.94"
            ]
          },
          "metadata": {
            "tags": []
          }
        },
        {
          "output_type": "display_data",
          "data": {
            "text/html": [
              "<pre>recommendations finished on 13000/13066 queries. users per second: 4835.65</pre>"
            ],
            "text/plain": [
              "recommendations finished on 13000/13066 queries. users per second: 4835.65"
            ]
          },
          "metadata": {
            "tags": []
          }
        },
        {
          "output_type": "stream",
          "text": [
            "\n",
            "Precision and recall summary statistics by cutoff\n",
            "+--------+---------------------+---------------------+\n",
            "| cutoff |    mean_precision   |     mean_recall     |\n",
            "+--------+---------------------+---------------------+\n",
            "|   1    |  0.6819225470687275 |  0.0643967473067962 |\n",
            "|   2    |  0.6078754018062138 | 0.09782523121774948 |\n",
            "|   3    |  0.5663809378029494 | 0.12214055000581686 |\n",
            "|   4    |  0.5361625593142494 |  0.1421568154508856 |\n",
            "|   5    |  0.5152456757997895 |  0.1604242570100391 |\n",
            "|   6    |  0.4989285167610601 | 0.17740433573157702 |\n",
            "|   7    | 0.48603791738645596 | 0.19363394794330577 |\n",
            "|   8    | 0.47464794122149084 |  0.2088106711977036 |\n",
            "|   9    | 0.46435192271714565 |  0.222976715233715  |\n",
            "|   10   | 0.45556405939078565 | 0.23632234288995985 |\n",
            "+--------+---------------------+---------------------+\n",
            "[10 rows x 3 columns]\n",
            "\n",
            "\n",
            "Overall RMSE: 0.019177094912751262\n",
            "\n",
            "Per User RMSE (best)\n",
            "+---------+-----------------------+-------+\n",
            "| cod_cli |          rmse         | count |\n",
            "+---------+-----------------------+-------+\n",
            "| 1126627 | 0.0007561304188337048 |   2   |\n",
            "+---------+-----------------------+-------+\n",
            "[1 rows x 3 columns]\n",
            "\n",
            "\n",
            "Per User RMSE (worst)\n",
            "+---------+-------------------+-------+\n",
            "| cod_cli |        rmse       | count |\n",
            "+---------+-------------------+-------+\n",
            "| 1127114 | 1.016077653283722 |   1   |\n",
            "+---------+-------------------+-------+\n",
            "[1 rows x 3 columns]\n",
            "\n",
            "\n",
            "Per Item RMSE (best)\n",
            "+----------+----------------------+-------+\n",
            "| Material |         rmse         | count |\n",
            "+----------+----------------------+-------+\n",
            "| 26300517 | 0.007136411527790273 |  655  |\n",
            "+----------+----------------------+-------+\n",
            "[1 rows x 3 columns]\n",
            "\n",
            "\n",
            "Per Item RMSE (worst)\n",
            "+----------+---------------------+-------+\n",
            "| Material |         rmse        | count |\n",
            "+----------+---------------------+-------+\n",
            "| 11212697 | 0.09545160105932093 |  118  |\n",
            "+----------+---------------------+-------+\n",
            "[1 rows x 3 columns]\n",
            "\n"
          ],
          "name": "stdout"
        },
        {
          "output_type": "execute_result",
          "data": {
            "text/plain": [
              "{'precision_recall_by_user': Columns:\n",
              " \tcod_cli\tint\n",
              " \tcutoff\tint\n",
              " \tprecision\tfloat\n",
              " \trecall\tfloat\n",
              " \tcount\tint\n",
              " \n",
              " Rows: 235188\n",
              " \n",
              " Data:\n",
              " +---------+--------+-----------+--------+-------+\n",
              " | cod_cli | cutoff | precision | recall | count |\n",
              " +---------+--------+-----------+--------+-------+\n",
              " | 1044791 |   1    |    0.0    |  0.0   |  183  |\n",
              " | 1044791 |   2    |    0.0    |  0.0   |  183  |\n",
              " | 1044791 |   3    |    0.0    |  0.0   |  183  |\n",
              " | 1044791 |   4    |    0.0    |  0.0   |  183  |\n",
              " | 1044791 |   5    |    0.0    |  0.0   |  183  |\n",
              " | 1044791 |   6    |    0.0    |  0.0   |  183  |\n",
              " | 1044791 |   7    |    0.0    |  0.0   |  183  |\n",
              " | 1044791 |   8    |    0.0    |  0.0   |  183  |\n",
              " | 1044791 |   9    |    0.0    |  0.0   |  183  |\n",
              " | 1044791 |   10   |    0.0    |  0.0   |  183  |\n",
              " +---------+--------+-----------+--------+-------+\n",
              " [235188 rows x 5 columns]\n",
              " Note: Only the head of the SFrame is printed.\n",
              " You can use print_rows(num_rows=m, num_columns=n) to print more rows and columns.,\n",
              " 'precision_recall_overall': Columns:\n",
              " \tcutoff\tint\n",
              " \tprecision\tfloat\n",
              " \trecall\tfloat\n",
              " \n",
              " Rows: 18\n",
              " \n",
              " Data:\n",
              " +--------+---------------------+---------------------+\n",
              " | cutoff |      precision      |        recall       |\n",
              " +--------+---------------------+---------------------+\n",
              " |   1    |  0.6819225470687282 | 0.06439674730679622 |\n",
              " |   2    |  0.607875401806215  | 0.09782523121774962 |\n",
              " |   3    |  0.5663809378029472 |  0.1221405500058171 |\n",
              " |   4    |  0.5361625593142517 | 0.14215681545088568 |\n",
              " |   5    |  0.5152456757997856 |  0.1604242570100393 |\n",
              " |   6    |  0.4989285167610587 |  0.1774043357315766 |\n",
              " |   7    | 0.48603791738645585 |  0.1936339479433054 |\n",
              " |   8    |  0.4746479412214909 | 0.20881067119770327 |\n",
              " |   9    |  0.4643519227171449 | 0.22297671523371457 |\n",
              " |   10   | 0.45556405939078537 | 0.23632234288995993 |\n",
              " +--------+---------------------+---------------------+\n",
              " [18 rows x 3 columns]\n",
              " Note: Only the head of the SFrame is printed.\n",
              " You can use print_rows(num_rows=m, num_columns=n) to print more rows and columns.,\n",
              " 'rmse_by_item': Columns:\n",
              " \tMaterial\tint\n",
              " \trmse\tfloat\n",
              " \tcount\tint\n",
              " \n",
              " Rows: 333\n",
              " \n",
              " Data:\n",
              " +-----------+----------------------+-------+\n",
              " |  Material |         rmse         | count |\n",
              " +-----------+----------------------+-------+\n",
              " |  22150260 | 0.010149446015735381 |  887  |\n",
              " |  22151037 | 0.029527404541961705 |  279  |\n",
              " |  35308369 | 0.015295824295691414 |  2980 |\n",
              " |  37050504 | 0.013192351322058803 |  2370 |\n",
              " |  26212018 | 0.008007462980686187 |  685  |\n",
              " |  33048491 | 0.018088301071898263 |  1027 |\n",
              " |  27801145 | 0.024405984808791106 |  481  |\n",
              " |  26210769 | 0.01117934935136858  |  484  |\n",
              " | 300000470 | 0.029914981698094076 |  4935 |\n",
              " |  33048505 | 0.018153662663761793 |  1444 |\n",
              " +-----------+----------------------+-------+\n",
              " [333 rows x 3 columns]\n",
              " Note: Only the head of the SFrame is printed.\n",
              " You can use print_rows(num_rows=m, num_columns=n) to print more rows and columns.,\n",
              " 'rmse_by_user': Columns:\n",
              " \tcod_cli\tint\n",
              " \trmse\tfloat\n",
              " \tcount\tint\n",
              " \n",
              " Rows: 13066\n",
              " \n",
              " Data:\n",
              " +---------+----------------------+-------+\n",
              " | cod_cli |         rmse         | count |\n",
              " +---------+----------------------+-------+\n",
              " | 1116592 | 0.017173132205516167 |   45  |\n",
              " | 1108346 | 0.049627876376385265 |   7   |\n",
              " | 1047607 | 0.01542920950935134  |   58  |\n",
              " | 1124657 | 0.015433156118616764 |  141  |\n",
              " | 1006367 | 0.015337462575439567 |  124  |\n",
              " | 1059670 | 0.029274545145177865 |   8   |\n",
              " | 1042564 | 0.029924312702996683 |   9   |\n",
              " | 1097142 | 0.018677091877823102 |   9   |\n",
              " | 1050658 | 0.015347761276471042 |  116  |\n",
              " | 1128086 | 0.015548309631655929 |   31  |\n",
              " +---------+----------------------+-------+\n",
              " [13066 rows x 3 columns]\n",
              " Note: Only the head of the SFrame is printed.\n",
              " You can use print_rows(num_rows=m, num_columns=n) to print more rows and columns.,\n",
              " 'rmse_overall': 0.019177094912751262}"
            ]
          },
          "metadata": {
            "tags": []
          },
          "execution_count": 71
        }
      ]
    },
    {
      "cell_type": "code",
      "metadata": {
        "id": "vrnGAqM1N0dX"
      },
      "source": [
        ""
      ],
      "execution_count": null,
      "outputs": []
    },
    {
      "cell_type": "code",
      "metadata": {
        "id": "PwUQwa8xLSxD"
      },
      "source": [
        "#model_performance = tc.recommender.util.compare_models(test_data, models=[model, personalized_model,m], user_sample=.07)"
      ],
      "execution_count": null,
      "outputs": []
    },
    {
      "cell_type": "markdown",
      "metadata": {
        "id": "4XCPjK4qhOQU"
      },
      "source": [
        "# Piloto"
      ]
    },
    {
      "cell_type": "code",
      "metadata": {
        "colab": {
          "base_uri": "https://localhost:8080/",
          "height": 1000
        },
        "id": "aDC9Pbtr_mri",
        "outputId": "633f33c4-56c2-43af-8178-938b11b900b7"
      },
      "source": [
        "m = tc.ranking_factorization_recommender.create(actions, max_iterations=500,target='volume', user_id='cod_cli', item_id='Material',side_data_factorization=True,user_data=c_side_data, item_data=m_side_data , random_seed=42)"
      ],
      "execution_count": null,
      "outputs": [
        {
          "output_type": "display_data",
          "data": {
            "text/html": [
              "<pre>Preparing data set.</pre>"
            ],
            "text/plain": [
              "Preparing data set."
            ]
          },
          "metadata": {
            "tags": []
          }
        },
        {
          "output_type": "display_data",
          "data": {
            "text/html": [
              "<pre>    Data has 500726 observations with 13066 users and 333 items.</pre>"
            ],
            "text/plain": [
              "    Data has 500726 observations with 13066 users and 333 items."
            ]
          },
          "metadata": {
            "tags": []
          }
        },
        {
          "output_type": "display_data",
          "data": {
            "text/html": [
              "<pre>    Data prepared in: 2.04669s</pre>"
            ],
            "text/plain": [
              "    Data prepared in: 2.04669s"
            ]
          },
          "metadata": {
            "tags": []
          }
        },
        {
          "output_type": "display_data",
          "data": {
            "text/html": [
              "<pre>Training ranking_factorization_recommender for recommendations.</pre>"
            ],
            "text/plain": [
              "Training ranking_factorization_recommender for recommendations."
            ]
          },
          "metadata": {
            "tags": []
          }
        },
        {
          "output_type": "display_data",
          "data": {
            "text/html": [
              "<pre>+--------------------------------+--------------------------------------------------+----------+</pre>"
            ],
            "text/plain": [
              "+--------------------------------+--------------------------------------------------+----------+"
            ]
          },
          "metadata": {
            "tags": []
          }
        },
        {
          "output_type": "display_data",
          "data": {
            "text/html": [
              "<pre>| Parameter                      | Description                                      | Value    |</pre>"
            ],
            "text/plain": [
              "| Parameter                      | Description                                      | Value    |"
            ]
          },
          "metadata": {
            "tags": []
          }
        },
        {
          "output_type": "display_data",
          "data": {
            "text/html": [
              "<pre>+--------------------------------+--------------------------------------------------+----------+</pre>"
            ],
            "text/plain": [
              "+--------------------------------+--------------------------------------------------+----------+"
            ]
          },
          "metadata": {
            "tags": []
          }
        },
        {
          "output_type": "display_data",
          "data": {
            "text/html": [
              "<pre>| num_factors                    | Factor Dimension                                 | 32       |</pre>"
            ],
            "text/plain": [
              "| num_factors                    | Factor Dimension                                 | 32       |"
            ]
          },
          "metadata": {
            "tags": []
          }
        },
        {
          "output_type": "display_data",
          "data": {
            "text/html": [
              "<pre>| regularization                 | L2 Regularization on Factors                     | 1e-09    |</pre>"
            ],
            "text/plain": [
              "| regularization                 | L2 Regularization on Factors                     | 1e-09    |"
            ]
          },
          "metadata": {
            "tags": []
          }
        },
        {
          "output_type": "display_data",
          "data": {
            "text/html": [
              "<pre>| solver                         | Solver used for training                         | adagrad  |</pre>"
            ],
            "text/plain": [
              "| solver                         | Solver used for training                         | adagrad  |"
            ]
          },
          "metadata": {
            "tags": []
          }
        },
        {
          "output_type": "display_data",
          "data": {
            "text/html": [
              "<pre>| linear_regularization          | L2 Regularization on Linear Coefficients         | 1e-09    |</pre>"
            ],
            "text/plain": [
              "| linear_regularization          | L2 Regularization on Linear Coefficients         | 1e-09    |"
            ]
          },
          "metadata": {
            "tags": []
          }
        },
        {
          "output_type": "display_data",
          "data": {
            "text/html": [
              "<pre>| ranking_regularization         | Rank-based Regularization Weight                 | 0.25     |</pre>"
            ],
            "text/plain": [
              "| ranking_regularization         | Rank-based Regularization Weight                 | 0.25     |"
            ]
          },
          "metadata": {
            "tags": []
          }
        },
        {
          "output_type": "display_data",
          "data": {
            "text/html": [
              "<pre>| side_data_factorization        | Assign Factors for Side Data                     | True     |</pre>"
            ],
            "text/plain": [
              "| side_data_factorization        | Assign Factors for Side Data                     | True     |"
            ]
          },
          "metadata": {
            "tags": []
          }
        },
        {
          "output_type": "display_data",
          "data": {
            "text/html": [
              "<pre>| max_iterations                 | Maximum Number of Iterations                     | 500      |</pre>"
            ],
            "text/plain": [
              "| max_iterations                 | Maximum Number of Iterations                     | 500      |"
            ]
          },
          "metadata": {
            "tags": []
          }
        },
        {
          "output_type": "display_data",
          "data": {
            "text/html": [
              "<pre>+--------------------------------+--------------------------------------------------+----------+</pre>"
            ],
            "text/plain": [
              "+--------------------------------+--------------------------------------------------+----------+"
            ]
          },
          "metadata": {
            "tags": []
          }
        },
        {
          "output_type": "display_data",
          "data": {
            "text/html": [
              "<pre>  Optimizing model using SGD; tuning step size.</pre>"
            ],
            "text/plain": [
              "  Optimizing model using SGD; tuning step size."
            ]
          },
          "metadata": {
            "tags": []
          }
        },
        {
          "output_type": "display_data",
          "data": {
            "text/html": [
              "<pre>  Using 62590 / 500726 points for tuning the step size.</pre>"
            ],
            "text/plain": [
              "  Using 62590 / 500726 points for tuning the step size."
            ]
          },
          "metadata": {
            "tags": []
          }
        },
        {
          "output_type": "display_data",
          "data": {
            "text/html": [
              "<pre>+---------+-------------------+------------------------------------------+</pre>"
            ],
            "text/plain": [
              "+---------+-------------------+------------------------------------------+"
            ]
          },
          "metadata": {
            "tags": []
          }
        },
        {
          "output_type": "display_data",
          "data": {
            "text/html": [
              "<pre>| Attempt | Initial Step Size | Estimated Objective Value                |</pre>"
            ],
            "text/plain": [
              "| Attempt | Initial Step Size | Estimated Objective Value                |"
            ]
          },
          "metadata": {
            "tags": []
          }
        },
        {
          "output_type": "display_data",
          "data": {
            "text/html": [
              "<pre>+---------+-------------------+------------------------------------------+</pre>"
            ],
            "text/plain": [
              "+---------+-------------------+------------------------------------------+"
            ]
          },
          "metadata": {
            "tags": []
          }
        },
        {
          "output_type": "display_data",
          "data": {
            "text/html": [
              "<pre>| 0       | 3.57143           | Not Viable                               |</pre>"
            ],
            "text/plain": [
              "| 0       | 3.57143           | Not Viable                               |"
            ]
          },
          "metadata": {
            "tags": []
          }
        },
        {
          "output_type": "display_data",
          "data": {
            "text/html": [
              "<pre>| 1       | 0.892857          | Not Viable                               |</pre>"
            ],
            "text/plain": [
              "| 1       | 0.892857          | Not Viable                               |"
            ]
          },
          "metadata": {
            "tags": []
          }
        },
        {
          "output_type": "display_data",
          "data": {
            "text/html": [
              "<pre>| 2       | 0.223214          | Not Viable                               |</pre>"
            ],
            "text/plain": [
              "| 2       | 0.223214          | Not Viable                               |"
            ]
          },
          "metadata": {
            "tags": []
          }
        },
        {
          "output_type": "display_data",
          "data": {
            "text/html": [
              "<pre>| 3       | 0.0558036         | 0.00219106                               |</pre>"
            ],
            "text/plain": [
              "| 3       | 0.0558036         | 0.00219106                               |"
            ]
          },
          "metadata": {
            "tags": []
          }
        },
        {
          "output_type": "display_data",
          "data": {
            "text/html": [
              "<pre>| 4       | 0.0279018         | 0.00200623                               |</pre>"
            ],
            "text/plain": [
              "| 4       | 0.0279018         | 0.00200623                               |"
            ]
          },
          "metadata": {
            "tags": []
          }
        },
        {
          "output_type": "display_data",
          "data": {
            "text/html": [
              "<pre>| 5       | 0.0139509         | 0.00237382                               |</pre>"
            ],
            "text/plain": [
              "| 5       | 0.0139509         | 0.00237382                               |"
            ]
          },
          "metadata": {
            "tags": []
          }
        },
        {
          "output_type": "display_data",
          "data": {
            "text/html": [
              "<pre>| 6       | 0.00697545        | 0.00282779                               |</pre>"
            ],
            "text/plain": [
              "| 6       | 0.00697545        | 0.00282779                               |"
            ]
          },
          "metadata": {
            "tags": []
          }
        },
        {
          "output_type": "display_data",
          "data": {
            "text/html": [
              "<pre>| 7       | 0.00348772        | 0.00326329                               |</pre>"
            ],
            "text/plain": [
              "| 7       | 0.00348772        | 0.00326329                               |"
            ]
          },
          "metadata": {
            "tags": []
          }
        },
        {
          "output_type": "display_data",
          "data": {
            "text/html": [
              "<pre>+---------+-------------------+------------------------------------------+</pre>"
            ],
            "text/plain": [
              "+---------+-------------------+------------------------------------------+"
            ]
          },
          "metadata": {
            "tags": []
          }
        },
        {
          "output_type": "display_data",
          "data": {
            "text/html": [
              "<pre>| Final   | 0.0279018         | 0.00200623                               |</pre>"
            ],
            "text/plain": [
              "| Final   | 0.0279018         | 0.00200623                               |"
            ]
          },
          "metadata": {
            "tags": []
          }
        },
        {
          "output_type": "display_data",
          "data": {
            "text/html": [
              "<pre>+---------+-------------------+------------------------------------------+</pre>"
            ],
            "text/plain": [
              "+---------+-------------------+------------------------------------------+"
            ]
          },
          "metadata": {
            "tags": []
          }
        },
        {
          "output_type": "display_data",
          "data": {
            "text/html": [
              "<pre>Starting Optimization.</pre>"
            ],
            "text/plain": [
              "Starting Optimization."
            ]
          },
          "metadata": {
            "tags": []
          }
        },
        {
          "output_type": "display_data",
          "data": {
            "text/html": [
              "<pre>+---------+--------------+-------------------+-----------------------+-------------+</pre>"
            ],
            "text/plain": [
              "+---------+--------------+-------------------+-----------------------+-------------+"
            ]
          },
          "metadata": {
            "tags": []
          }
        },
        {
          "output_type": "display_data",
          "data": {
            "text/html": [
              "<pre>| Iter.   | Elapsed Time | Approx. Objective | Approx. Training RMSE | Step Size   |</pre>"
            ],
            "text/plain": [
              "| Iter.   | Elapsed Time | Approx. Objective | Approx. Training RMSE | Step Size   |"
            ]
          },
          "metadata": {
            "tags": []
          }
        },
        {
          "output_type": "display_data",
          "data": {
            "text/html": [
              "<pre>+---------+--------------+-------------------+-----------------------+-------------+</pre>"
            ],
            "text/plain": [
              "+---------+--------------+-------------------+-----------------------+-------------+"
            ]
          },
          "metadata": {
            "tags": []
          }
        },
        {
          "output_type": "display_data",
          "data": {
            "text/html": [
              "<pre>| Initial | 214us        | 0.00598759        | 0.0551778             |             |</pre>"
            ],
            "text/plain": [
              "| Initial | 214us        | 0.00598759        | 0.0551778             |             |"
            ]
          },
          "metadata": {
            "tags": []
          }
        },
        {
          "output_type": "display_data",
          "data": {
            "text/html": [
              "<pre>+---------+--------------+-------------------+-----------------------+-------------+</pre>"
            ],
            "text/plain": [
              "+---------+--------------+-------------------+-----------------------+-------------+"
            ]
          },
          "metadata": {
            "tags": []
          }
        },
        {
          "output_type": "display_data",
          "data": {
            "text/html": [
              "<pre>| 1       | 5.12s        | 0.00338459        | 0.0470666             | 0.0279018   |</pre>"
            ],
            "text/plain": [
              "| 1       | 5.12s        | 0.00338459        | 0.0470666             | 0.0279018   |"
            ]
          },
          "metadata": {
            "tags": []
          }
        },
        {
          "output_type": "display_data",
          "data": {
            "text/html": [
              "<pre>| 2       | 9.92s        | 0.00229856        | 0.037009              | 0.0279018   |</pre>"
            ],
            "text/plain": [
              "| 2       | 9.92s        | 0.00229856        | 0.037009              | 0.0279018   |"
            ]
          },
          "metadata": {
            "tags": []
          }
        },
        {
          "output_type": "display_data",
          "data": {
            "text/html": [
              "<pre>| 3       | 14.06s       | 0.00192133        | 0.0329136             | 0.0279018   |</pre>"
            ],
            "text/plain": [
              "| 3       | 14.06s       | 0.00192133        | 0.0329136             | 0.0279018   |"
            ]
          },
          "metadata": {
            "tags": []
          }
        },
        {
          "output_type": "display_data",
          "data": {
            "text/html": [
              "<pre>| 4       | 18.09s       | 0.00166307        | 0.0296817             | 0.0279018   |</pre>"
            ],
            "text/plain": [
              "| 4       | 18.09s       | 0.00166307        | 0.0296817             | 0.0279018   |"
            ]
          },
          "metadata": {
            "tags": []
          }
        },
        {
          "output_type": "display_data",
          "data": {
            "text/html": [
              "<pre>| 5       | 22.00s       | 0.00153202        | 0.0280897             | 0.0279018   |</pre>"
            ],
            "text/plain": [
              "| 5       | 22.00s       | 0.00153202        | 0.0280897             | 0.0279018   |"
            ]
          },
          "metadata": {
            "tags": []
          }
        },
        {
          "output_type": "display_data",
          "data": {
            "text/html": [
              "<pre>| 7       | 29.74s       | 0.0013007         | 0.0246863             | 0.0279018   |</pre>"
            ],
            "text/plain": [
              "| 7       | 29.74s       | 0.0013007         | 0.0246863             | 0.0279018   |"
            ]
          },
          "metadata": {
            "tags": []
          }
        },
        {
          "output_type": "display_data",
          "data": {
            "text/html": [
              "<pre>| 8       | 33.60s       | 0.00122807        | 0.0235858             | 0.0279018   |</pre>"
            ],
            "text/plain": [
              "| 8       | 33.60s       | 0.00122807        | 0.0235858             | 0.0279018   |"
            ]
          },
          "metadata": {
            "tags": []
          }
        },
        {
          "output_type": "display_data",
          "data": {
            "text/html": [
              "<pre>| 9       | 37.44s       | 0.00117062        | 0.0226891             | 0.0279018   |</pre>"
            ],
            "text/plain": [
              "| 9       | 37.44s       | 0.00117062        | 0.0226891             | 0.0279018   |"
            ]
          },
          "metadata": {
            "tags": []
          }
        },
        {
          "output_type": "display_data",
          "data": {
            "text/html": [
              "<pre>| 10      | 41.27s       | 0.00113289        | 0.0221056             | 0.0279018   |</pre>"
            ],
            "text/plain": [
              "| 10      | 41.27s       | 0.00113289        | 0.0221056             | 0.0279018   |"
            ]
          },
          "metadata": {
            "tags": []
          }
        },
        {
          "output_type": "display_data",
          "data": {
            "text/html": [
              "<pre>| 11      | 45.05s       | 0.00109949        | 0.0216217             | 0.0279018   |</pre>"
            ],
            "text/plain": [
              "| 11      | 45.05s       | 0.00109949        | 0.0216217             | 0.0279018   |"
            ]
          },
          "metadata": {
            "tags": []
          }
        },
        {
          "output_type": "display_data",
          "data": {
            "text/html": [
              "<pre>| 12      | 48.84s       | 0.00106152        | 0.0208533             | 0.0279018   |</pre>"
            ],
            "text/plain": [
              "| 12      | 48.84s       | 0.00106152        | 0.0208533             | 0.0279018   |"
            ]
          },
          "metadata": {
            "tags": []
          }
        },
        {
          "output_type": "display_data",
          "data": {
            "text/html": [
              "<pre>| 13      | 52.60s       | 0.00102973        | 0.0204001             | 0.0279018   |</pre>"
            ],
            "text/plain": [
              "| 13      | 52.60s       | 0.00102973        | 0.0204001             | 0.0279018   |"
            ]
          },
          "metadata": {
            "tags": []
          }
        },
        {
          "output_type": "display_data",
          "data": {
            "text/html": [
              "<pre>| 14      | 56.36s       | 0.0010049         | 0.0199661             | 0.0279018   |</pre>"
            ],
            "text/plain": [
              "| 14      | 56.36s       | 0.0010049         | 0.0199661             | 0.0279018   |"
            ]
          },
          "metadata": {
            "tags": []
          }
        },
        {
          "output_type": "display_data",
          "data": {
            "text/html": [
              "<pre>| 15      | 1m 0s        | 0.000978036       | 0.0195984             | 0.0279018   |</pre>"
            ],
            "text/plain": [
              "| 15      | 1m 0s        | 0.000978036       | 0.0195984             | 0.0279018   |"
            ]
          },
          "metadata": {
            "tags": []
          }
        },
        {
          "output_type": "display_data",
          "data": {
            "text/html": [
              "<pre>| 16      | 1m 3s        | 0.000980071       | 0.0197084             | 0.0279018   |</pre>"
            ],
            "text/plain": [
              "| 16      | 1m 3s        | 0.000980071       | 0.0197084             | 0.0279018   |"
            ]
          },
          "metadata": {
            "tags": []
          }
        },
        {
          "output_type": "display_data",
          "data": {
            "text/html": [
              "<pre>| 17      | 1m 7s        | 0.000965893       | 0.0195193             | 0.0279018   |</pre>"
            ],
            "text/plain": [
              "| 17      | 1m 7s        | 0.000965893       | 0.0195193             | 0.0279018   |"
            ]
          },
          "metadata": {
            "tags": []
          }
        },
        {
          "output_type": "display_data",
          "data": {
            "text/html": [
              "<pre>| 18      | 1m 11s       | 0.00094951        | 0.0191664             | 0.0279018   |</pre>"
            ],
            "text/plain": [
              "| 18      | 1m 11s       | 0.00094951        | 0.0191664             | 0.0279018   |"
            ]
          },
          "metadata": {
            "tags": []
          }
        },
        {
          "output_type": "display_data",
          "data": {
            "text/html": [
              "<pre>| 19      | 1m 15s       | 0.000933214       | 0.0188504             | 0.0279018   |</pre>"
            ],
            "text/plain": [
              "| 19      | 1m 15s       | 0.000933214       | 0.0188504             | 0.0279018   |"
            ]
          },
          "metadata": {
            "tags": []
          }
        },
        {
          "output_type": "display_data",
          "data": {
            "text/html": [
              "<pre>| 20      | 1m 18s       | 0.000912078       | 0.0184813             | 0.0279018   |</pre>"
            ],
            "text/plain": [
              "| 20      | 1m 18s       | 0.000912078       | 0.0184813             | 0.0279018   |"
            ]
          },
          "metadata": {
            "tags": []
          }
        },
        {
          "output_type": "display_data",
          "data": {
            "text/html": [
              "<pre>| 21      | 1m 22s       | 0.000907678       | 0.0184677             | 0.0279018   |</pre>"
            ],
            "text/plain": [
              "| 21      | 1m 22s       | 0.000907678       | 0.0184677             | 0.0279018   |"
            ]
          },
          "metadata": {
            "tags": []
          }
        },
        {
          "output_type": "display_data",
          "data": {
            "text/html": [
              "<pre>| 22      | 1m 26s       | 0.000890181       | 0.0181433             | 0.0279018   |</pre>"
            ],
            "text/plain": [
              "| 22      | 1m 26s       | 0.000890181       | 0.0181433             | 0.0279018   |"
            ]
          },
          "metadata": {
            "tags": []
          }
        },
        {
          "output_type": "display_data",
          "data": {
            "text/html": [
              "<pre>| 23      | 1m 29s       | 0.000886064       | 0.0180803             | 0.0279018   |</pre>"
            ],
            "text/plain": [
              "| 23      | 1m 29s       | 0.000886064       | 0.0180803             | 0.0279018   |"
            ]
          },
          "metadata": {
            "tags": []
          }
        },
        {
          "output_type": "display_data",
          "data": {
            "text/html": [
              "<pre>| 24      | 1m 33s       | 0.000872156       | 0.0179021             | 0.0279018   |</pre>"
            ],
            "text/plain": [
              "| 24      | 1m 33s       | 0.000872156       | 0.0179021             | 0.0279018   |"
            ]
          },
          "metadata": {
            "tags": []
          }
        },
        {
          "output_type": "display_data",
          "data": {
            "text/html": [
              "<pre>| 25      | 1m 37s       | 0.00086596        | 0.0176956             | 0.0279018   |</pre>"
            ],
            "text/plain": [
              "| 25      | 1m 37s       | 0.00086596        | 0.0176956             | 0.0279018   |"
            ]
          },
          "metadata": {
            "tags": []
          }
        },
        {
          "output_type": "display_data",
          "data": {
            "text/html": [
              "<pre>| 26      | 1m 41s       | 0.000860483       | 0.0176934             | 0.0279018   |</pre>"
            ],
            "text/plain": [
              "| 26      | 1m 41s       | 0.000860483       | 0.0176934             | 0.0279018   |"
            ]
          },
          "metadata": {
            "tags": []
          }
        },
        {
          "output_type": "display_data",
          "data": {
            "text/html": [
              "<pre>| 27      | 1m 44s       | 0.000852264       | 0.0174602             | 0.0279018   |</pre>"
            ],
            "text/plain": [
              "| 27      | 1m 44s       | 0.000852264       | 0.0174602             | 0.0279018   |"
            ]
          },
          "metadata": {
            "tags": []
          }
        },
        {
          "output_type": "display_data",
          "data": {
            "text/html": [
              "<pre>| 28      | 1m 48s       | 0.000845276       | 0.0174049             | 0.0279018   |</pre>"
            ],
            "text/plain": [
              "| 28      | 1m 48s       | 0.000845276       | 0.0174049             | 0.0279018   |"
            ]
          },
          "metadata": {
            "tags": []
          }
        },
        {
          "output_type": "display_data",
          "data": {
            "text/html": [
              "<pre>| 29      | 1m 52s       | 0.000837714       | 0.0172996             | 0.0279018   |</pre>"
            ],
            "text/plain": [
              "| 29      | 1m 52s       | 0.000837714       | 0.0172996             | 0.0279018   |"
            ]
          },
          "metadata": {
            "tags": []
          }
        },
        {
          "output_type": "display_data",
          "data": {
            "text/html": [
              "<pre>| 30      | 1m 55s       | 0.000832329       | 0.0171456             | 0.0279018   |</pre>"
            ],
            "text/plain": [
              "| 30      | 1m 55s       | 0.000832329       | 0.0171456             | 0.0279018   |"
            ]
          },
          "metadata": {
            "tags": []
          }
        },
        {
          "output_type": "display_data",
          "data": {
            "text/html": [
              "<pre>| 31      | 1m 59s       | 0.000822744       | 0.0170374             | 0.0279018   |</pre>"
            ],
            "text/plain": [
              "| 31      | 1m 59s       | 0.000822744       | 0.0170374             | 0.0279018   |"
            ]
          },
          "metadata": {
            "tags": []
          }
        },
        {
          "output_type": "display_data",
          "data": {
            "text/html": [
              "<pre>| 32      | 2m 3s        | 0.000816999       | 0.01697               | 0.0279018   |</pre>"
            ],
            "text/plain": [
              "| 32      | 2m 3s        | 0.000816999       | 0.01697               | 0.0279018   |"
            ]
          },
          "metadata": {
            "tags": []
          }
        },
        {
          "output_type": "display_data",
          "data": {
            "text/html": [
              "<pre>| 33      | 2m 6s        | 0.000813788       | 0.0168591             | 0.0279018   |</pre>"
            ],
            "text/plain": [
              "| 33      | 2m 6s        | 0.000813788       | 0.0168591             | 0.0279018   |"
            ]
          },
          "metadata": {
            "tags": []
          }
        },
        {
          "output_type": "display_data",
          "data": {
            "text/html": [
              "<pre>| 34      | 2m 10s       | 0.000808519       | 0.0168607             | 0.0279018   |</pre>"
            ],
            "text/plain": [
              "| 34      | 2m 10s       | 0.000808519       | 0.0168607             | 0.0279018   |"
            ]
          },
          "metadata": {
            "tags": []
          }
        },
        {
          "output_type": "display_data",
          "data": {
            "text/html": [
              "<pre>| 35      | 2m 14s       | 0.000803573       | 0.0167804             | 0.0279018   |</pre>"
            ],
            "text/plain": [
              "| 35      | 2m 14s       | 0.000803573       | 0.0167804             | 0.0279018   |"
            ]
          },
          "metadata": {
            "tags": []
          }
        },
        {
          "output_type": "display_data",
          "data": {
            "text/html": [
              "<pre>| 36      | 2m 17s       | 0.000802823       | 0.016741              | 0.0279018   |</pre>"
            ],
            "text/plain": [
              "| 36      | 2m 17s       | 0.000802823       | 0.016741              | 0.0279018   |"
            ]
          },
          "metadata": {
            "tags": []
          }
        },
        {
          "output_type": "display_data",
          "data": {
            "text/html": [
              "<pre>| 37      | 2m 21s       | 0.000794019       | 0.0165964             | 0.0279018   |</pre>"
            ],
            "text/plain": [
              "| 37      | 2m 21s       | 0.000794019       | 0.0165964             | 0.0279018   |"
            ]
          },
          "metadata": {
            "tags": []
          }
        },
        {
          "output_type": "display_data",
          "data": {
            "text/html": [
              "<pre>| 38      | 2m 25s       | 0.00079205        | 0.0165351             | 0.0279018   |</pre>"
            ],
            "text/plain": [
              "| 38      | 2m 25s       | 0.00079205        | 0.0165351             | 0.0279018   |"
            ]
          },
          "metadata": {
            "tags": []
          }
        },
        {
          "output_type": "display_data",
          "data": {
            "text/html": [
              "<pre>| 39      | 2m 28s       | 0.00078906        | 0.0164855             | 0.0279018   |</pre>"
            ],
            "text/plain": [
              "| 39      | 2m 28s       | 0.00078906        | 0.0164855             | 0.0279018   |"
            ]
          },
          "metadata": {
            "tags": []
          }
        },
        {
          "output_type": "display_data",
          "data": {
            "text/html": [
              "<pre>| 40      | 2m 32s       | 0.00078163        | 0.0164231             | 0.0279018   |</pre>"
            ],
            "text/plain": [
              "| 40      | 2m 32s       | 0.00078163        | 0.0164231             | 0.0279018   |"
            ]
          },
          "metadata": {
            "tags": []
          }
        },
        {
          "output_type": "display_data",
          "data": {
            "text/html": [
              "<pre>| 41      | 2m 36s       | 0.000779568       | 0.0163739             | 0.0279018   |</pre>"
            ],
            "text/plain": [
              "| 41      | 2m 36s       | 0.000779568       | 0.0163739             | 0.0279018   |"
            ]
          },
          "metadata": {
            "tags": []
          }
        },
        {
          "output_type": "display_data",
          "data": {
            "text/html": [
              "<pre>| 42      | 2m 39s       | 0.000777336       | 0.0163277             | 0.0279018   |</pre>"
            ],
            "text/plain": [
              "| 42      | 2m 39s       | 0.000777336       | 0.0163277             | 0.0279018   |"
            ]
          },
          "metadata": {
            "tags": []
          }
        },
        {
          "output_type": "display_data",
          "data": {
            "text/html": [
              "<pre>| 43      | 2m 43s       | 0.000771949       | 0.0162339             | 0.0279018   |</pre>"
            ],
            "text/plain": [
              "| 43      | 2m 43s       | 0.000771949       | 0.0162339             | 0.0279018   |"
            ]
          },
          "metadata": {
            "tags": []
          }
        },
        {
          "output_type": "display_data",
          "data": {
            "text/html": [
              "<pre>+---------+--------------+-------------------+-----------------------+-------------+</pre>"
            ],
            "text/plain": [
              "+---------+--------------+-------------------+-----------------------+-------------+"
            ]
          },
          "metadata": {
            "tags": []
          }
        },
        {
          "output_type": "display_data",
          "data": {
            "text/html": [
              "<pre>Optimization Complete: Convergence on objective within bounds.</pre>"
            ],
            "text/plain": [
              "Optimization Complete: Convergence on objective within bounds."
            ]
          },
          "metadata": {
            "tags": []
          }
        },
        {
          "output_type": "display_data",
          "data": {
            "text/html": [
              "<pre>Computing final objective value and training RMSE.</pre>"
            ],
            "text/plain": [
              "Computing final objective value and training RMSE."
            ]
          },
          "metadata": {
            "tags": []
          }
        },
        {
          "output_type": "display_data",
          "data": {
            "text/html": [
              "<pre>       Final objective value: 0.00086107</pre>"
            ],
            "text/plain": [
              "       Final objective value: 0.00086107"
            ]
          },
          "metadata": {
            "tags": []
          }
        },
        {
          "output_type": "display_data",
          "data": {
            "text/html": [
              "<pre>       Final training RMSE: 0.0159875</pre>"
            ],
            "text/plain": [
              "       Final training RMSE: 0.0159875"
            ]
          },
          "metadata": {
            "tags": []
          }
        }
      ]
    },
    {
      "cell_type": "code",
      "metadata": {
        "colab": {
          "base_uri": "https://localhost:8080/",
          "height": 1000
        },
        "id": "I6kdz4ncAbyu",
        "outputId": "68873eff-6dd5-4fae-d634-9e6f1b9d18f6"
      },
      "source": [
        "model = tc.recommender.create( actions, 'cod_cli', 'Material','volume',user_data=c_side_data, item_data=m_side_data )"
      ],
      "execution_count": null,
      "outputs": [
        {
          "output_type": "display_data",
          "data": {
            "text/html": [
              "<pre>Preparing data set.</pre>"
            ],
            "text/plain": [
              "Preparing data set."
            ]
          },
          "metadata": {
            "tags": []
          }
        },
        {
          "output_type": "display_data",
          "data": {
            "text/html": [
              "<pre>    Data has 500726 observations with 13066 users and 333 items.</pre>"
            ],
            "text/plain": [
              "    Data has 500726 observations with 13066 users and 333 items."
            ]
          },
          "metadata": {
            "tags": []
          }
        },
        {
          "output_type": "display_data",
          "data": {
            "text/html": [
              "<pre>    Data prepared in: 1.97225s</pre>"
            ],
            "text/plain": [
              "    Data prepared in: 1.97225s"
            ]
          },
          "metadata": {
            "tags": []
          }
        },
        {
          "output_type": "display_data",
          "data": {
            "text/html": [
              "<pre>Training ranking_factorization_recommender for recommendations.</pre>"
            ],
            "text/plain": [
              "Training ranking_factorization_recommender for recommendations."
            ]
          },
          "metadata": {
            "tags": []
          }
        },
        {
          "output_type": "display_data",
          "data": {
            "text/html": [
              "<pre>+--------------------------------+--------------------------------------------------+----------+</pre>"
            ],
            "text/plain": [
              "+--------------------------------+--------------------------------------------------+----------+"
            ]
          },
          "metadata": {
            "tags": []
          }
        },
        {
          "output_type": "display_data",
          "data": {
            "text/html": [
              "<pre>| Parameter                      | Description                                      | Value    |</pre>"
            ],
            "text/plain": [
              "| Parameter                      | Description                                      | Value    |"
            ]
          },
          "metadata": {
            "tags": []
          }
        },
        {
          "output_type": "display_data",
          "data": {
            "text/html": [
              "<pre>+--------------------------------+--------------------------------------------------+----------+</pre>"
            ],
            "text/plain": [
              "+--------------------------------+--------------------------------------------------+----------+"
            ]
          },
          "metadata": {
            "tags": []
          }
        },
        {
          "output_type": "display_data",
          "data": {
            "text/html": [
              "<pre>| num_factors                    | Factor Dimension                                 | 32       |</pre>"
            ],
            "text/plain": [
              "| num_factors                    | Factor Dimension                                 | 32       |"
            ]
          },
          "metadata": {
            "tags": []
          }
        },
        {
          "output_type": "display_data",
          "data": {
            "text/html": [
              "<pre>| regularization                 | L2 Regularization on Factors                     | 1e-09    |</pre>"
            ],
            "text/plain": [
              "| regularization                 | L2 Regularization on Factors                     | 1e-09    |"
            ]
          },
          "metadata": {
            "tags": []
          }
        },
        {
          "output_type": "display_data",
          "data": {
            "text/html": [
              "<pre>| solver                         | Solver used for training                         | adagrad  |</pre>"
            ],
            "text/plain": [
              "| solver                         | Solver used for training                         | adagrad  |"
            ]
          },
          "metadata": {
            "tags": []
          }
        },
        {
          "output_type": "display_data",
          "data": {
            "text/html": [
              "<pre>| linear_regularization          | L2 Regularization on Linear Coefficients         | 1e-09    |</pre>"
            ],
            "text/plain": [
              "| linear_regularization          | L2 Regularization on Linear Coefficients         | 1e-09    |"
            ]
          },
          "metadata": {
            "tags": []
          }
        },
        {
          "output_type": "display_data",
          "data": {
            "text/html": [
              "<pre>| ranking_regularization         | Rank-based Regularization Weight                 | 0.25     |</pre>"
            ],
            "text/plain": [
              "| ranking_regularization         | Rank-based Regularization Weight                 | 0.25     |"
            ]
          },
          "metadata": {
            "tags": []
          }
        },
        {
          "output_type": "display_data",
          "data": {
            "text/html": [
              "<pre>| side_data_factorization        | Assign Factors for Side Data                     | True     |</pre>"
            ],
            "text/plain": [
              "| side_data_factorization        | Assign Factors for Side Data                     | True     |"
            ]
          },
          "metadata": {
            "tags": []
          }
        },
        {
          "output_type": "display_data",
          "data": {
            "text/html": [
              "<pre>| max_iterations                 | Maximum Number of Iterations                     | 25       |</pre>"
            ],
            "text/plain": [
              "| max_iterations                 | Maximum Number of Iterations                     | 25       |"
            ]
          },
          "metadata": {
            "tags": []
          }
        },
        {
          "output_type": "display_data",
          "data": {
            "text/html": [
              "<pre>+--------------------------------+--------------------------------------------------+----------+</pre>"
            ],
            "text/plain": [
              "+--------------------------------+--------------------------------------------------+----------+"
            ]
          },
          "metadata": {
            "tags": []
          }
        },
        {
          "output_type": "display_data",
          "data": {
            "text/html": [
              "<pre>  Optimizing model using SGD; tuning step size.</pre>"
            ],
            "text/plain": [
              "  Optimizing model using SGD; tuning step size."
            ]
          },
          "metadata": {
            "tags": []
          }
        },
        {
          "output_type": "display_data",
          "data": {
            "text/html": [
              "<pre>  Using 62590 / 500726 points for tuning the step size.</pre>"
            ],
            "text/plain": [
              "  Using 62590 / 500726 points for tuning the step size."
            ]
          },
          "metadata": {
            "tags": []
          }
        },
        {
          "output_type": "display_data",
          "data": {
            "text/html": [
              "<pre>+---------+-------------------+------------------------------------------+</pre>"
            ],
            "text/plain": [
              "+---------+-------------------+------------------------------------------+"
            ]
          },
          "metadata": {
            "tags": []
          }
        },
        {
          "output_type": "display_data",
          "data": {
            "text/html": [
              "<pre>| Attempt | Initial Step Size | Estimated Objective Value                |</pre>"
            ],
            "text/plain": [
              "| Attempt | Initial Step Size | Estimated Objective Value                |"
            ]
          },
          "metadata": {
            "tags": []
          }
        },
        {
          "output_type": "display_data",
          "data": {
            "text/html": [
              "<pre>+---------+-------------------+------------------------------------------+</pre>"
            ],
            "text/plain": [
              "+---------+-------------------+------------------------------------------+"
            ]
          },
          "metadata": {
            "tags": []
          }
        },
        {
          "output_type": "display_data",
          "data": {
            "text/html": [
              "<pre>| 0       | 3.57143           | Not Viable                               |</pre>"
            ],
            "text/plain": [
              "| 0       | 3.57143           | Not Viable                               |"
            ]
          },
          "metadata": {
            "tags": []
          }
        },
        {
          "output_type": "display_data",
          "data": {
            "text/html": [
              "<pre>| 1       | 0.892857          | Not Viable                               |</pre>"
            ],
            "text/plain": [
              "| 1       | 0.892857          | Not Viable                               |"
            ]
          },
          "metadata": {
            "tags": []
          }
        },
        {
          "output_type": "display_data",
          "data": {
            "text/html": [
              "<pre>| 2       | 0.223214          | Not Viable                               |</pre>"
            ],
            "text/plain": [
              "| 2       | 0.223214          | Not Viable                               |"
            ]
          },
          "metadata": {
            "tags": []
          }
        },
        {
          "output_type": "display_data",
          "data": {
            "text/html": [
              "<pre>| 3       | 0.0558036         | 0.00232813                               |</pre>"
            ],
            "text/plain": [
              "| 3       | 0.0558036         | 0.00232813                               |"
            ]
          },
          "metadata": {
            "tags": []
          }
        },
        {
          "output_type": "display_data",
          "data": {
            "text/html": [
              "<pre>| 4       | 0.0279018         | 0.00200941                               |</pre>"
            ],
            "text/plain": [
              "| 4       | 0.0279018         | 0.00200941                               |"
            ]
          },
          "metadata": {
            "tags": []
          }
        },
        {
          "output_type": "display_data",
          "data": {
            "text/html": [
              "<pre>| 5       | 0.0139509         | 0.00240762                               |</pre>"
            ],
            "text/plain": [
              "| 5       | 0.0139509         | 0.00240762                               |"
            ]
          },
          "metadata": {
            "tags": []
          }
        },
        {
          "output_type": "display_data",
          "data": {
            "text/html": [
              "<pre>| 6       | 0.00697545        | 0.00283982                               |</pre>"
            ],
            "text/plain": [
              "| 6       | 0.00697545        | 0.00283982                               |"
            ]
          },
          "metadata": {
            "tags": []
          }
        },
        {
          "output_type": "display_data",
          "data": {
            "text/html": [
              "<pre>| 7       | 0.00348772        | 0.0032648                                |</pre>"
            ],
            "text/plain": [
              "| 7       | 0.00348772        | 0.0032648                                |"
            ]
          },
          "metadata": {
            "tags": []
          }
        },
        {
          "output_type": "display_data",
          "data": {
            "text/html": [
              "<pre>+---------+-------------------+------------------------------------------+</pre>"
            ],
            "text/plain": [
              "+---------+-------------------+------------------------------------------+"
            ]
          },
          "metadata": {
            "tags": []
          }
        },
        {
          "output_type": "display_data",
          "data": {
            "text/html": [
              "<pre>| Final   | 0.0279018         | 0.00200941                               |</pre>"
            ],
            "text/plain": [
              "| Final   | 0.0279018         | 0.00200941                               |"
            ]
          },
          "metadata": {
            "tags": []
          }
        },
        {
          "output_type": "display_data",
          "data": {
            "text/html": [
              "<pre>+---------+-------------------+------------------------------------------+</pre>"
            ],
            "text/plain": [
              "+---------+-------------------+------------------------------------------+"
            ]
          },
          "metadata": {
            "tags": []
          }
        },
        {
          "output_type": "display_data",
          "data": {
            "text/html": [
              "<pre>Starting Optimization.</pre>"
            ],
            "text/plain": [
              "Starting Optimization."
            ]
          },
          "metadata": {
            "tags": []
          }
        },
        {
          "output_type": "display_data",
          "data": {
            "text/html": [
              "<pre>+---------+--------------+-------------------+-----------------------+-------------+</pre>"
            ],
            "text/plain": [
              "+---------+--------------+-------------------+-----------------------+-------------+"
            ]
          },
          "metadata": {
            "tags": []
          }
        },
        {
          "output_type": "display_data",
          "data": {
            "text/html": [
              "<pre>| Iter.   | Elapsed Time | Approx. Objective | Approx. Training RMSE | Step Size   |</pre>"
            ],
            "text/plain": [
              "| Iter.   | Elapsed Time | Approx. Objective | Approx. Training RMSE | Step Size   |"
            ]
          },
          "metadata": {
            "tags": []
          }
        },
        {
          "output_type": "display_data",
          "data": {
            "text/html": [
              "<pre>+---------+--------------+-------------------+-----------------------+-------------+</pre>"
            ],
            "text/plain": [
              "+---------+--------------+-------------------+-----------------------+-------------+"
            ]
          },
          "metadata": {
            "tags": []
          }
        },
        {
          "output_type": "display_data",
          "data": {
            "text/html": [
              "<pre>| Initial | 188us        | 0.005964          | 0.0550945             |             |</pre>"
            ],
            "text/plain": [
              "| Initial | 188us        | 0.005964          | 0.0550945             |             |"
            ]
          },
          "metadata": {
            "tags": []
          }
        },
        {
          "output_type": "display_data",
          "data": {
            "text/html": [
              "<pre>+---------+--------------+-------------------+-----------------------+-------------+</pre>"
            ],
            "text/plain": [
              "+---------+--------------+-------------------+-----------------------+-------------+"
            ]
          },
          "metadata": {
            "tags": []
          }
        },
        {
          "output_type": "display_data",
          "data": {
            "text/html": [
              "<pre>| 1       | 4.52s        | 0.00337367        | 0.0469845             | 0.0279018   |</pre>"
            ],
            "text/plain": [
              "| 1       | 4.52s        | 0.00337367        | 0.0469845             | 0.0279018   |"
            ]
          },
          "metadata": {
            "tags": []
          }
        },
        {
          "output_type": "display_data",
          "data": {
            "text/html": [
              "<pre>| 2       | 8.71s        | 0.0023057         | 0.0370343             | 0.0279018   |</pre>"
            ],
            "text/plain": [
              "| 2       | 8.71s        | 0.0023057         | 0.0370343             | 0.0279018   |"
            ]
          },
          "metadata": {
            "tags": []
          }
        },
        {
          "output_type": "display_data",
          "data": {
            "text/html": [
              "<pre>| 3       | 12.76s       | 0.0019022         | 0.0326482             | 0.0279018   |</pre>"
            ],
            "text/plain": [
              "| 3       | 12.76s       | 0.0019022         | 0.0326482             | 0.0279018   |"
            ]
          },
          "metadata": {
            "tags": []
          }
        },
        {
          "output_type": "display_data",
          "data": {
            "text/html": [
              "<pre>| 4       | 16.81s       | 0.00168241        | 0.0298854             | 0.0279018   |</pre>"
            ],
            "text/plain": [
              "| 4       | 16.81s       | 0.00168241        | 0.0298854             | 0.0279018   |"
            ]
          },
          "metadata": {
            "tags": []
          }
        },
        {
          "output_type": "display_data",
          "data": {
            "text/html": [
              "<pre>| 5       | 20.73s       | 0.00151505        | 0.0277782             | 0.0279018   |</pre>"
            ],
            "text/plain": [
              "| 5       | 20.73s       | 0.00151505        | 0.0277782             | 0.0279018   |"
            ]
          },
          "metadata": {
            "tags": []
          }
        },
        {
          "output_type": "display_data",
          "data": {
            "text/html": [
              "<pre>| 7       | 28.44s       | 0.00134406        | 0.0255181             | 0.0279018   |</pre>"
            ],
            "text/plain": [
              "| 7       | 28.44s       | 0.00134406        | 0.0255181             | 0.0279018   |"
            ]
          },
          "metadata": {
            "tags": []
          }
        },
        {
          "output_type": "display_data",
          "data": {
            "text/html": [
              "<pre>| 8       | 32.29s       | 0.00123261        | 0.0236581             | 0.0279018   |</pre>"
            ],
            "text/plain": [
              "| 8       | 32.29s       | 0.00123261        | 0.0236581             | 0.0279018   |"
            ]
          },
          "metadata": {
            "tags": []
          }
        },
        {
          "output_type": "display_data",
          "data": {
            "text/html": [
              "<pre>| 9       | 36.30s       | 0.00119917        | 0.0232524             | 0.0279018   |</pre>"
            ],
            "text/plain": [
              "| 9       | 36.30s       | 0.00119917        | 0.0232524             | 0.0279018   |"
            ]
          },
          "metadata": {
            "tags": []
          }
        },
        {
          "output_type": "display_data",
          "data": {
            "text/html": [
              "<pre>| 10      | 40.33s       | 0.00115146        | 0.0225547             | 0.0279018   |</pre>"
            ],
            "text/plain": [
              "| 10      | 40.33s       | 0.00115146        | 0.0225547             | 0.0279018   |"
            ]
          },
          "metadata": {
            "tags": []
          }
        },
        {
          "output_type": "display_data",
          "data": {
            "text/html": [
              "<pre>| 11      | 44.37s       | 0.00109271        | 0.021373              | 0.0279018   |</pre>"
            ],
            "text/plain": [
              "| 11      | 44.37s       | 0.00109271        | 0.021373              | 0.0279018   |"
            ]
          },
          "metadata": {
            "tags": []
          }
        },
        {
          "output_type": "display_data",
          "data": {
            "text/html": [
              "<pre>| 12      | 48.43s       | 0.00105837        | 0.0207665             | 0.0279018   |</pre>"
            ],
            "text/plain": [
              "| 12      | 48.43s       | 0.00105837        | 0.0207665             | 0.0279018   |"
            ]
          },
          "metadata": {
            "tags": []
          }
        },
        {
          "output_type": "display_data",
          "data": {
            "text/html": [
              "<pre>| 13      | 52.30s       | 0.00103441        | 0.0204363             | 0.0279018   |</pre>"
            ],
            "text/plain": [
              "| 13      | 52.30s       | 0.00103441        | 0.0204363             | 0.0279018   |"
            ]
          },
          "metadata": {
            "tags": []
          }
        },
        {
          "output_type": "display_data",
          "data": {
            "text/html": [
              "<pre>| 14      | 56.21s       | 0.00100079        | 0.0198785             | 0.0279018   |</pre>"
            ],
            "text/plain": [
              "| 14      | 56.21s       | 0.00100079        | 0.0198785             | 0.0279018   |"
            ]
          },
          "metadata": {
            "tags": []
          }
        },
        {
          "output_type": "display_data",
          "data": {
            "text/html": [
              "<pre>| 15      | 1m 0s        | 0.00098694        | 0.0197591             | 0.0279018   |</pre>"
            ],
            "text/plain": [
              "| 15      | 1m 0s        | 0.00098694        | 0.0197591             | 0.0279018   |"
            ]
          },
          "metadata": {
            "tags": []
          }
        },
        {
          "output_type": "display_data",
          "data": {
            "text/html": [
              "<pre>| 16      | 1m 3s        | 0.000969217       | 0.0193729             | 0.0279018   |</pre>"
            ],
            "text/plain": [
              "| 16      | 1m 3s        | 0.000969217       | 0.0193729             | 0.0279018   |"
            ]
          },
          "metadata": {
            "tags": []
          }
        },
        {
          "output_type": "display_data",
          "data": {
            "text/html": [
              "<pre>| 17      | 1m 7s        | 0.000969951       | 0.0195216             | 0.0279018   |</pre>"
            ],
            "text/plain": [
              "| 17      | 1m 7s        | 0.000969951       | 0.0195216             | 0.0279018   |"
            ]
          },
          "metadata": {
            "tags": []
          }
        },
        {
          "output_type": "display_data",
          "data": {
            "text/html": [
              "<pre>| 18      | 1m 11s       | 0.000936669       | 0.0188345             | 0.0279018   |</pre>"
            ],
            "text/plain": [
              "| 18      | 1m 11s       | 0.000936669       | 0.0188345             | 0.0279018   |"
            ]
          },
          "metadata": {
            "tags": []
          }
        },
        {
          "output_type": "display_data",
          "data": {
            "text/html": [
              "<pre>| 19      | 1m 15s       | 0.000927288       | 0.0186662             | 0.0279018   |</pre>"
            ],
            "text/plain": [
              "| 19      | 1m 15s       | 0.000927288       | 0.0186662             | 0.0279018   |"
            ]
          },
          "metadata": {
            "tags": []
          }
        },
        {
          "output_type": "display_data",
          "data": {
            "text/html": [
              "<pre>| 20      | 1m 18s       | 0.000916333       | 0.018572              | 0.0279018   |</pre>"
            ],
            "text/plain": [
              "| 20      | 1m 18s       | 0.000916333       | 0.018572              | 0.0279018   |"
            ]
          },
          "metadata": {
            "tags": []
          }
        },
        {
          "output_type": "display_data",
          "data": {
            "text/html": [
              "<pre>| 21      | 1m 22s       | 0.000906497       | 0.0183741             | 0.0279018   |</pre>"
            ],
            "text/plain": [
              "| 21      | 1m 22s       | 0.000906497       | 0.0183741             | 0.0279018   |"
            ]
          },
          "metadata": {
            "tags": []
          }
        },
        {
          "output_type": "display_data",
          "data": {
            "text/html": [
              "<pre>| 22      | 1m 26s       | 0.000895207       | 0.0182612             | 0.0279018   |</pre>"
            ],
            "text/plain": [
              "| 22      | 1m 26s       | 0.000895207       | 0.0182612             | 0.0279018   |"
            ]
          },
          "metadata": {
            "tags": []
          }
        },
        {
          "output_type": "display_data",
          "data": {
            "text/html": [
              "<pre>| 23      | 1m 29s       | 0.000887861       | 0.018001              | 0.0279018   |</pre>"
            ],
            "text/plain": [
              "| 23      | 1m 29s       | 0.000887861       | 0.018001              | 0.0279018   |"
            ]
          },
          "metadata": {
            "tags": []
          }
        },
        {
          "output_type": "display_data",
          "data": {
            "text/html": [
              "<pre>| 24      | 1m 33s       | 0.00087608        | 0.0178193             | 0.0279018   |</pre>"
            ],
            "text/plain": [
              "| 24      | 1m 33s       | 0.00087608        | 0.0178193             | 0.0279018   |"
            ]
          },
          "metadata": {
            "tags": []
          }
        },
        {
          "output_type": "display_data",
          "data": {
            "text/html": [
              "<pre>| 25      | 1m 37s       | 0.000865186       | 0.0177071             | 0.0279018   |</pre>"
            ],
            "text/plain": [
              "| 25      | 1m 37s       | 0.000865186       | 0.0177071             | 0.0279018   |"
            ]
          },
          "metadata": {
            "tags": []
          }
        },
        {
          "output_type": "display_data",
          "data": {
            "text/html": [
              "<pre>+---------+--------------+-------------------+-----------------------+-------------+</pre>"
            ],
            "text/plain": [
              "+---------+--------------+-------------------+-----------------------+-------------+"
            ]
          },
          "metadata": {
            "tags": []
          }
        },
        {
          "output_type": "display_data",
          "data": {
            "text/html": [
              "<pre>Optimization Complete: Maximum number of passes through the data reached.</pre>"
            ],
            "text/plain": [
              "Optimization Complete: Maximum number of passes through the data reached."
            ]
          },
          "metadata": {
            "tags": []
          }
        },
        {
          "output_type": "display_data",
          "data": {
            "text/html": [
              "<pre>Computing final objective value and training RMSE.</pre>"
            ],
            "text/plain": [
              "Computing final objective value and training RMSE."
            ]
          },
          "metadata": {
            "tags": []
          }
        },
        {
          "output_type": "display_data",
          "data": {
            "text/html": [
              "<pre>       Final objective value: 0.000963559</pre>"
            ],
            "text/plain": [
              "       Final objective value: 0.000963559"
            ]
          },
          "metadata": {
            "tags": []
          }
        },
        {
          "output_type": "display_data",
          "data": {
            "text/html": [
              "<pre>       Final training RMSE: 0.0171763</pre>"
            ],
            "text/plain": [
              "       Final training RMSE: 0.0171763"
            ]
          },
          "metadata": {
            "tags": []
          }
        }
      ]
    },
    {
      "cell_type": "code",
      "metadata": {
        "id": "9shm_vcJOYLb"
      },
      "source": [
        "item_add = tc.SArray(raw_data['Material']\n",
        "[(raw_data[' Sistema'] != 'INFRAESTRUTURA')\n",
        " &(raw_data[' Sistema'] != 'IRRIGACAO') \n",
        " &(raw_data[' Sistema'] != 'INDUSTRIAL')\n",
        " &(raw_data[' Sistema'] != 'IMOBILIÁRIO' )\n",
        "  &(raw_data[' Sistema'] != 'ARTÍSTICO' )\n",
        " ].drop_duplicates())"
      ],
      "execution_count": null,
      "outputs": []
    },
    {
      "cell_type": "code",
      "metadata": {
        "id": "_JcH4XW5Xr__"
      },
      "source": [
        "#&(raw_data[' Processo'] != 'EXTRUSAO')"
      ],
      "execution_count": null,
      "outputs": []
    },
    {
      "cell_type": "code",
      "metadata": {
        "id": "51dnutu_LpOv"
      },
      "source": [
        "Y = []\n",
        "for cli in raw_data.cod_cli.unique():\n",
        "  X = model.recommend(users=[cli],items=item_add )\n",
        "  if pd.DataFrame(Y).shape[0] == 0:\n",
        "    Y = X\n",
        "  else:\n",
        "    Y = Y.append(X)"
      ],
      "execution_count": null,
      "outputs": []
    },
    {
      "cell_type": "code",
      "metadata": {
        "colab": {
          "base_uri": "https://localhost:8080/"
        },
        "id": "wlomwmeTmF-X",
        "outputId": "10b5a6ae-55a8-4bb9-cc04-d4829ed3056e"
      },
      "source": [
        "recom= pd.DataFrame(Y)\n",
        "recom.head()"
      ],
      "execution_count": null,
      "outputs": [
        {
          "output_type": "execute_result",
          "data": {
            "text/html": [
              "<div>\n",
              "<style scoped>\n",
              "    .dataframe tbody tr th:only-of-type {\n",
              "        vertical-align: middle;\n",
              "    }\n",
              "\n",
              "    .dataframe tbody tr th {\n",
              "        vertical-align: top;\n",
              "    }\n",
              "\n",
              "    .dataframe thead th {\n",
              "        text-align: right;\n",
              "    }\n",
              "</style>\n",
              "<table border=\"1\" class=\"dataframe\">\n",
              "  <thead>\n",
              "    <tr style=\"text-align: right;\">\n",
              "      <th></th>\n",
              "      <th>cod_cli</th>\n",
              "      <th>Material</th>\n",
              "      <th>score</th>\n",
              "      <th>rank</th>\n",
              "    </tr>\n",
              "  </thead>\n",
              "  <tbody>\n",
              "    <tr>\n",
              "      <th>0</th>\n",
              "      <td>1044791</td>\n",
              "      <td>26916305</td>\n",
              "      <td>-0.04</td>\n",
              "      <td>1</td>\n",
              "    </tr>\n",
              "    <tr>\n",
              "      <th>1</th>\n",
              "      <td>1044791</td>\n",
              "      <td>27950310</td>\n",
              "      <td>-0.06</td>\n",
              "      <td>2</td>\n",
              "    </tr>\n",
              "    <tr>\n",
              "      <th>2</th>\n",
              "      <td>1044791</td>\n",
              "      <td>27801145</td>\n",
              "      <td>-0.06</td>\n",
              "      <td>3</td>\n",
              "    </tr>\n",
              "    <tr>\n",
              "      <th>3</th>\n",
              "      <td>1044791</td>\n",
              "      <td>26916500</td>\n",
              "      <td>-0.06</td>\n",
              "      <td>4</td>\n",
              "    </tr>\n",
              "    <tr>\n",
              "      <th>4</th>\n",
              "      <td>1044791</td>\n",
              "      <td>22851659</td>\n",
              "      <td>-0.06</td>\n",
              "      <td>5</td>\n",
              "    </tr>\n",
              "  </tbody>\n",
              "</table>\n",
              "</div>"
            ],
            "text/plain": [
              "   cod_cli  Material  score  rank\n",
              "0  1044791  26916305  -0.04     1\n",
              "1  1044791  27950310  -0.06     2\n",
              "2  1044791  27801145  -0.06     3\n",
              "3  1044791  26916500  -0.06     4\n",
              "4  1044791  22851659  -0.06     5"
            ]
          },
          "metadata": {
            "tags": []
          },
          "execution_count": 78
        }
      ]
    },
    {
      "cell_type": "code",
      "metadata": {
        "id": "lb9VYVg-X2ij"
      },
      "source": [
        "recom.to_csv('/content/drive/My Drive/Colab Notebooks/Data/recomendacoes_Tigre_Varejo.csv')"
      ],
      "execution_count": null,
      "outputs": []
    },
    {
      "cell_type": "code",
      "metadata": {
        "colab": {
          "base_uri": "https://localhost:8080/"
        },
        "id": "hdlNlKdBzMfO",
        "outputId": "2dc630af-8e12-4e76-bd07-decea61b04c1"
      },
      "source": [
        "recom.cod_cli.nunique()"
      ],
      "execution_count": null,
      "outputs": [
        {
          "output_type": "execute_result",
          "data": {
            "text/plain": [
              "13154"
            ]
          },
          "metadata": {
            "tags": []
          },
          "execution_count": 80
        }
      ]
    },
    {
      "cell_type": "code",
      "metadata": {
        "colab": {
          "base_uri": "https://localhost:8080/"
        },
        "id": "icGGyb9Pu2Kz",
        "outputId": "11121083-3d46-42a9-c855-bcaa5d09af93"
      },
      "source": [
        "recom.Material.nunique()"
      ],
      "execution_count": null,
      "outputs": [
        {
          "output_type": "execute_result",
          "data": {
            "text/plain": [
              "271"
            ]
          },
          "metadata": {
            "tags": []
          },
          "execution_count": 81
        }
      ]
    },
    {
      "cell_type": "code",
      "metadata": {
        "colab": {
          "base_uri": "https://localhost:8080/"
        },
        "id": "dy7AMl1HuvFe",
        "outputId": "93708ed8-8dfa-495b-b9a2-01fa3fc01847"
      },
      "source": [
        "recom.Material.value_counts()"
      ],
      "execution_count": null,
      "outputs": [
        {
          "output_type": "execute_result",
          "data": {
            "text/plain": [
              "26915856     3779\n",
              "26915848     3671\n",
              "11031030     3653\n",
              "33046979     3473\n",
              "100019323    3265\n",
              "             ... \n",
              "37051101        3\n",
              "27150128        3\n",
              "26752124        2\n",
              "53201849        2\n",
              "37050750        1\n",
              "Name: Material, Length: 271, dtype: int64"
            ]
          },
          "metadata": {
            "tags": []
          },
          "execution_count": 82
        }
      ]
    },
    {
      "cell_type": "code",
      "metadata": {
        "id": "v0ANTOhSN-Wi"
      },
      "source": [
        "column_values = raw_data[['Material',' Processo']].drop_duplicates()"
      ],
      "execution_count": null,
      "outputs": []
    },
    {
      "cell_type": "code",
      "metadata": {
        "id": "4U_DonWGCEPI"
      },
      "source": [
        "Avaliacao_Resultado = recom.merge(column_values, how= 'left', on= 'Material')"
      ],
      "execution_count": null,
      "outputs": []
    },
    {
      "cell_type": "code",
      "metadata": {
        "colab": {
          "base_uri": "https://localhost:8080/"
        },
        "id": "oWYzFThfDt3g",
        "outputId": "762c249f-7d84-4cc6-924b-6d5c93e62a34"
      },
      "source": [
        "Avaliacao_Resultado[' Processo'].value_counts()"
      ],
      "execution_count": null,
      "outputs": [
        {
          "output_type": "execute_result",
          "data": {
            "text/plain": [
              "INJECAO         86068\n",
              "EXTRUSAO        38313\n",
              "TERCEIRO         4173\n",
              "ROTOMOLDAGEM     1504\n",
              "SOPRO            1482\n",
              "Name:  Processo, dtype: int64"
            ]
          },
          "metadata": {
            "tags": []
          },
          "execution_count": 85
        }
      ]
    },
    {
      "cell_type": "code",
      "metadata": {
        "id": "-ceI7Ro-oZ2G",
        "colab": {
          "base_uri": "https://localhost:8080/"
        },
        "outputId": "4660d3a2-5635-4c9b-f16b-0c65c0e293ff"
      },
      "source": [
        "ax = sns.distplot(recom.score)\n",
        "plot_is = ax.set(title='distribuição dos ratings por cliente/produto')"
      ],
      "execution_count": null,
      "outputs": [
        {
          "output_type": "stream",
          "text": [
            "/usr/local/lib/python3.7/dist-packages/seaborn/distributions.py:2557: FutureWarning: `distplot` is a deprecated function and will be removed in a future version. Please adapt your code to use either `displot` (a figure-level function with similar flexibility) or `histplot` (an axes-level function for histograms).\n",
            "  warnings.warn(msg, FutureWarning)\n"
          ],
          "name": "stderr"
        },
        {
          "output_type": "display_data",
          "data": {
            "image/png": "[encoded data removed]",
            "text/plain": [
              "<Figure size 432x288 with 1 Axes>"
            ]
          },
          "metadata": {
            "tags": [],
            "needs_background": "light"
          }
        }
      ]
    },
    {
      "cell_type": "code",
      "metadata": {
        "id": "Oei9BzABvMPI",
        "colab": {
          "base_uri": "https://localhost:8080/"
        },
        "outputId": "66a0b43a-9592-4531-8649-afc72618a084"
      },
      "source": [
        "fig, ax = plt.subplots(figsize=(16,5))\n",
        "sns.boxplot(x=recom.score)\n",
        "plot_is = ax.set(title='Avaliação Geral')"
      ],
      "execution_count": null,
      "outputs": [
        {
          "output_type": "display_data",
          "data": {
            "image/png": "[encoded data removed]",
            "text/plain": [
              "<Figure size 1152x360 with 1 Axes>"
            ]
          },
          "metadata": {
            "tags": [],
            "needs_background": "light"
          }
        }
      ]
    },
    {
      "cell_type": "code",
      "metadata": {
        "id": "1XDYDQXTvga2",
        "colab": {
          "base_uri": "https://localhost:8080/"
        },
        "outputId": "6ab34a12-3678-44d7-8f50-e948e61b724f"
      },
      "source": [
        "print(\"Media :  {}\\nMax : {} \\nMin : {}\\nDesvio :{}\".format(recom.score.groupby(recom['rank']).mean(),recom.score.groupby(recom['rank']).max(),recom.score.groupby(recom['rank']).min(),recom.score.groupby(recom['rank']).std()))"
      ],
      "execution_count": null,
      "outputs": [
        {
          "output_type": "stream",
          "text": [
            "Media :  rank\n",
            "1     0.05\n",
            "2     0.03\n",
            "3     0.02\n",
            "4     0.01\n",
            "5     0.00\n",
            "6     0.00\n",
            "7    -0.00\n",
            "8    -0.01\n",
            "9    -0.01\n",
            "10   -0.01\n",
            "Name: score, dtype: float64\n",
            "Max : rank\n",
            "1    0.83\n",
            "2    0.66\n",
            "3    0.64\n",
            "4    0.62\n",
            "5    0.60\n",
            "6    0.60\n",
            "7    0.54\n",
            "8    0.53\n",
            "9    0.52\n",
            "10   0.52\n",
            "Name: score, dtype: float64 \n",
            "Min : rank\n",
            "1    -0.10\n",
            "2    -0.10\n",
            "3    -0.10\n",
            "4    -0.11\n",
            "5    -0.11\n",
            "6    -0.11\n",
            "7    -0.11\n",
            "8    -0.11\n",
            "9    -0.11\n",
            "10   -0.12\n",
            "Name: score, dtype: float64\n",
            "Desvio :rank\n",
            "1    0.10\n",
            "2    0.09\n",
            "3    0.08\n",
            "4    0.07\n",
            "5    0.07\n",
            "6    0.07\n",
            "7    0.07\n",
            "8    0.06\n",
            "9    0.06\n",
            "10   0.06\n",
            "Name: score, dtype: float64\n"
          ],
          "name": "stdout"
        }
      ]
    },
    {
      "cell_type": "code",
      "metadata": {
        "id": "85we4XNLtfZZ"
      },
      "source": [
        "fig, ax = plt.subplots(figsize=(16,40))\n",
        "sns.boxplot(x=recom.score, y=recom.Material)\n",
        "plot_is = ax.set(title='Avaliação por Produto Recomendado')"
      ],
      "execution_count": null,
      "outputs": []
    },
    {
      "cell_type": "code",
      "metadata": {
        "id": "eV7BrSf1uPq6"
      },
      "source": [
        ""
      ],
      "execution_count": null,
      "outputs": []
    }
  ]
}